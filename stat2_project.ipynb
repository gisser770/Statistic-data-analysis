{
 "cells": [
  {
   "cell_type": "code",
   "execution_count": 243,
   "id": "9179e0e4",
   "metadata": {},
   "outputs": [],
   "source": [
    "#all imports\n",
    "import pandas as pd\n",
    "from numpy import nan\n",
    "from numpy.linalg import inv\n",
    "import numpy as np\n",
    "import matplotlib.pyplot as plt\n",
    "import matplotlib.patches as mpatches\n",
    "from matplotlib.pyplot import figure\n",
    "import seaborn as sns\n",
    "from scipy import stats\n",
    "from scipy.stats import t, norm\n",
    "import scipy.stats as stats\n",
    "import statsmodels.api as sm\n",
    "import math as m\n",
    "from collections import defaultdict\n",
    "from sklearn.linear_model import LogisticRegression"
   ]
  },
  {
   "cell_type": "markdown",
   "id": "b13cd805",
   "metadata": {},
   "source": [
    "# In the begining we will \"fill\" the data"
   ]
  },
  {
   "cell_type": "code",
   "execution_count": 114,
   "id": "d3d2f4db",
   "metadata": {},
   "outputs": [],
   "source": [
    "#upload the data\n",
    "df = pd.read_csv(\"adult.csv\")\n",
    "df = df[[\"age\", \"workclass\",\"education\",\"educational-num\", \"marital-status\", \"occupation\",\n",
    "         \"race\", \"gender\", \"hours-per-week\", \"native-country\", \"income\"]]"
   ]
  },
  {
   "cell_type": "code",
   "execution_count": 115,
   "id": "048f1766",
   "metadata": {},
   "outputs": [],
   "source": [
    "#for now we will drop all missing values \n",
    "df = df.replace('?',nan)\n",
    "num_of_nulls = df.isnull().sum()\n",
    "no_null_df = df.dropna()\n",
    "len_of_no_null_df = len(no_null_df)"
   ]
  },
  {
   "cell_type": "code",
   "execution_count": 116,
   "id": "d8f01e63",
   "metadata": {},
   "outputs": [],
   "source": [
    "# function for creating histogram for numerical variables, which also calculates the min, max, mean, and median values.\n",
    "def make_numerical_hist(vec,xlabel, ylabel):\n",
    "  plt.hist(vec)\n",
    "  plt.title(f'Histogram num of {ylabel} per {xlabel}')\n",
    "  plt.xlabel(xlabel)\n",
    "  plt.ylabel(f'Num of {ylabel} ')\n",
    "  plt.show()\n",
    "  print(f'minimum value {int(vec.min())}', end=' \\t')\n",
    "  print(f'maximum value {int(vec.max())}', end='\\t')\n",
    "  print(f'meam value {vec.mean():.3f}', end='\\t')\n",
    "  print(f'median value {int(sorted(vec)[vec.shape[0]//2])}')"
   ]
  },
  {
   "cell_type": "code",
   "execution_count": 117,
   "id": "03d9fba7",
   "metadata": {},
   "outputs": [],
   "source": [
    "# function for creating histogram for categorial variables\n",
    "def make_categorial_hist(df,xlabel):\n",
    "    plt.figure(figsize=(25,5))\n",
    "    total = float(len(df['income']))\n",
    "    a = sns.countplot(x=xlabel,data=df)\n",
    "    for f in a.patches:\n",
    "        height = f.get_height()\n",
    "        a.text(f.get_x() + f.get_width()/2., height+3, '{}'.format(height),ha=\"center\")\n",
    "    plt.ylabel('Num of People')\n",
    "    plt.title(f'Histogram num of people per {xlabel}')\n",
    "    plt.show()"
   ]
  },
  {
   "cell_type": "code",
   "execution_count": 118,
   "id": "f289fe5c",
   "metadata": {},
   "outputs": [],
   "source": [
    "# function for creating histogram for binary variables\n",
    "def make_binary_hist(df,xlabel):\n",
    "    plt.figure(figsize=(5,5))\n",
    "    total = float(len(df['income']))\n",
    "    a = sns.countplot(x=xlabel,data=df)\n",
    "    for f in a.patches:\n",
    "        height = f.get_height()\n",
    "        a.text(f.get_x() + f.get_width()/2., height+3, '{}'.format(height),ha=\"center\")\n",
    "    plt.ylabel('Num of People')\n",
    "    plt.title(f'Histogram num of people per {xlabel}')\n",
    "    plt.show()"
   ]
  },
  {
   "cell_type": "code",
   "execution_count": 119,
   "id": "0bd19e17",
   "metadata": {},
   "outputs": [],
   "source": [
    "#calculate number of outliers for given field\n",
    "def calc_outliers(field, df):\n",
    "    # finding the 1st quartile\n",
    "    q1 = np.quantile(df[field], 0.25)\n",
    "    # finding the 3rd quartile\n",
    "    q3 = np.quantile(df[field], 0.75)\n",
    "    med = np.median(df[field])\n",
    "    # finding the iqr region\n",
    "    iqr = q3-q1\n",
    "    # finding upper and lower whiskers\n",
    "    upper_bound = q3+(1.5*iqr)\n",
    "    lower_bound = q1-(1.5*iqr)\n",
    "    buttom_outliers = df[field][(df[field] <= lower_bound)]\n",
    "    top_outliers = df[field][(df[field] >= upper_bound)]\n",
    "    outliers = df[field][(df[field] <= lower_bound) | (df[field] >= upper_bound)]\n",
    "    num_of_outliers = len(outliers)\n",
    "    print (f'upper bound whisker is: {upper_bound} \\nlower bound whisker is: {lower_bound}\\nnum of total outliers for {field}: {num_of_outliers}')"
   ]
  },
  {
   "cell_type": "markdown",
   "id": "a49fab55",
   "metadata": {},
   "source": [
    "## In the cells below we will show the histograms and some statistics analyzing of our variables "
   ]
  },
  {
   "cell_type": "code",
   "execution_count": 120,
   "id": "6a02f1df",
   "metadata": {},
   "outputs": [
    {
     "data": {
      "image/png": "[encoded data removed]",
      "text/plain": [
       "<Figure size 432x288 with 1 Axes>"
      ]
     },
     "metadata": {
      "needs_background": "light"
     },
     "output_type": "display_data"
    },
    {
     "name": "stdout",
     "output_type": "stream",
     "text": [
      "minimum value 1 \tmaximum value 99\tmeam value 40.938\tmedian value 40\n"
     ]
    }
   ],
   "source": [
    "make_numerical_hist(no_null_df['hours-per-week'], 'hours-per-week', 'People')"
   ]
  },
  {
   "cell_type": "code",
   "execution_count": 121,
   "id": "87ffc3ff",
   "metadata": {},
   "outputs": [
    {
     "name": "stdout",
     "output_type": "stream",
     "text": [
      "upper bound whisker is: 52.5 \n",
      "lower bound whisker is: 32.5\n",
      "num of total outliers for hours-per-week: 11899\n"
     ]
    }
   ],
   "source": [
    "calc_outliers('hours-per-week', no_null_df)"
   ]
  },
  {
   "cell_type": "code",
   "execution_count": 122,
   "id": "0ffef3f5",
   "metadata": {},
   "outputs": [
    {
     "data": {
      "image/png": "[encoded data removed]",
      "text/plain": [
       "<Figure size 432x288 with 1 Axes>"
      ]
     },
     "metadata": {
      "needs_background": "light"
     },
     "output_type": "display_data"
    },
    {
     "name": "stdout",
     "output_type": "stream",
     "text": [
      "minimum value 17 \tmaximum value 90\tmeam value 38.548\tmedian value 37\n"
     ]
    }
   ],
   "source": [
    "make_numerical_hist(no_null_df['age'], 'age', 'People')"
   ]
  },
  {
   "cell_type": "code",
   "execution_count": 123,
   "id": "a6243091",
   "metadata": {},
   "outputs": [
    {
     "name": "stdout",
     "output_type": "stream",
     "text": [
      "upper bound whisker is: 75.5 \n",
      "lower bound whisker is: -0.5\n",
      "num of total outliers for age: 269\n"
     ]
    }
   ],
   "source": [
    "calc_outliers('age', no_null_df)"
   ]
  },
  {
   "cell_type": "code",
   "execution_count": 124,
   "id": "412b68a0",
   "metadata": {},
   "outputs": [
    {
     "data": {
      "image/png": "[encoded data removed]",
      "text/plain": [
       "<Figure size 720x720 with 1 Axes>"
      ]
     },
     "metadata": {
      "needs_background": "light"
     },
     "output_type": "display_data"
    }
   ],
   "source": [
    "fig = plt.figure(figsize=(10,10)) \n",
    "sns.boxplot(x=\"income\", y=\"age\", data=no_null_df)\n",
    "plt.title('Age per income type')\n",
    "\n",
    "plt.show()"
   ]
  },
  {
   "cell_type": "code",
   "execution_count": 125,
   "id": "e24329fc",
   "metadata": {},
   "outputs": [
    {
     "data": {
      "image/png": "[encoded data removed]",
      "text/plain": [
       "<Figure size 1800x360 with 1 Axes>"
      ]
     },
     "metadata": {
      "needs_background": "light"
     },
     "output_type": "display_data"
    }
   ],
   "source": [
    "make_categorial_hist(no_null_df,'workclass')"
   ]
  },
  {
   "cell_type": "code",
   "execution_count": 126,
   "id": "1b776979",
   "metadata": {},
   "outputs": [
    {
     "data": {
      "image/png": "[encoded data removed]",
      "text/plain": [
       "<Figure size 1800x360 with 1 Axes>"
      ]
     },
     "metadata": {
      "needs_background": "light"
     },
     "output_type": "display_data"
    }
   ],
   "source": [
    "make_categorial_hist(no_null_df,'education')"
   ]
  },
  {
   "cell_type": "code",
   "execution_count": 127,
   "id": "72de04c2",
   "metadata": {},
   "outputs": [
    {
     "name": "stdout",
     "output_type": "stream",
     "text": [
      "{'Preschool': 1, '1st-4th': 2, '5th-6th': 3, '7th-8th': 4, '9th': 5, '10th': 6, '11th': 7, '12th': 8, 'HS-grad': 9, 'Some-college': 10, 'Assoc-voc': 11, 'Assoc-acdm': 12, 'Bachelors': 13, 'Masters': 14, 'Prof-school': 15, 'Doctorate': 16}\n"
     ]
    }
   ],
   "source": [
    "# Creating a dictionary that contain the education and it's corresponding educational-num\n",
    "edu_level = {}\n",
    "for x,y in no_null_df[['educational-num','education']].drop_duplicates().itertuples(index=False):\n",
    "    edu_level[y] = x\n",
    "sorted_edu_level = {k: v for k, v in sorted(edu_level.items(), key=lambda item: item[1])}\n",
    "print(sorted_edu_level)"
   ]
  },
  {
   "cell_type": "code",
   "execution_count": 128,
   "id": "dd2744c7",
   "metadata": {},
   "outputs": [
    {
     "data": {
      "image/png": "[encoded data removed]",
      "text/plain": [
       "<Figure size 1800x360 with 1 Axes>"
      ]
     },
     "metadata": {
      "needs_background": "light"
     },
     "output_type": "display_data"
    }
   ],
   "source": [
    "make_categorial_hist(no_null_df,'educational-num')"
   ]
  },
  {
   "cell_type": "code",
   "execution_count": 129,
   "id": "1155cad7",
   "metadata": {},
   "outputs": [
    {
     "data": {
      "image/png": "[encoded data removed]",
      "text/plain": [
       "<Figure size 1800x360 with 1 Axes>"
      ]
     },
     "metadata": {
      "needs_background": "light"
     },
     "output_type": "display_data"
    }
   ],
   "source": [
    "make_categorial_hist(no_null_df,'marital-status')"
   ]
  },
  {
   "cell_type": "code",
   "execution_count": 130,
   "id": "449727f1",
   "metadata": {},
   "outputs": [
    {
     "data": {
      "image/png": "[encoded data removed]",
      "text/plain": [
       "<Figure size 1800x360 with 1 Axes>"
      ]
     },
     "metadata": {
      "needs_background": "light"
     },
     "output_type": "display_data"
    }
   ],
   "source": [
    "make_categorial_hist(no_null_df,'occupation')"
   ]
  },
  {
   "cell_type": "code",
   "execution_count": 131,
   "id": "bbed22ab",
   "metadata": {},
   "outputs": [
    {
     "data": {
      "image/png": "[encoded data removed]",
      "text/plain": [
       "<Figure size 1800x360 with 1 Axes>"
      ]
     },
     "metadata": {
      "needs_background": "light"
     },
     "output_type": "display_data"
    }
   ],
   "source": [
    "make_categorial_hist(no_null_df,'race')"
   ]
  },
  {
   "cell_type": "code",
   "execution_count": 132,
   "id": "0447c740",
   "metadata": {},
   "outputs": [
    {
     "data": {
      "image/png": "[encoded data removed]",
      "text/plain": [
       "<Figure size 360x360 with 1 Axes>"
      ]
     },
     "metadata": {
      "needs_background": "light"
     },
     "output_type": "display_data"
    }
   ],
   "source": [
    "make_binary_hist(no_null_df,'income')"
   ]
  },
  {
   "cell_type": "code",
   "execution_count": 133,
   "id": "cb39ef2b",
   "metadata": {},
   "outputs": [
    {
     "data": {
      "image/png": "[encoded data removed]",
      "text/plain": [
       "<Figure size 360x360 with 1 Axes>"
      ]
     },
     "metadata": {
      "needs_background": "light"
     },
     "output_type": "display_data"
    }
   ],
   "source": [
    "make_binary_hist(no_null_df,'gender')"
   ]
  },
  {
   "cell_type": "code",
   "execution_count": 134,
   "id": "ddd6f806",
   "metadata": {},
   "outputs": [
    {
     "data": {
      "text/html": [
       "<div>\n",
       "<style scoped>\n",
       "    .dataframe tbody tr th:only-of-type {\n",
       "        vertical-align: middle;\n",
       "    }\n",
       "\n",
       "    .dataframe tbody tr th {\n",
       "        vertical-align: top;\n",
       "    }\n",
       "\n",
       "    .dataframe thead th {\n",
       "        text-align: right;\n",
       "    }\n",
       "</style>\n",
       "<table border=\"1\" class=\"dataframe\">\n",
       "  <thead>\n",
       "    <tr style=\"text-align: right;\">\n",
       "      <th></th>\n",
       "      <th>counts</th>\n",
       "    </tr>\n",
       "  </thead>\n",
       "  <tbody>\n",
       "    <tr>\n",
       "      <th>United-States</th>\n",
       "      <td>41292</td>\n",
       "    </tr>\n",
       "    <tr>\n",
       "      <th>Mexico</th>\n",
       "      <td>903</td>\n",
       "    </tr>\n",
       "    <tr>\n",
       "      <th>Philippines</th>\n",
       "      <td>283</td>\n",
       "    </tr>\n",
       "    <tr>\n",
       "      <th>Germany</th>\n",
       "      <td>193</td>\n",
       "    </tr>\n",
       "    <tr>\n",
       "      <th>Puerto-Rico</th>\n",
       "      <td>175</td>\n",
       "    </tr>\n",
       "    <tr>\n",
       "      <th>Canada</th>\n",
       "      <td>163</td>\n",
       "    </tr>\n",
       "    <tr>\n",
       "      <th>India</th>\n",
       "      <td>147</td>\n",
       "    </tr>\n",
       "    <tr>\n",
       "      <th>El-Salvador</th>\n",
       "      <td>147</td>\n",
       "    </tr>\n",
       "    <tr>\n",
       "      <th>Cuba</th>\n",
       "      <td>133</td>\n",
       "    </tr>\n",
       "    <tr>\n",
       "      <th>England</th>\n",
       "      <td>119</td>\n",
       "    </tr>\n",
       "    <tr>\n",
       "      <th>China</th>\n",
       "      <td>113</td>\n",
       "    </tr>\n",
       "    <tr>\n",
       "      <th>Jamaica</th>\n",
       "      <td>103</td>\n",
       "    </tr>\n",
       "    <tr>\n",
       "      <th>South</th>\n",
       "      <td>101</td>\n",
       "    </tr>\n",
       "    <tr>\n",
       "      <th>Italy</th>\n",
       "      <td>100</td>\n",
       "    </tr>\n",
       "    <tr>\n",
       "      <th>Dominican-Republic</th>\n",
       "      <td>97</td>\n",
       "    </tr>\n",
       "    <tr>\n",
       "      <th>Japan</th>\n",
       "      <td>89</td>\n",
       "    </tr>\n",
       "    <tr>\n",
       "      <th>Guatemala</th>\n",
       "      <td>86</td>\n",
       "    </tr>\n",
       "    <tr>\n",
       "      <th>Vietnam</th>\n",
       "      <td>83</td>\n",
       "    </tr>\n",
       "    <tr>\n",
       "      <th>Columbia</th>\n",
       "      <td>82</td>\n",
       "    </tr>\n",
       "    <tr>\n",
       "      <th>Poland</th>\n",
       "      <td>81</td>\n",
       "    </tr>\n",
       "    <tr>\n",
       "      <th>Haiti</th>\n",
       "      <td>69</td>\n",
       "    </tr>\n",
       "    <tr>\n",
       "      <th>Portugal</th>\n",
       "      <td>62</td>\n",
       "    </tr>\n",
       "    <tr>\n",
       "      <th>Iran</th>\n",
       "      <td>56</td>\n",
       "    </tr>\n",
       "    <tr>\n",
       "      <th>Taiwan</th>\n",
       "      <td>55</td>\n",
       "    </tr>\n",
       "    <tr>\n",
       "      <th>Greece</th>\n",
       "      <td>49</td>\n",
       "    </tr>\n",
       "    <tr>\n",
       "      <th>Nicaragua</th>\n",
       "      <td>48</td>\n",
       "    </tr>\n",
       "    <tr>\n",
       "      <th>Peru</th>\n",
       "      <td>45</td>\n",
       "    </tr>\n",
       "    <tr>\n",
       "      <th>Ecuador</th>\n",
       "      <td>43</td>\n",
       "    </tr>\n",
       "    <tr>\n",
       "      <th>Ireland</th>\n",
       "      <td>36</td>\n",
       "    </tr>\n",
       "    <tr>\n",
       "      <th>France</th>\n",
       "      <td>36</td>\n",
       "    </tr>\n",
       "    <tr>\n",
       "      <th>Thailand</th>\n",
       "      <td>29</td>\n",
       "    </tr>\n",
       "    <tr>\n",
       "      <th>Hong</th>\n",
       "      <td>28</td>\n",
       "    </tr>\n",
       "    <tr>\n",
       "      <th>Cambodia</th>\n",
       "      <td>26</td>\n",
       "    </tr>\n",
       "    <tr>\n",
       "      <th>Trinadad&amp;Tobago</th>\n",
       "      <td>26</td>\n",
       "    </tr>\n",
       "    <tr>\n",
       "      <th>Yugoslavia</th>\n",
       "      <td>23</td>\n",
       "    </tr>\n",
       "    <tr>\n",
       "      <th>Outlying-US(Guam-USVI-etc)</th>\n",
       "      <td>22</td>\n",
       "    </tr>\n",
       "    <tr>\n",
       "      <th>Laos</th>\n",
       "      <td>21</td>\n",
       "    </tr>\n",
       "    <tr>\n",
       "      <th>Scotland</th>\n",
       "      <td>20</td>\n",
       "    </tr>\n",
       "    <tr>\n",
       "      <th>Honduras</th>\n",
       "      <td>19</td>\n",
       "    </tr>\n",
       "    <tr>\n",
       "      <th>Hungary</th>\n",
       "      <td>18</td>\n",
       "    </tr>\n",
       "    <tr>\n",
       "      <th>Holand-Netherlands</th>\n",
       "      <td>1</td>\n",
       "    </tr>\n",
       "  </tbody>\n",
       "</table>\n",
       "</div>"
      ],
      "text/plain": [
       "                            counts\n",
       "United-States                41292\n",
       "Mexico                         903\n",
       "Philippines                    283\n",
       "Germany                        193\n",
       "Puerto-Rico                    175\n",
       "Canada                         163\n",
       "India                          147\n",
       "El-Salvador                    147\n",
       "Cuba                           133\n",
       "England                        119\n",
       "China                          113\n",
       "Jamaica                        103\n",
       "South                          101\n",
       "Italy                          100\n",
       "Dominican-Republic              97\n",
       "Japan                           89\n",
       "Guatemala                       86\n",
       "Vietnam                         83\n",
       "Columbia                        82\n",
       "Poland                          81\n",
       "Haiti                           69\n",
       "Portugal                        62\n",
       "Iran                            56\n",
       "Taiwan                          55\n",
       "Greece                          49\n",
       "Nicaragua                       48\n",
       "Peru                            45\n",
       "Ecuador                         43\n",
       "Ireland                         36\n",
       "France                          36\n",
       "Thailand                        29\n",
       "Hong                            28\n",
       "Cambodia                        26\n",
       "Trinadad&Tobago                 26\n",
       "Yugoslavia                      23\n",
       "Outlying-US(Guam-USVI-etc)      22\n",
       "Laos                            21\n",
       "Scotland                        20\n",
       "Honduras                        19\n",
       "Hungary                         18\n",
       "Holand-Netherlands               1"
      ]
     },
     "execution_count": 134,
     "metadata": {},
     "output_type": "execute_result"
    }
   ],
   "source": [
    "native_country = no_null_df['native-country']\n",
    "counts = no_null_df['native-country'].value_counts()\n",
    "pd.DataFrame({'counts': counts})"
   ]
  },
  {
   "cell_type": "markdown",
   "id": "5fc60049",
   "metadata": {},
   "source": [
    "# Now we will use just two columns for dipper analyzing "
   ]
  },
  {
   "cell_type": "code",
   "execution_count": 135,
   "id": "6ee03a59",
   "metadata": {},
   "outputs": [],
   "source": [
    "tmp_df1 = no_null_df[[\"gender\",\"hours-per-week\"]]"
   ]
  },
  {
   "cell_type": "code",
   "execution_count": 136,
   "id": "067f0ca9",
   "metadata": {},
   "outputs": [
    {
     "data": {
      "text/plain": [
       "gender\n",
       "Female    36.932902\n",
       "Male      42.865987\n",
       "Name: hours-per-week, dtype: float64"
      ]
     },
     "metadata": {},
     "output_type": "display_data"
    }
   ],
   "source": [
    "#find the average for each of genders\n",
    "avg = tmp_df1.groupby(\"gender\")[\"hours-per-week\"].mean()\n",
    "display(avg)"
   ]
  },
  {
   "cell_type": "code",
   "execution_count": 137,
   "id": "d884095f",
   "metadata": {},
   "outputs": [
    {
     "data": {
      "text/html": [
       "<div>\n",
       "<style scoped>\n",
       "    .dataframe tbody tr th:only-of-type {\n",
       "        vertical-align: middle;\n",
       "    }\n",
       "\n",
       "    .dataframe tbody tr th {\n",
       "        vertical-align: top;\n",
       "    }\n",
       "\n",
       "    .dataframe thead th {\n",
       "        text-align: right;\n",
       "    }\n",
       "</style>\n",
       "<table border=\"1\" class=\"dataframe\">\n",
       "  <thead>\n",
       "    <tr style=\"text-align: right;\">\n",
       "      <th></th>\n",
       "      <th>mean</th>\n",
       "      <th>std</th>\n",
       "      <th>count</th>\n",
       "    </tr>\n",
       "    <tr>\n",
       "      <th>gender</th>\n",
       "      <th></th>\n",
       "      <th></th>\n",
       "      <th></th>\n",
       "    </tr>\n",
       "  </thead>\n",
       "  <tbody>\n",
       "    <tr>\n",
       "      <th>Female</th>\n",
       "      <td>36.932902</td>\n",
       "      <td>11.554959</td>\n",
       "      <td>14695</td>\n",
       "    </tr>\n",
       "    <tr>\n",
       "      <th>Male</th>\n",
       "      <td>42.865987</td>\n",
       "      <td>11.742173</td>\n",
       "      <td>30527</td>\n",
       "    </tr>\n",
       "  </tbody>\n",
       "</table>\n",
       "</div>"
      ],
      "text/plain": [
       "             mean        std  count\n",
       "gender                             \n",
       "Female  36.932902  11.554959  14695\n",
       "Male    42.865987  11.742173  30527"
      ]
     },
     "metadata": {},
     "output_type": "display_data"
    }
   ],
   "source": [
    "#calculating statistical measures that we need \n",
    "gp = tmp_df1.groupby('gender')['hours-per-week']\n",
    "result = gp.agg(['mean','std','count'])\n",
    "display(result)"
   ]
  },
  {
   "cell_type": "code",
   "execution_count": 138,
   "id": "d3f541db",
   "metadata": {},
   "outputs": [
    {
     "data": {
      "text/html": [
       "<div>\n",
       "<style scoped>\n",
       "    .dataframe tbody tr th:only-of-type {\n",
       "        vertical-align: middle;\n",
       "    }\n",
       "\n",
       "    .dataframe tbody tr th {\n",
       "        vertical-align: top;\n",
       "    }\n",
       "\n",
       "    .dataframe thead th {\n",
       "        text-align: right;\n",
       "    }\n",
       "</style>\n",
       "<table border=\"1\" class=\"dataframe\">\n",
       "  <thead>\n",
       "    <tr style=\"text-align: right;\">\n",
       "      <th></th>\n",
       "      <th>mean</th>\n",
       "      <th>std</th>\n",
       "      <th>count</th>\n",
       "      <th>upper_ci</th>\n",
       "      <th>lower_ci</th>\n",
       "    </tr>\n",
       "    <tr>\n",
       "      <th>gender</th>\n",
       "      <th></th>\n",
       "      <th></th>\n",
       "      <th></th>\n",
       "      <th></th>\n",
       "      <th></th>\n",
       "    </tr>\n",
       "  </thead>\n",
       "  <tbody>\n",
       "    <tr>\n",
       "      <th>Female</th>\n",
       "      <td>36.932902</td>\n",
       "      <td>11.554959</td>\n",
       "      <td>14695</td>\n",
       "      <td>37.119729</td>\n",
       "      <td>36.746075</td>\n",
       "    </tr>\n",
       "    <tr>\n",
       "      <th>Male</th>\n",
       "      <td>42.865987</td>\n",
       "      <td>11.742173</td>\n",
       "      <td>30527</td>\n",
       "      <td>42.997711</td>\n",
       "      <td>42.734264</td>\n",
       "    </tr>\n",
       "  </tbody>\n",
       "</table>\n",
       "</div>"
      ],
      "text/plain": [
       "             mean        std  count   upper_ci   lower_ci\n",
       "gender                                                   \n",
       "Female  36.932902  11.554959  14695  37.119729  36.746075\n",
       "Male    42.865987  11.742173  30527  42.997711  42.734264"
      ]
     },
     "metadata": {},
     "output_type": "display_data"
    }
   ],
   "source": [
    "#calculating confidence interval \n",
    "result[('upper_ci')] = result[('mean')] + 1.96*np.divide(result[('std')], np.sqrt(result[('count')]))\n",
    "result[('lower_ci')] = result[('mean')] - 1.96*np.divide(result[('std')], np.sqrt(result[('count')]))\n",
    "display(result)"
   ]
  },
  {
   "cell_type": "markdown",
   "id": "6df549a6",
   "metadata": {},
   "source": [
    "### Now we will check if the expectetion of hours per week is the same between males and females"
   ]
  },
  {
   "cell_type": "code",
   "execution_count": 139,
   "id": "1476e66c",
   "metadata": {},
   "outputs": [
    {
     "data": {
      "image/png": "[encoded data removed]",
      "text/plain": [
       "<Figure size 432x288 with 1 Axes>"
      ]
     },
     "metadata": {
      "needs_background": "light"
     },
     "output_type": "display_data"
    },
    {
     "name": "stdout",
     "output_type": "stream",
     "text": [
      "minimum value 1 \tmaximum value 99\tmeam value 42.866\tmedian value 40\n"
     ]
    }
   ],
   "source": [
    "male_hours = tmp_df1[tmp_df1['gender']=='Male']['hours-per-week']\n",
    "make_numerical_hist(male_hours, 'hours-per-week', 'males')"
   ]
  },
  {
   "cell_type": "code",
   "execution_count": 140,
   "id": "b113f8f1",
   "metadata": {},
   "outputs": [],
   "source": [
    "#function to check normality \n",
    "def check_normality(data):\n",
    "    k2, p = stats.normaltest(data)\n",
    "    alpha = 0.05\n",
    "    print(\"p = {:g}\".format(p))\n",
    "    if p < alpha:  # null hypothesis: x comes from a normal distribution\n",
    "        print(\"The null hypothesis can be rejected\")\n",
    "    else:\n",
    "        print(\"The null hypothesis cannot be rejected\")"
   ]
  },
  {
   "cell_type": "code",
   "execution_count": 141,
   "id": "c8ef58a1",
   "metadata": {},
   "outputs": [
    {
     "name": "stdout",
     "output_type": "stream",
     "text": [
      "p = 0\n",
      "The null hypothesis can be rejected\n"
     ]
    }
   ],
   "source": [
    "check_normality(male_hours)"
   ]
  },
  {
   "cell_type": "code",
   "execution_count": 142,
   "id": "54f42643",
   "metadata": {},
   "outputs": [
    {
     "data": {
      "image/png": "[encoded data removed]",
      "text/plain": [
       "<Figure size 432x288 with 1 Axes>"
      ]
     },
     "metadata": {
      "needs_background": "light"
     },
     "output_type": "display_data"
    },
    {
     "name": "stdout",
     "output_type": "stream",
     "text": [
      "minimum value 1 \tmaximum value 99\tmeam value 36.933\tmedian value 40\n"
     ]
    }
   ],
   "source": [
    "female_hours = tmp_df1[tmp_df1['gender']=='Female']['hours-per-week']\n",
    "make_numerical_hist(female_hours, 'hours-per-week', 'females')"
   ]
  },
  {
   "cell_type": "code",
   "execution_count": 143,
   "id": "81c3ddc5",
   "metadata": {},
   "outputs": [
    {
     "name": "stdout",
     "output_type": "stream",
     "text": [
      "p = 6.04219e-203\n",
      "The null hypothesis can be rejected\n"
     ]
    }
   ],
   "source": [
    "check_normality(female_hours)"
   ]
  },
  {
   "cell_type": "markdown",
   "id": "54674c22",
   "metadata": {},
   "source": [
    "#### As we can see from the test, hours per week for each gender isn't normal"
   ]
  },
  {
   "cell_type": "code",
   "execution_count": 144,
   "id": "9ec4d84a",
   "metadata": {},
   "outputs": [
    {
     "name": "stdout",
     "output_type": "stream",
     "text": [
      "The statistic is 50.871116326562394\n",
      "The alpha/2 qauntile of T distrebution is 1.9600164442642107\n",
      "The null hypothesis can be rejected\n",
      "The p_value is 0.0\n"
     ]
    }
   ],
   "source": [
    "# T_test\n",
    "test_stat = (result['mean'][1]-result['mean'][0])/np.sqrt(result['std'][1]**2/result['count'][1]+result['std'][0]**2/result['count'][0])\n",
    "N = result['count'][1] + result['count'][0]\n",
    "alpha = 0.05\n",
    "t_alpha_2 = t.ppf(1.0 - alpha/2, N)\n",
    "p_val_t = (1.0 - t.cdf(abs(test_stat), N)) * 2.0\n",
    "print(f\"The statistic is {test_stat}\")\n",
    "print(f\"The alpha/2 qauntile of T distrebution is {t_alpha_2}\")\n",
    "if test_stat > t_alpha_2:\n",
    "    print(\"The null hypothesis can be rejected\")\n",
    "print(f\"The p_value is {p_val_t}\")"
   ]
  },
  {
   "cell_type": "code",
   "execution_count": 145,
   "id": "f33b003a",
   "metadata": {},
   "outputs": [
    {
     "name": "stdout",
     "output_type": "stream",
     "text": [
      "The statistic is 50.871116326562394\n",
      "The alpha/2 qauntile of standard norm distrebution is 1.959963984540054\n",
      "The null hypothesis can be rejected\n",
      "The p_value is 0.0\n"
     ]
    }
   ],
   "source": [
    "#wald_test\n",
    "W = (result['mean'][1]-result['mean'][0])/np.sqrt(result['std'][1]**2/result['count'][1]+result['std'][0]**2/result['count'][0])\n",
    "alpha = 0.05\n",
    "Z_alpha_2 = norm.ppf(1-alpha/2)\n",
    "p_val_norm = (1.0 - norm.cdf(abs(W))) * 2.0\n",
    "print(f\"The statistic is {W}\")\n",
    "print(f\"The alpha/2 qauntile of standard norm distrebution is {Z_alpha_2}\")\n",
    "if W > Z_alpha_2:\n",
    "    print(\"The null hypothesis can be rejected\")\n",
    "print(f\"The p_value is {p_val_norm}\")"
   ]
  },
  {
   "cell_type": "markdown",
   "id": "e5672069",
   "metadata": {},
   "source": [
    "#### In both tests we got the same test statistic and p_value, the quantilies are close becase t distrebution is similar to normal for more freedoms degree and we reject the null hypothesis."
   ]
  },
  {
   "cell_type": "code",
   "execution_count": 146,
   "id": "3b12f6ed",
   "metadata": {},
   "outputs": [],
   "source": [
    "# function for calculating the wald test for two independent samples\n",
    "def independent_wald_test(data1, data2, alpha):\n",
    "    # calculate means\n",
    "    mean1, mean2 = np.mean(data1), np.mean(data2)\n",
    "    # calculate standard errors\n",
    "    se1, se2 = stats.sem(data1), stats.sem(data2)\n",
    "    # standard error on the difference between the samples\n",
    "    sed = np.sqrt(se1**2.0 + se2**2.0)\n",
    "    # calculate the t statistic\n",
    "    W = (mean1 - mean2) / sed\n",
    "    # calculate the critical value\n",
    "    norm_alpha_2 = norm.ppf(1.0 - alpha/2)\n",
    "    # calculate the p-value\n",
    "    p_val = (1.0 - norm.cdf(abs(W))) * 2.0\n",
    "    # return everything\n",
    "    return W, p_val"
   ]
  },
  {
   "cell_type": "code",
   "execution_count": 147,
   "id": "b9c5823a",
   "metadata": {},
   "outputs": [],
   "source": [
    "#function for calculating confidence interval \n",
    "def calc_CI(df):\n",
    "    gp = df.groupby('gender')['hours-per-week']\n",
    "    result = gp.agg(['mean','std','count'])\n",
    "    result[('upper_ci')] = result[('mean')] + 1.96*np.divide(result[('std')], np.sqrt(result[('count')]))\n",
    "    result[('lower_ci')] = result[('mean')] - 1.96*np.divide(result[('std')], np.sqrt(result[('count')]))\n",
    "    return result['lower_ci'][1], result['upper_ci'][1], result['lower_ci'][0], result['upper_ci'][0]"
   ]
  },
  {
   "cell_type": "code",
   "execution_count": 148,
   "id": "4e51335d",
   "metadata": {},
   "outputs": [],
   "source": [
    "#we will look of our data as whole population and we will take a few diffeerent samples\n",
    "\n",
    "sample_size = [30, 50, 100, 500]\n",
    "\n",
    "male_lower_ci = {30:[],50:[],100:[],500:[]}\n",
    "male_upper_ci = {30:[],50:[],100:[],500:[]}\n",
    "female_lower_ci = {30:[],50:[],100:[],500:[]}\n",
    "female_upper_ci = {30:[],50:[],100:[],500:[]}\n",
    "p_val_dict = {30:[],50:[],100:[],500:[]}\n",
    "\n",
    "for i in range (100):\n",
    "    for size in sample_size:\n",
    "        sample_df = tmp_df1.sample(size)\n",
    "        male_lower, male_upper, female_lower, female_upper = calc_CI(sample_df)\n",
    "        male_lower_ci[size].append(male_lower)\n",
    "        male_upper_ci[size].append(male_upper)\n",
    "        female_lower_ci[size].append(female_lower)\n",
    "        female_upper_ci[size].append(female_upper)\n",
    "        male_hours = sample_df[sample_df['gender']=='Male']['hours-per-week']\n",
    "        female_hours = sample_df[sample_df['gender']=='Female']['hours-per-week']\n",
    "        W, p_val = independent_wald_test(male_hours, female_hours, 0.05)\n",
    "        p_val_dict[size].append(p_val)\n",
    "        "
   ]
  },
  {
   "cell_type": "code",
   "execution_count": 149,
   "id": "dd24f5ce",
   "metadata": {},
   "outputs": [
    {
     "name": "stdout",
     "output_type": "stream",
     "text": [
      "The CI for males in sample size 30 is [ 38.67446696210736 , 52.26670950848087 ] \n",
      "The CI for females in sample size 30 is [ 30.48405773106139 , 41.05440380740014 ] \n",
      "The CI for males in sample size 50 is [ 38.3942475367839 , 45.37045834556904 ] \n",
      "The CI for females in sample size 50 is [ 30.461933560679604 , 41.038066439320396 ] \n",
      "The CI for males in sample size 100 is [ 40.48449894926706 , 44.71550105073294 ] \n",
      "The CI for females in sample size 100 is [ 32.78171549465324 , 39.88495117201343 ] \n",
      "The CI for males in sample size 500 is [ 42.18098086017612 , 44.63720095800569 ] \n",
      "The CI for females in sample size 500 is [ 34.55296441937594 , 38.18821205121229 ] \n"
     ]
    }
   ],
   "source": [
    "#check the first CI that we get for each sample size to compare to CI that we have for all population\n",
    "\n",
    "for size in sample_size:\n",
    "    print(f\"The CI for males in sample size {size} is [ {male_lower_ci[size][0]} , {male_upper_ci[size][0]} ] \")\n",
    "    print(f\"The CI for females in sample size {size} is [ {female_lower_ci[size][0]} , {female_upper_ci[size][0]} ] \")"
   ]
  },
  {
   "cell_type": "code",
   "execution_count": 150,
   "id": "3d0752f9",
   "metadata": {},
   "outputs": [
    {
     "data": {
      "image/png": "[encoded data removed]",
      "text/plain": [
       "<Figure size 576x360 with 1 Axes>"
      ]
     },
     "metadata": {
      "needs_background": "light"
     },
     "output_type": "display_data"
    }
   ],
   "source": [
    "p = [(male_lower_ci[size][0],male_upper_ci[size][0]) for size in sample_size]\n",
    "\n",
    "num_intervals = len(p)\n",
    "viridis = plt.cm.get_cmap('viridis', num_intervals+1)\n",
    "\n",
    "fig, ax = plt.subplots(figsize=(8,5))\n",
    "\n",
    "for idx, (min_int, max_int) in enumerate(p):\n",
    "  ax.hlines(y=idx, xmin=min_int, xmax=max_int, colors=viridis(idx / num_intervals), label=sample_size[idx])\n",
    "ax.hlines(y=4, xmin=result[\"lower_ci\"][1], xmax=result[\"upper_ci\"][1], colors=\"black\", label=\"all\")\n",
    "plt.title(f'comparing confidence intervals')\n",
    "ax.legend(title=\"sample size\")\n",
    "plt.yticks([], [])\n",
    "plt.show()"
   ]
  },
  {
   "cell_type": "markdown",
   "id": "734866f6",
   "metadata": {},
   "source": [
    "#### As the sample bigger the CI is smaller"
   ]
  },
  {
   "cell_type": "code",
   "execution_count": 151,
   "id": "0c6e8ff8",
   "metadata": {},
   "outputs": [
    {
     "name": "stdout",
     "output_type": "stream",
     "text": [
      "The p-value of Wald test for sample size 30 is 0.0272014583217306\n",
      "The p-value of Wald test for sample size 50 is 0.05778271882632979\n",
      "The p-value of Wald test for sample size 100 is 0.0029665035492976166\n",
      "The p-value of Wald test for sample size 500 is 3.197717646230558e-10\n"
     ]
    }
   ],
   "source": [
    "#check the first p-value that we get for each sample size to compare to p-value that we have for all population\n",
    "\n",
    "for size in sample_size:\n",
    "    print(f\"The p-value of Wald test for sample size {size} is {p_val_dict[size][0]}\")  "
   ]
  },
  {
   "cell_type": "markdown",
   "id": "53131ad8",
   "metadata": {},
   "source": [
    "#### As the sample bigger the P_value is smaller"
   ]
  },
  {
   "cell_type": "code",
   "execution_count": 152,
   "id": "3825d6f5",
   "metadata": {},
   "outputs": [],
   "source": [
    "#hisotrams for several densities\n",
    "def compare_hists(CI_lens_dict, gender, top):\n",
    "    bins = np.linspace(0, top, 50)\n",
    "    figure(figsize=(10,7),dpi=80)\n",
    "    sizes = [30, 50, 100, 500]\n",
    "    for size in sizes:\n",
    "        plt.hist(CI_lens_dict[size], bins, alpha=0.5, label=size)\n",
    "    plt.legend(loc='upper right', title=\"sample size\")\n",
    "    plt.title(f'Distrebutions for {gender}')\n",
    "    plt.xlabel(\"CI_len\")\n",
    "    plt.ylabel(\"num of occurances\")\n",
    "    plt.show()"
   ]
  },
  {
   "cell_type": "code",
   "execution_count": 153,
   "id": "86bf923f",
   "metadata": {},
   "outputs": [
    {
     "data": {
      "image/png": "[encoded data removed]",
      "text/plain": [
       "<Figure size 800x560 with 1 Axes>"
      ]
     },
     "metadata": {
      "needs_background": "light"
     },
     "output_type": "display_data"
    },
    {
     "data": {
      "image/png": "[encoded data removed]",
      "text/plain": [
       "<Figure size 800x560 with 1 Axes>"
      ]
     },
     "metadata": {
      "needs_background": "light"
     },
     "output_type": "display_data"
    }
   ],
   "source": [
    "CI_lens_males = {30:[], 50:[], 100:[], 500:[]}\n",
    "CI_lens_females = {30:[], 50:[], 100:[], 500:[]}\n",
    "\n",
    "for size in sample_size:\n",
    "    CI_lens_males[size] = [(male_upper_ci[size][i] - male_lower_ci[size][i]) for i in range(100)]\n",
    "    CI_lens_females[size] = [(female_upper_ci[size][i] - female_lower_ci[size][i]) for i in range(100)]\n",
    "compare_hists(CI_lens_males, \"males\", 20)\n",
    "compare_hists(CI_lens_females, \"females\", 35)"
   ]
  },
  {
   "cell_type": "code",
   "execution_count": 154,
   "id": "d5a62113",
   "metadata": {},
   "outputs": [
    {
     "data": {
      "image/png": "[encoded data removed]",
      "text/plain": [
       "<Figure size 800x560 with 1 Axes>"
      ]
     },
     "metadata": {
      "needs_background": "light"
     },
     "output_type": "display_data"
    }
   ],
   "source": [
    "    bins = np.linspace(0, 1, 50)\n",
    "    figure(figsize=(10,7),dpi=80)\n",
    "    sizes = [30, 50, 100, 500]\n",
    "    for size in sizes:\n",
    "        plt.hist(p_val_dict[size], bins, alpha=0.5, label=size)\n",
    "    plt.legend(loc='upper right', title=\"sample size\")\n",
    "    plt.title(f'Distrebutions of p-value')\n",
    "    plt.xlabel(\"p-value\")\n",
    "    plt.ylabel(\"num of occurances\")\n",
    "    plt.show()"
   ]
  },
  {
   "cell_type": "code",
   "execution_count": 155,
   "id": "6807db86",
   "metadata": {},
   "outputs": [
    {
     "name": "stdout",
     "output_type": "stream",
     "text": [
      "The percentge that the mean for males inside the CI for sample size 30 is 0.94\n",
      "The percentge that the mean for females inside the CI for sample size 30 is 0.82\n",
      "The percentge that the mean for males inside the CI for sample size 50 is 0.97\n",
      "The percentge that the mean for females inside the CI for sample size 50 is 0.92\n",
      "The percentge that the mean for males inside the CI for sample size 100 is 0.98\n",
      "The percentge that the mean for females inside the CI for sample size 100 is 0.94\n",
      "The percentge that the mean for males inside the CI for sample size 500 is 0.94\n",
      "The percentge that the mean for females inside the CI for sample size 500 is 0.98\n"
     ]
    }
   ],
   "source": [
    "#what is the percentage that the expected value (the mean of all population) is in the CI for each sample size\n",
    "sample_size = [30, 50, 100 , 500]\n",
    "for size in sample_size: \n",
    "    male_percentage = len([[].append(1) for i in range(100) if (result['mean'][1]  > male_lower_ci[size][i] and result['mean'][1] < male_upper_ci[size][i])]) / 100\n",
    "    female_percentage = len([[].append(1) for i in range(100) if (result['mean'][0]  > female_lower_ci[size][i] and result['mean'][0] < female_upper_ci[size][i])]) / 100\n",
    "    print(f\"The percentge that the mean for males inside the CI for sample size {size} is {male_percentage}\")\n",
    "    print(f\"The percentge that the mean for females inside the CI for sample size {size} is {female_percentage}\")"
   ]
  },
  {
   "cell_type": "markdown",
   "id": "4b6e498d",
   "metadata": {},
   "source": [
    "#### As we expected we got percentge near 0.95 because our alpha is 0.05"
   ]
  },
  {
   "cell_type": "markdown",
   "id": "d7ad1d6f",
   "metadata": {},
   "source": [
    "# linear regression"
   ]
  },
  {
   "cell_type": "markdown",
   "id": "f1d97d3e",
   "metadata": {},
   "source": [
    "### For this part we will choose another subset of columns. \n",
    "### We want to check if the age, gender and income influence the number of hours per week"
   ]
  },
  {
   "cell_type": "code",
   "execution_count": 156,
   "id": "b54c4eb6",
   "metadata": {},
   "outputs": [],
   "source": [
    "#chooce the columns that we need for this exercise \n",
    "tmp_df2 = no_null_df[[\"age\", \"gender\", \"income\", \"hours-per-week\"]]"
   ]
  },
  {
   "cell_type": "code",
   "execution_count": 157,
   "id": "17e83669",
   "metadata": {},
   "outputs": [
    {
     "data": {
      "text/html": [
       "<div>\n",
       "<style scoped>\n",
       "    .dataframe tbody tr th:only-of-type {\n",
       "        vertical-align: middle;\n",
       "    }\n",
       "\n",
       "    .dataframe tbody tr th {\n",
       "        vertical-align: top;\n",
       "    }\n",
       "\n",
       "    .dataframe thead th {\n",
       "        text-align: right;\n",
       "    }\n",
       "</style>\n",
       "<table border=\"1\" class=\"dataframe\">\n",
       "  <thead>\n",
       "    <tr style=\"text-align: right;\">\n",
       "      <th></th>\n",
       "      <th>age</th>\n",
       "      <th>gender</th>\n",
       "      <th>income</th>\n",
       "      <th>hours-per-week</th>\n",
       "    </tr>\n",
       "  </thead>\n",
       "  <tbody>\n",
       "    <tr>\n",
       "      <th>42093</th>\n",
       "      <td>64</td>\n",
       "      <td>Female</td>\n",
       "      <td>&lt;=50K</td>\n",
       "      <td>40</td>\n",
       "    </tr>\n",
       "    <tr>\n",
       "      <th>31739</th>\n",
       "      <td>56</td>\n",
       "      <td>Male</td>\n",
       "      <td>&lt;=50K</td>\n",
       "      <td>40</td>\n",
       "    </tr>\n",
       "    <tr>\n",
       "      <th>10773</th>\n",
       "      <td>36</td>\n",
       "      <td>Male</td>\n",
       "      <td>&lt;=50K</td>\n",
       "      <td>60</td>\n",
       "    </tr>\n",
       "    <tr>\n",
       "      <th>15850</th>\n",
       "      <td>19</td>\n",
       "      <td>Male</td>\n",
       "      <td>&lt;=50K</td>\n",
       "      <td>37</td>\n",
       "    </tr>\n",
       "    <tr>\n",
       "      <th>40645</th>\n",
       "      <td>32</td>\n",
       "      <td>Male</td>\n",
       "      <td>&gt;50K</td>\n",
       "      <td>45</td>\n",
       "    </tr>\n",
       "    <tr>\n",
       "      <th>...</th>\n",
       "      <td>...</td>\n",
       "      <td>...</td>\n",
       "      <td>...</td>\n",
       "      <td>...</td>\n",
       "    </tr>\n",
       "    <tr>\n",
       "      <th>1162</th>\n",
       "      <td>36</td>\n",
       "      <td>Male</td>\n",
       "      <td>&lt;=50K</td>\n",
       "      <td>35</td>\n",
       "    </tr>\n",
       "    <tr>\n",
       "      <th>4978</th>\n",
       "      <td>38</td>\n",
       "      <td>Male</td>\n",
       "      <td>&lt;=50K</td>\n",
       "      <td>42</td>\n",
       "    </tr>\n",
       "    <tr>\n",
       "      <th>46821</th>\n",
       "      <td>30</td>\n",
       "      <td>Male</td>\n",
       "      <td>&lt;=50K</td>\n",
       "      <td>40</td>\n",
       "    </tr>\n",
       "    <tr>\n",
       "      <th>26123</th>\n",
       "      <td>46</td>\n",
       "      <td>Male</td>\n",
       "      <td>&gt;50K</td>\n",
       "      <td>70</td>\n",
       "    </tr>\n",
       "    <tr>\n",
       "      <th>42955</th>\n",
       "      <td>42</td>\n",
       "      <td>Male</td>\n",
       "      <td>&lt;=50K</td>\n",
       "      <td>60</td>\n",
       "    </tr>\n",
       "  </tbody>\n",
       "</table>\n",
       "<p>200 rows × 4 columns</p>\n",
       "</div>"
      ],
      "text/plain": [
       "       age  gender income  hours-per-week\n",
       "42093   64  Female  <=50K              40\n",
       "31739   56    Male  <=50K              40\n",
       "10773   36    Male  <=50K              60\n",
       "15850   19    Male  <=50K              37\n",
       "40645   32    Male   >50K              45\n",
       "...    ...     ...    ...             ...\n",
       "1162    36    Male  <=50K              35\n",
       "4978    38    Male  <=50K              42\n",
       "46821   30    Male  <=50K              40\n",
       "26123   46    Male   >50K              70\n",
       "42955   42    Male  <=50K              60\n",
       "\n",
       "[200 rows x 4 columns]"
      ]
     },
     "execution_count": 157,
     "metadata": {},
     "output_type": "execute_result"
    }
   ],
   "source": [
    "sample_df = tmp_df2.sample(n=200, random_state = 1)\n",
    "sample_df"
   ]
  },
  {
   "cell_type": "markdown",
   "id": "822ada97",
   "metadata": {},
   "source": [
    "#### As we did in the begining we will shaw few histograms but now for the sample"
   ]
  },
  {
   "cell_type": "code",
   "execution_count": 158,
   "id": "39b97179",
   "metadata": {},
   "outputs": [
    {
     "data": {
      "image/png": "[encoded data removed]",
      "text/plain": [
       "<Figure size 432x288 with 1 Axes>"
      ]
     },
     "metadata": {
      "needs_background": "light"
     },
     "output_type": "display_data"
    },
    {
     "name": "stdout",
     "output_type": "stream",
     "text": [
      "minimum value 10 \tmaximum value 99\tmeam value 41.915\tmedian value 40\n"
     ]
    }
   ],
   "source": [
    "make_numerical_hist(sample_df['hours-per-week'], 'hours-per-week', 'People')"
   ]
  },
  {
   "cell_type": "code",
   "execution_count": 159,
   "id": "83b136fa",
   "metadata": {},
   "outputs": [
    {
     "name": "stdout",
     "output_type": "stream",
     "text": [
      "upper bound whisker is: 53.75 \n",
      "lower bound whisker is: 31.75\n",
      "num of total outliers for hours-per-week: 63\n"
     ]
    }
   ],
   "source": [
    "calc_outliers('hours-per-week', sample_df)"
   ]
  },
  {
   "cell_type": "code",
   "execution_count": 160,
   "id": "2239d4d3",
   "metadata": {},
   "outputs": [
    {
     "data": {
      "image/png": "[encoded data removed]",
      "text/plain": [
       "<Figure size 432x288 with 1 Axes>"
      ]
     },
     "metadata": {
      "needs_background": "light"
     },
     "output_type": "display_data"
    },
    {
     "name": "stdout",
     "output_type": "stream",
     "text": [
      "minimum value 17 \tmaximum value 74\tmeam value 38.110\tmedian value 37\n"
     ]
    }
   ],
   "source": [
    "make_numerical_hist(sample_df['age'], 'age', 'People')"
   ]
  },
  {
   "cell_type": "code",
   "execution_count": 161,
   "id": "5f6677cb",
   "metadata": {},
   "outputs": [
    {
     "name": "stdout",
     "output_type": "stream",
     "text": [
      "upper bound whisker is: 73.5 \n",
      "lower bound whisker is: 3.5\n",
      "num of total outliers for age: 1\n"
     ]
    }
   ],
   "source": [
    "calc_outliers('age', sample_df)"
   ]
  },
  {
   "cell_type": "code",
   "execution_count": 162,
   "id": "6e1a774e",
   "metadata": {},
   "outputs": [
    {
     "data": {
      "text/html": [
       "<div>\n",
       "<style scoped>\n",
       "    .dataframe tbody tr th:only-of-type {\n",
       "        vertical-align: middle;\n",
       "    }\n",
       "\n",
       "    .dataframe tbody tr th {\n",
       "        vertical-align: top;\n",
       "    }\n",
       "\n",
       "    .dataframe thead th {\n",
       "        text-align: right;\n",
       "    }\n",
       "</style>\n",
       "<table border=\"1\" class=\"dataframe\">\n",
       "  <thead>\n",
       "    <tr style=\"text-align: right;\">\n",
       "      <th></th>\n",
       "      <th>counts</th>\n",
       "    </tr>\n",
       "  </thead>\n",
       "  <tbody>\n",
       "    <tr>\n",
       "      <th>&lt;=50K</th>\n",
       "      <td>147</td>\n",
       "    </tr>\n",
       "    <tr>\n",
       "      <th>&gt;50K</th>\n",
       "      <td>53</td>\n",
       "    </tr>\n",
       "  </tbody>\n",
       "</table>\n",
       "</div>"
      ],
      "text/plain": [
       "       counts\n",
       "<=50K     147\n",
       ">50K       53"
      ]
     },
     "execution_count": 162,
     "metadata": {},
     "output_type": "execute_result"
    }
   ],
   "source": [
    "income = sample_df['income']\n",
    "counts = sample_df['income'].value_counts()\n",
    "pd.DataFrame({'counts': counts})"
   ]
  },
  {
   "cell_type": "code",
   "execution_count": 163,
   "id": "49c7ddc4",
   "metadata": {},
   "outputs": [
    {
     "data": {
      "image/png": "[encoded data removed]",
      "text/plain": [
       "<Figure size 360x360 with 1 Axes>"
      ]
     },
     "metadata": {
      "needs_background": "light"
     },
     "output_type": "display_data"
    }
   ],
   "source": [
    "make_binary_hist(sample_df,'income')"
   ]
  },
  {
   "cell_type": "code",
   "execution_count": 164,
   "id": "f6eeaf33",
   "metadata": {},
   "outputs": [
    {
     "data": {
      "text/html": [
       "<div>\n",
       "<style scoped>\n",
       "    .dataframe tbody tr th:only-of-type {\n",
       "        vertical-align: middle;\n",
       "    }\n",
       "\n",
       "    .dataframe tbody tr th {\n",
       "        vertical-align: top;\n",
       "    }\n",
       "\n",
       "    .dataframe thead th {\n",
       "        text-align: right;\n",
       "    }\n",
       "</style>\n",
       "<table border=\"1\" class=\"dataframe\">\n",
       "  <thead>\n",
       "    <tr style=\"text-align: right;\">\n",
       "      <th></th>\n",
       "      <th>counts</th>\n",
       "    </tr>\n",
       "  </thead>\n",
       "  <tbody>\n",
       "    <tr>\n",
       "      <th>Male</th>\n",
       "      <td>129</td>\n",
       "    </tr>\n",
       "    <tr>\n",
       "      <th>Female</th>\n",
       "      <td>71</td>\n",
       "    </tr>\n",
       "  </tbody>\n",
       "</table>\n",
       "</div>"
      ],
      "text/plain": [
       "        counts\n",
       "Male       129\n",
       "Female      71"
      ]
     },
     "execution_count": 164,
     "metadata": {},
     "output_type": "execute_result"
    }
   ],
   "source": [
    "gender = sample_df['gender']\n",
    "counts = sample_df['gender'].value_counts()\n",
    "pd.DataFrame({'counts': counts})"
   ]
  },
  {
   "cell_type": "code",
   "execution_count": 165,
   "id": "3813b9e1",
   "metadata": {},
   "outputs": [
    {
     "data": {
      "image/png": "[encoded data removed]",
      "text/plain": [
       "<Figure size 360x360 with 1 Axes>"
      ]
     },
     "metadata": {
      "needs_background": "light"
     },
     "output_type": "display_data"
    }
   ],
   "source": [
    "make_binary_hist(sample_df,'gender')"
   ]
  },
  {
   "cell_type": "code",
   "execution_count": 166,
   "id": "fa6d246b",
   "metadata": {},
   "outputs": [],
   "source": [
    "def create_scatter_plot(X, y, xlabel, ylabel):\n",
    "    plt.scatter(X, y)\n",
    "    plt.xlabel(xlabel)\n",
    "    plt.ylabel(ylabel)\n",
    "    plt.title(f\"{ylabel} as function of {xlabel}\")"
   ]
  },
  {
   "cell_type": "code",
   "execution_count": 167,
   "id": "ad96badc",
   "metadata": {},
   "outputs": [
    {
     "data": {
      "image/png": "[encoded data removed]",
      "text/plain": [
       "<Figure size 432x288 with 1 Axes>"
      ]
     },
     "metadata": {
      "needs_background": "light"
     },
     "output_type": "display_data"
    }
   ],
   "source": [
    "create_scatter_plot(sample_df[\"age\"], sample_df[\"hours-per-week\"], \"age\", \"hours-per-week\")"
   ]
  },
  {
   "cell_type": "code",
   "execution_count": 168,
   "id": "32e25ad9",
   "metadata": {},
   "outputs": [],
   "source": [
    "def create_boxplot_y_per_x(df, xlabel, ylabel):\n",
    "    fig = plt.figure(figsize=(10,10)) \n",
    "    sns.boxplot(x=xlabel, y=ylabel, data=df)\n",
    "    plt.title(f'{ylabel} per {xlabel} type')\n",
    "\n",
    "    plt.show()"
   ]
  },
  {
   "cell_type": "code",
   "execution_count": 169,
   "id": "5ee72620",
   "metadata": {},
   "outputs": [
    {
     "data": {
      "image/png": "[encoded data removed]",
      "text/plain": [
       "<Figure size 720x720 with 1 Axes>"
      ]
     },
     "metadata": {
      "needs_background": "light"
     },
     "output_type": "display_data"
    }
   ],
   "source": [
    "create_boxplot_y_per_x(sample_df, \"income\", \"hours-per-week\")"
   ]
  },
  {
   "cell_type": "code",
   "execution_count": 170,
   "id": "79558375",
   "metadata": {
    "scrolled": true
   },
   "outputs": [
    {
     "data": {
      "image/png": "[encoded data removed]",
      "text/plain": [
       "<Figure size 720x720 with 1 Axes>"
      ]
     },
     "metadata": {
      "needs_background": "light"
     },
     "output_type": "display_data"
    }
   ],
   "source": [
    "create_boxplot_y_per_x(sample_df, \"gender\", \"hours-per-week\")"
   ]
  },
  {
   "cell_type": "code",
   "execution_count": 171,
   "id": "d5ddc7ee",
   "metadata": {},
   "outputs": [
    {
     "data": {
      "text/html": [
       "<div>\n",
       "<style scoped>\n",
       "    .dataframe tbody tr th:only-of-type {\n",
       "        vertical-align: middle;\n",
       "    }\n",
       "\n",
       "    .dataframe tbody tr th {\n",
       "        vertical-align: top;\n",
       "    }\n",
       "\n",
       "    .dataframe thead th {\n",
       "        text-align: right;\n",
       "    }\n",
       "</style>\n",
       "<table border=\"1\" class=\"dataframe\">\n",
       "  <thead>\n",
       "    <tr style=\"text-align: right;\">\n",
       "      <th></th>\n",
       "      <th>age</th>\n",
       "      <th>gender_Male</th>\n",
       "      <th>income_&gt;50K</th>\n",
       "      <th>hours-per-week</th>\n",
       "    </tr>\n",
       "  </thead>\n",
       "  <tbody>\n",
       "    <tr>\n",
       "      <th>42093</th>\n",
       "      <td>64</td>\n",
       "      <td>0</td>\n",
       "      <td>0</td>\n",
       "      <td>40</td>\n",
       "    </tr>\n",
       "    <tr>\n",
       "      <th>31739</th>\n",
       "      <td>56</td>\n",
       "      <td>1</td>\n",
       "      <td>0</td>\n",
       "      <td>40</td>\n",
       "    </tr>\n",
       "    <tr>\n",
       "      <th>10773</th>\n",
       "      <td>36</td>\n",
       "      <td>1</td>\n",
       "      <td>0</td>\n",
       "      <td>60</td>\n",
       "    </tr>\n",
       "    <tr>\n",
       "      <th>15850</th>\n",
       "      <td>19</td>\n",
       "      <td>1</td>\n",
       "      <td>0</td>\n",
       "      <td>37</td>\n",
       "    </tr>\n",
       "    <tr>\n",
       "      <th>40645</th>\n",
       "      <td>32</td>\n",
       "      <td>1</td>\n",
       "      <td>1</td>\n",
       "      <td>45</td>\n",
       "    </tr>\n",
       "    <tr>\n",
       "      <th>...</th>\n",
       "      <td>...</td>\n",
       "      <td>...</td>\n",
       "      <td>...</td>\n",
       "      <td>...</td>\n",
       "    </tr>\n",
       "    <tr>\n",
       "      <th>1162</th>\n",
       "      <td>36</td>\n",
       "      <td>1</td>\n",
       "      <td>0</td>\n",
       "      <td>35</td>\n",
       "    </tr>\n",
       "    <tr>\n",
       "      <th>4978</th>\n",
       "      <td>38</td>\n",
       "      <td>1</td>\n",
       "      <td>0</td>\n",
       "      <td>42</td>\n",
       "    </tr>\n",
       "    <tr>\n",
       "      <th>46821</th>\n",
       "      <td>30</td>\n",
       "      <td>1</td>\n",
       "      <td>0</td>\n",
       "      <td>40</td>\n",
       "    </tr>\n",
       "    <tr>\n",
       "      <th>26123</th>\n",
       "      <td>46</td>\n",
       "      <td>1</td>\n",
       "      <td>1</td>\n",
       "      <td>70</td>\n",
       "    </tr>\n",
       "    <tr>\n",
       "      <th>42955</th>\n",
       "      <td>42</td>\n",
       "      <td>1</td>\n",
       "      <td>0</td>\n",
       "      <td>60</td>\n",
       "    </tr>\n",
       "  </tbody>\n",
       "</table>\n",
       "<p>200 rows × 4 columns</p>\n",
       "</div>"
      ],
      "text/plain": [
       "       age  gender_Male  income_>50K  hours-per-week\n",
       "42093   64            0            0              40\n",
       "31739   56            1            0              40\n",
       "10773   36            1            0              60\n",
       "15850   19            1            0              37\n",
       "40645   32            1            1              45\n",
       "...    ...          ...          ...             ...\n",
       "1162    36            1            0              35\n",
       "4978    38            1            0              42\n",
       "46821   30            1            0              40\n",
       "26123   46            1            1              70\n",
       "42955   42            1            0              60\n",
       "\n",
       "[200 rows x 4 columns]"
      ]
     },
     "execution_count": 171,
     "metadata": {},
     "output_type": "execute_result"
    }
   ],
   "source": [
    "#for calculating we transform binery variables to indicator\n",
    "sample_df = pd.get_dummies(data=sample_df, drop_first=True)\n",
    "sample_df = sample_df[[\"age\", \"gender_Male\", \"income_>50K\", \"hours-per-week\"]]\n",
    "sample_df"
   ]
  },
  {
   "cell_type": "code",
   "execution_count": 172,
   "id": "7d624f9d",
   "metadata": {},
   "outputs": [
    {
     "data": {
      "text/plain": [
       "array([30.55347132,  0.1302711 ,  6.65845037,  7.93281776])"
      ]
     },
     "execution_count": 172,
     "metadata": {},
     "output_type": "execute_result"
    }
   ],
   "source": [
    "#calculating beta_hat\n",
    "X = sample_df.values[:,0:3]\n",
    "o = np.ones(sample_df.shape[0])\n",
    "X = np.vstack((o,X.T)).T\n",
    "Y = sample_df.values[:,3]\n",
    "beta_hat = (inv(X.T@X)@X.T)@Y\n",
    "beta_hat"
   ]
  },
  {
   "cell_type": "code",
   "execution_count": 173,
   "id": "78e31dff",
   "metadata": {},
   "outputs": [
    {
     "data": {
      "text/html": [
       "<div>\n",
       "<style scoped>\n",
       "    .dataframe tbody tr th:only-of-type {\n",
       "        vertical-align: middle;\n",
       "    }\n",
       "\n",
       "    .dataframe tbody tr th {\n",
       "        vertical-align: top;\n",
       "    }\n",
       "\n",
       "    .dataframe thead th {\n",
       "        text-align: right;\n",
       "    }\n",
       "</style>\n",
       "<table border=\"1\" class=\"dataframe\">\n",
       "  <thead>\n",
       "    <tr style=\"text-align: right;\">\n",
       "      <th></th>\n",
       "      <th>SS</th>\n",
       "      <th>df</th>\n",
       "      <th>MS</th>\n",
       "      <th>F_ratio</th>\n",
       "      <th>P_value</th>\n",
       "    </tr>\n",
       "  </thead>\n",
       "  <tbody>\n",
       "    <tr>\n",
       "      <th>Reg</th>\n",
       "      <td>6889.65</td>\n",
       "      <td>3</td>\n",
       "      <td>2296.55</td>\n",
       "      <td>13.395</td>\n",
       "      <td>6.45742e-09</td>\n",
       "    </tr>\n",
       "    <tr>\n",
       "      <th>Res</th>\n",
       "      <td>33603.9</td>\n",
       "      <td>196</td>\n",
       "      <td>171.449</td>\n",
       "      <td>NaN</td>\n",
       "      <td>NaN</td>\n",
       "    </tr>\n",
       "    <tr>\n",
       "      <th>Total</th>\n",
       "      <td>40493.6</td>\n",
       "      <td>199</td>\n",
       "      <td>203.485</td>\n",
       "      <td>NaN</td>\n",
       "      <td>NaN</td>\n",
       "    </tr>\n",
       "  </tbody>\n",
       "</table>\n",
       "</div>"
      ],
      "text/plain": [
       "            SS   df       MS F_ratio      P_value\n",
       "Reg    6889.65    3  2296.55  13.395  6.45742e-09\n",
       "Res    33603.9  196  171.449     NaN          NaN\n",
       "Total  40493.6  199  203.485     NaN          NaN"
      ]
     },
     "execution_count": 173,
     "metadata": {},
     "output_type": "execute_result"
    }
   ],
   "source": [
    "data = pd.DataFrame(columns= ['SS','df','MS', 'F_ratio', 'P_value'], index=['Reg', 'Res', 'Total'])\n",
    "SST = sum(np.square(Y-np.mean(Y)))\n",
    "SSRES = sum(np.square(Y-(X@beta_hat)))\n",
    "data.SS[2] = SST\n",
    "data.SS[1] = SSRES\n",
    "data.SS[0] = SST - SSRES\n",
    "data.df = [X.shape[1]-1, X.shape[0]-X.shape[1],X.shape[0]-1]\n",
    "data.MS = data.SS/data.df\n",
    "data.loc['Reg','F_ratio'] = (data.MS['Reg']/data.MS['Res'])\n",
    "data.loc['Reg','P_value'] = p_val\n",
    "data"
   ]
  },
  {
   "cell_type": "code",
   "execution_count": 174,
   "id": "99289bca",
   "metadata": {},
   "outputs": [
    {
     "data": {
      "text/plain": [
       "0.17014178846530315"
      ]
     },
     "execution_count": 174,
     "metadata": {},
     "output_type": "execute_result"
    }
   ],
   "source": [
    "R_squered = 1 - (SSRES/SST)\n",
    "R_squered"
   ]
  },
  {
   "cell_type": "code",
   "execution_count": 175,
   "id": "a5afe554",
   "metadata": {},
   "outputs": [
    {
     "data": {
      "text/plain": [
       "0.15743987706426177"
      ]
     },
     "execution_count": 175,
     "metadata": {},
     "output_type": "execute_result"
    }
   ],
   "source": [
    "R_adj_sqr = 1 - (data['MS'][1]/data['MS'][2])\n",
    "R_adj_sqr"
   ]
  },
  {
   "cell_type": "markdown",
   "id": "cd35a52c",
   "metadata": {},
   "source": [
    "#### Acording to F test we reject the null hypothesis, at least one of the elementa in beta isn't 0."
   ]
  },
  {
   "cell_type": "markdown",
   "id": "c55319e3",
   "metadata": {},
   "source": [
    "#### Now we will calculate CI for the beta and the \"real\" beta (of all data)"
   ]
  },
  {
   "cell_type": "code",
   "execution_count": 176,
   "id": "292de2c6",
   "metadata": {},
   "outputs": [
    {
     "data": {
      "text/plain": [
       "[[24.510342758917936, 36.59659988491482],\n",
       " [-0.017295820767994546, 0.2778380135002214],\n",
       " [2.624603774508813, 10.692296967901552],\n",
       " [3.5582457825212552, 12.307389735544895]]"
      ]
     },
     "execution_count": 176,
     "metadata": {},
     "output_type": "execute_result"
    }
   ],
   "source": [
    "var_list = []\n",
    "for i, beta in enumerate(beta_hat):\n",
    "     var_list.append(data['MS'][1]*inv(X.T@X)[i][i])\n",
    "CI_list = []\n",
    "for i in range(4):\n",
    "    CI_list.append([beta_hat[i]-2*np.sqrt(var_list[i]), beta_hat[i]+2*np.sqrt(var_list[i])])\n",
    "CI_list"
   ]
  },
  {
   "cell_type": "code",
   "execution_count": 177,
   "id": "9f306fcb",
   "metadata": {},
   "outputs": [
    {
     "data": {
      "text/html": [
       "<div>\n",
       "<style scoped>\n",
       "    .dataframe tbody tr th:only-of-type {\n",
       "        vertical-align: middle;\n",
       "    }\n",
       "\n",
       "    .dataframe tbody tr th {\n",
       "        vertical-align: top;\n",
       "    }\n",
       "\n",
       "    .dataframe thead th {\n",
       "        text-align: right;\n",
       "    }\n",
       "</style>\n",
       "<table border=\"1\" class=\"dataframe\">\n",
       "  <thead>\n",
       "    <tr style=\"text-align: right;\">\n",
       "      <th></th>\n",
       "      <th>age</th>\n",
       "      <th>gender_Male</th>\n",
       "      <th>income_&gt;50K</th>\n",
       "      <th>hours-per-week</th>\n",
       "    </tr>\n",
       "  </thead>\n",
       "  <tbody>\n",
       "    <tr>\n",
       "      <th>0</th>\n",
       "      <td>25</td>\n",
       "      <td>1</td>\n",
       "      <td>0</td>\n",
       "      <td>40</td>\n",
       "    </tr>\n",
       "    <tr>\n",
       "      <th>1</th>\n",
       "      <td>38</td>\n",
       "      <td>1</td>\n",
       "      <td>0</td>\n",
       "      <td>50</td>\n",
       "    </tr>\n",
       "    <tr>\n",
       "      <th>2</th>\n",
       "      <td>28</td>\n",
       "      <td>1</td>\n",
       "      <td>1</td>\n",
       "      <td>40</td>\n",
       "    </tr>\n",
       "    <tr>\n",
       "      <th>3</th>\n",
       "      <td>44</td>\n",
       "      <td>1</td>\n",
       "      <td>1</td>\n",
       "      <td>40</td>\n",
       "    </tr>\n",
       "    <tr>\n",
       "      <th>5</th>\n",
       "      <td>34</td>\n",
       "      <td>1</td>\n",
       "      <td>0</td>\n",
       "      <td>30</td>\n",
       "    </tr>\n",
       "    <tr>\n",
       "      <th>...</th>\n",
       "      <td>...</td>\n",
       "      <td>...</td>\n",
       "      <td>...</td>\n",
       "      <td>...</td>\n",
       "    </tr>\n",
       "    <tr>\n",
       "      <th>48837</th>\n",
       "      <td>27</td>\n",
       "      <td>0</td>\n",
       "      <td>0</td>\n",
       "      <td>38</td>\n",
       "    </tr>\n",
       "    <tr>\n",
       "      <th>48838</th>\n",
       "      <td>40</td>\n",
       "      <td>1</td>\n",
       "      <td>1</td>\n",
       "      <td>40</td>\n",
       "    </tr>\n",
       "    <tr>\n",
       "      <th>48839</th>\n",
       "      <td>58</td>\n",
       "      <td>0</td>\n",
       "      <td>0</td>\n",
       "      <td>40</td>\n",
       "    </tr>\n",
       "    <tr>\n",
       "      <th>48840</th>\n",
       "      <td>22</td>\n",
       "      <td>1</td>\n",
       "      <td>0</td>\n",
       "      <td>20</td>\n",
       "    </tr>\n",
       "    <tr>\n",
       "      <th>48841</th>\n",
       "      <td>52</td>\n",
       "      <td>0</td>\n",
       "      <td>1</td>\n",
       "      <td>40</td>\n",
       "    </tr>\n",
       "  </tbody>\n",
       "</table>\n",
       "<p>45222 rows × 4 columns</p>\n",
       "</div>"
      ],
      "text/plain": [
       "       age  gender_Male  income_>50K  hours-per-week\n",
       "0       25            1            0              40\n",
       "1       38            1            0              50\n",
       "2       28            1            1              40\n",
       "3       44            1            1              40\n",
       "5       34            1            0              30\n",
       "...    ...          ...          ...             ...\n",
       "48837   27            0            0              38\n",
       "48838   40            1            1              40\n",
       "48839   58            0            0              40\n",
       "48840   22            1            0              20\n",
       "48841   52            0            1              40\n",
       "\n",
       "[45222 rows x 4 columns]"
      ]
     },
     "execution_count": 177,
     "metadata": {},
     "output_type": "execute_result"
    }
   ],
   "source": [
    "#for calculating we transform binery variables to indicator\n",
    "tmp_df2 = pd.get_dummies(data=tmp_df2, drop_first=True)\n",
    "tmp_df2 = tmp_df2[[\"age\", \"gender_Male\", \"income_>50K\", \"hours-per-week\"]]\n",
    "tmp_df2"
   ]
  },
  {
   "cell_type": "code",
   "execution_count": 178,
   "id": "61e3e66e",
   "metadata": {},
   "outputs": [
    {
     "data": {
      "text/plain": [
       "array([34.87350975,  0.04068392,  4.86743597,  4.88402117])"
      ]
     },
     "execution_count": 178,
     "metadata": {},
     "output_type": "execute_result"
    }
   ],
   "source": [
    "X_full = tmp_df2.values[:,0:3]\n",
    "o_full = np.ones(tmp_df2.shape[0])\n",
    "X_full = np.vstack((o_full,X_full.T)).T\n",
    "Y_full = tmp_df2.values[:,3]\n",
    "beta_hat_full = (inv(X_full.T@X_full)@X_full.T)@Y_full\n",
    "beta_hat_full"
   ]
  },
  {
   "cell_type": "markdown",
   "id": "a1bd3cf7",
   "metadata": {},
   "source": [
    "#### We can see that all the \"real\" elementa in beta are in their CI"
   ]
  },
  {
   "cell_type": "code",
   "execution_count": 179,
   "id": "2d5c9121",
   "metadata": {},
   "outputs": [
    {
     "data": {
      "text/plain": [
       "['reject', 'not reject', 'reject', 'reject']"
      ]
     },
     "execution_count": 179,
     "metadata": {},
     "output_type": "execute_result"
    }
   ],
   "source": [
    "#check if beta_i equal to 0\n",
    "check = []\n",
    "for i, beta in enumerate(beta_hat):\n",
    "    if abs(beta/np.sqrt(var_list[i])) > 2:\n",
    "        check.append(\"reject\")\n",
    "    else:\n",
    "        check.append(\"not reject\")\n",
    "check   "
   ]
  },
  {
   "cell_type": "code",
   "execution_count": 180,
   "id": "af1986ff",
   "metadata": {},
   "outputs": [
    {
     "data": {
      "text/plain": [
       "Text(0, 0.5, 'Error')"
      ]
     },
     "execution_count": 180,
     "metadata": {},
     "output_type": "execute_result"
    },
    {
     "data": {
      "image/png": "[encoded data removed]",
      "text/plain": [
       "<Figure size 432x288 with 1 Axes>"
      ]
     },
     "metadata": {
      "needs_background": "light"
     },
     "output_type": "display_data"
    }
   ],
   "source": [
    "e = Y-X@beta_hat\n",
    "plt.scatter(X@beta_hat, e)\n",
    "plt.title('The errors as a function of the prediction')\n",
    "plt.xlabel('Prediction/Y_hat')\n",
    "plt.axhline(0)\n",
    "plt.ylabel('Error')"
   ]
  },
  {
   "cell_type": "markdown",
   "id": "041ea3cd",
   "metadata": {},
   "source": [
    "#### Now we take another sample that not contains the first sample"
   ]
  },
  {
   "cell_type": "code",
   "execution_count": 181,
   "id": "3e6259b7",
   "metadata": {},
   "outputs": [
    {
     "data": {
      "text/html": [
       "<div>\n",
       "<style scoped>\n",
       "    .dataframe tbody tr th:only-of-type {\n",
       "        vertical-align: middle;\n",
       "    }\n",
       "\n",
       "    .dataframe tbody tr th {\n",
       "        vertical-align: top;\n",
       "    }\n",
       "\n",
       "    .dataframe thead th {\n",
       "        text-align: right;\n",
       "    }\n",
       "</style>\n",
       "<table border=\"1\" class=\"dataframe\">\n",
       "  <thead>\n",
       "    <tr style=\"text-align: right;\">\n",
       "      <th></th>\n",
       "      <th>age</th>\n",
       "      <th>gender_Male</th>\n",
       "      <th>income_&gt;50K</th>\n",
       "      <th>hours-per-week</th>\n",
       "    </tr>\n",
       "  </thead>\n",
       "  <tbody>\n",
       "    <tr>\n",
       "      <th>30497</th>\n",
       "      <td>53</td>\n",
       "      <td>1</td>\n",
       "      <td>1</td>\n",
       "      <td>40</td>\n",
       "    </tr>\n",
       "    <tr>\n",
       "      <th>42557</th>\n",
       "      <td>61</td>\n",
       "      <td>0</td>\n",
       "      <td>0</td>\n",
       "      <td>30</td>\n",
       "    </tr>\n",
       "    <tr>\n",
       "      <th>34061</th>\n",
       "      <td>21</td>\n",
       "      <td>0</td>\n",
       "      <td>0</td>\n",
       "      <td>20</td>\n",
       "    </tr>\n",
       "    <tr>\n",
       "      <th>42447</th>\n",
       "      <td>48</td>\n",
       "      <td>0</td>\n",
       "      <td>0</td>\n",
       "      <td>60</td>\n",
       "    </tr>\n",
       "    <tr>\n",
       "      <th>50003</th>\n",
       "      <td>41</td>\n",
       "      <td>0</td>\n",
       "      <td>1</td>\n",
       "      <td>55</td>\n",
       "    </tr>\n",
       "    <tr>\n",
       "      <th>...</th>\n",
       "      <td>...</td>\n",
       "      <td>...</td>\n",
       "      <td>...</td>\n",
       "      <td>...</td>\n",
       "    </tr>\n",
       "    <tr>\n",
       "      <th>45685</th>\n",
       "      <td>49</td>\n",
       "      <td>1</td>\n",
       "      <td>1</td>\n",
       "      <td>42</td>\n",
       "    </tr>\n",
       "    <tr>\n",
       "      <th>45233</th>\n",
       "      <td>34</td>\n",
       "      <td>1</td>\n",
       "      <td>1</td>\n",
       "      <td>48</td>\n",
       "    </tr>\n",
       "    <tr>\n",
       "      <th>44289</th>\n",
       "      <td>57</td>\n",
       "      <td>1</td>\n",
       "      <td>0</td>\n",
       "      <td>70</td>\n",
       "    </tr>\n",
       "    <tr>\n",
       "      <th>45769</th>\n",
       "      <td>39</td>\n",
       "      <td>1</td>\n",
       "      <td>0</td>\n",
       "      <td>24</td>\n",
       "    </tr>\n",
       "    <tr>\n",
       "      <th>13481</th>\n",
       "      <td>56</td>\n",
       "      <td>1</td>\n",
       "      <td>1</td>\n",
       "      <td>40</td>\n",
       "    </tr>\n",
       "  </tbody>\n",
       "</table>\n",
       "<p>1000 rows × 4 columns</p>\n",
       "</div>"
      ],
      "text/plain": [
       "       age  gender_Male  income_>50K  hours-per-week\n",
       "30497   53            1            1              40\n",
       "42557   61            0            0              30\n",
       "34061   21            0            0              20\n",
       "42447   48            0            0              60\n",
       "50003   41            0            1              55\n",
       "...    ...          ...          ...             ...\n",
       "45685   49            1            1              42\n",
       "45233   34            1            1              48\n",
       "44289   57            1            0              70\n",
       "45769   39            1            0              24\n",
       "13481   56            1            1              40\n",
       "\n",
       "[1000 rows x 4 columns]"
      ]
     },
     "execution_count": 181,
     "metadata": {},
     "output_type": "execute_result"
    }
   ],
   "source": [
    "new_df = tmp_df2.merge(sample_df, how = 'outer' ,indicator=True).loc[lambda x : x['_merge']=='left_only']\n",
    "new_df = new_df[[\"age\", \"gender_Male\", \"income_>50K\", \"hours-per-week\"]]\n",
    "new_df = new_df.sample(n=1000, random_state = 1)\n",
    "new_df"
   ]
  },
  {
   "cell_type": "markdown",
   "id": "daeb6054",
   "metadata": {},
   "source": [
    "#### We predict now the Y of the new points, and CI for the points. Then we want to check the percent of them that contains the real value of Y"
   ]
  },
  {
   "cell_type": "code",
   "execution_count": 182,
   "id": "938d1538",
   "metadata": {},
   "outputs": [
    {
     "data": {
      "text/plain": [
       "0.95"
      ]
     },
     "execution_count": 182,
     "metadata": {},
     "output_type": "execute_result"
    }
   ],
   "source": [
    "X_new = new_df.values[:,0:3]\n",
    "o_new = np.ones(new_df.shape[0])\n",
    "X_new = np.vstack((o_new,X_new.T)).T\n",
    "Y_new = new_df.values[:,3]\n",
    "Y_new_hat = []\n",
    "C = inv(X.T@X)\n",
    "CI = []\n",
    "for x in X_new:\n",
    "    y_new_hat = beta_hat.T@x\n",
    "    Y_new_hat.append(y_new_hat)\n",
    "    ci = [y_new_hat - 2*np.sqrt(data['MS'][1]*(x.T@C@x + 1)), y_new_hat + 2*np.sqrt(data['MS'][1]*(x.T@C@x + 1))]\n",
    "    CI.append(ci) \n",
    "check_list = []\n",
    "for i, ci in enumerate(CI):\n",
    "    if Y_new[i] >= ci[0] and Y_new[i] <= ci[1]:\n",
    "        check_list.append(1)\n",
    "correct_percent = sum(check_list)/1000\n",
    "correct_percent"
   ]
  },
  {
   "cell_type": "markdown",
   "id": "f780accc",
   "metadata": {},
   "source": [
    "#### Now we add interactions "
   ]
  },
  {
   "cell_type": "code",
   "execution_count": 183,
   "id": "506bcd49",
   "metadata": {},
   "outputs": [
    {
     "data": {
      "text/html": [
       "<div>\n",
       "<style scoped>\n",
       "    .dataframe tbody tr th:only-of-type {\n",
       "        vertical-align: middle;\n",
       "    }\n",
       "\n",
       "    .dataframe tbody tr th {\n",
       "        vertical-align: top;\n",
       "    }\n",
       "\n",
       "    .dataframe thead th {\n",
       "        text-align: right;\n",
       "    }\n",
       "</style>\n",
       "<table border=\"1\" class=\"dataframe\">\n",
       "  <thead>\n",
       "    <tr style=\"text-align: right;\">\n",
       "      <th></th>\n",
       "      <th>age</th>\n",
       "      <th>gender_Male</th>\n",
       "      <th>income_&gt;50K</th>\n",
       "      <th>age-gender</th>\n",
       "      <th>age-income</th>\n",
       "      <th>gender-income</th>\n",
       "      <th>hours-per-week</th>\n",
       "    </tr>\n",
       "  </thead>\n",
       "  <tbody>\n",
       "    <tr>\n",
       "      <th>42093</th>\n",
       "      <td>64</td>\n",
       "      <td>0</td>\n",
       "      <td>0</td>\n",
       "      <td>0</td>\n",
       "      <td>0</td>\n",
       "      <td>0</td>\n",
       "      <td>40</td>\n",
       "    </tr>\n",
       "    <tr>\n",
       "      <th>31739</th>\n",
       "      <td>56</td>\n",
       "      <td>1</td>\n",
       "      <td>0</td>\n",
       "      <td>56</td>\n",
       "      <td>0</td>\n",
       "      <td>0</td>\n",
       "      <td>40</td>\n",
       "    </tr>\n",
       "    <tr>\n",
       "      <th>10773</th>\n",
       "      <td>36</td>\n",
       "      <td>1</td>\n",
       "      <td>0</td>\n",
       "      <td>36</td>\n",
       "      <td>0</td>\n",
       "      <td>0</td>\n",
       "      <td>60</td>\n",
       "    </tr>\n",
       "    <tr>\n",
       "      <th>15850</th>\n",
       "      <td>19</td>\n",
       "      <td>1</td>\n",
       "      <td>0</td>\n",
       "      <td>19</td>\n",
       "      <td>0</td>\n",
       "      <td>0</td>\n",
       "      <td>37</td>\n",
       "    </tr>\n",
       "    <tr>\n",
       "      <th>40645</th>\n",
       "      <td>32</td>\n",
       "      <td>1</td>\n",
       "      <td>1</td>\n",
       "      <td>32</td>\n",
       "      <td>32</td>\n",
       "      <td>1</td>\n",
       "      <td>45</td>\n",
       "    </tr>\n",
       "    <tr>\n",
       "      <th>...</th>\n",
       "      <td>...</td>\n",
       "      <td>...</td>\n",
       "      <td>...</td>\n",
       "      <td>...</td>\n",
       "      <td>...</td>\n",
       "      <td>...</td>\n",
       "      <td>...</td>\n",
       "    </tr>\n",
       "    <tr>\n",
       "      <th>1162</th>\n",
       "      <td>36</td>\n",
       "      <td>1</td>\n",
       "      <td>0</td>\n",
       "      <td>36</td>\n",
       "      <td>0</td>\n",
       "      <td>0</td>\n",
       "      <td>35</td>\n",
       "    </tr>\n",
       "    <tr>\n",
       "      <th>4978</th>\n",
       "      <td>38</td>\n",
       "      <td>1</td>\n",
       "      <td>0</td>\n",
       "      <td>38</td>\n",
       "      <td>0</td>\n",
       "      <td>0</td>\n",
       "      <td>42</td>\n",
       "    </tr>\n",
       "    <tr>\n",
       "      <th>46821</th>\n",
       "      <td>30</td>\n",
       "      <td>1</td>\n",
       "      <td>0</td>\n",
       "      <td>30</td>\n",
       "      <td>0</td>\n",
       "      <td>0</td>\n",
       "      <td>40</td>\n",
       "    </tr>\n",
       "    <tr>\n",
       "      <th>26123</th>\n",
       "      <td>46</td>\n",
       "      <td>1</td>\n",
       "      <td>1</td>\n",
       "      <td>46</td>\n",
       "      <td>46</td>\n",
       "      <td>1</td>\n",
       "      <td>70</td>\n",
       "    </tr>\n",
       "    <tr>\n",
       "      <th>42955</th>\n",
       "      <td>42</td>\n",
       "      <td>1</td>\n",
       "      <td>0</td>\n",
       "      <td>42</td>\n",
       "      <td>0</td>\n",
       "      <td>0</td>\n",
       "      <td>60</td>\n",
       "    </tr>\n",
       "  </tbody>\n",
       "</table>\n",
       "<p>200 rows × 7 columns</p>\n",
       "</div>"
      ],
      "text/plain": [
       "       age  gender_Male  income_>50K  age-gender  age-income  gender-income  \\\n",
       "42093   64            0            0           0           0              0   \n",
       "31739   56            1            0          56           0              0   \n",
       "10773   36            1            0          36           0              0   \n",
       "15850   19            1            0          19           0              0   \n",
       "40645   32            1            1          32          32              1   \n",
       "...    ...          ...          ...         ...         ...            ...   \n",
       "1162    36            1            0          36           0              0   \n",
       "4978    38            1            0          38           0              0   \n",
       "46821   30            1            0          30           0              0   \n",
       "26123   46            1            1          46          46              1   \n",
       "42955   42            1            0          42           0              0   \n",
       "\n",
       "       hours-per-week  \n",
       "42093              40  \n",
       "31739              40  \n",
       "10773              60  \n",
       "15850              37  \n",
       "40645              45  \n",
       "...               ...  \n",
       "1162               35  \n",
       "4978               42  \n",
       "46821              40  \n",
       "26123              70  \n",
       "42955              60  \n",
       "\n",
       "[200 rows x 7 columns]"
      ]
     },
     "execution_count": 183,
     "metadata": {},
     "output_type": "execute_result"
    }
   ],
   "source": [
    "interaction_df = sample_df\n",
    "interaction_df[\"age-gender\"] = interaction_df[\"age\"]*interaction_df[\"gender_Male\"]\n",
    "interaction_df[\"age-income\"] = interaction_df[\"age\"]*interaction_df[\"income_>50K\"]\n",
    "interaction_df[\"gender-income\"] = interaction_df[\"gender_Male\"]*interaction_df[\"income_>50K\"]\n",
    "interaction_df = interaction_df[[\"age\", \"gender_Male\", \"income_>50K\", \"age-gender\", \"age-income\", \"gender-income\", \"hours-per-week\"]]\n",
    "interaction_df"
   ]
  },
  {
   "cell_type": "code",
   "execution_count": 184,
   "id": "03af94c4",
   "metadata": {},
   "outputs": [
    {
     "data": {
      "text/plain": [
       "array([ 2.80087657e+01,  1.98588340e-01,  7.41806617e+00,  2.54705895e+01,\n",
       "       -1.88623676e-02, -4.70397808e-01,  2.04436966e+00])"
      ]
     },
     "execution_count": 184,
     "metadata": {},
     "output_type": "execute_result"
    }
   ],
   "source": [
    "X_inter = interaction_df.values[:,0:6]\n",
    "o_inter = np.ones(interaction_df.shape[0])\n",
    "X_inter = np.vstack((o_inter,X_inter.T)).T\n",
    "Y_inter = interaction_df.values[:,6]\n",
    "beta_hat_inter = (inv(X_inter.T@X_inter)@X_inter.T)@Y_inter\n",
    "beta_hat_inter"
   ]
  },
  {
   "cell_type": "code",
   "execution_count": 185,
   "id": "ffeffb46",
   "metadata": {},
   "outputs": [
    {
     "name": "stdout",
     "output_type": "stream",
     "text": [
      "                            OLS Regression Results                            \n",
      "==============================================================================\n",
      "Dep. Variable:                      y   R-squared:                       0.170\n",
      "Model:                            OLS   Adj. R-squared:                  0.157\n",
      "Method:                 Least Squares   F-statistic:                     13.39\n",
      "Date:                Sat, 23 Oct 2021   Prob (F-statistic):           5.47e-08\n",
      "Time:                        21:18:09   Log-Likelihood:                -796.20\n",
      "No. Observations:                 200   AIC:                             1600.\n",
      "Df Residuals:                     196   BIC:                             1614.\n",
      "Df Model:                           3                                         \n",
      "Covariance Type:            nonrobust                                         \n",
      "==============================================================================\n",
      "                 coef    std err          t      P>|t|      [0.025      0.975]\n",
      "------------------------------------------------------------------------------\n",
      "const         30.5535      3.022     10.112      0.000      24.595      36.512\n",
      "x1             0.1303      0.074      1.766      0.079      -0.015       0.276\n",
      "x2             6.6585      2.017      3.301      0.001       2.681      10.636\n",
      "x3             7.9328      2.187      3.627      0.000       3.619      12.246\n",
      "==============================================================================\n",
      "Omnibus:                       40.237   Durbin-Watson:                   2.048\n",
      "Prob(Omnibus):                  0.000   Jarque-Bera (JB):               97.409\n",
      "Skew:                           0.885   Prob(JB):                     7.04e-22\n",
      "Kurtosis:                       5.925   Cond. No.                         135.\n",
      "==============================================================================\n",
      "\n",
      "Notes:\n",
      "[1] Standard Errors assume that the covariance matrix of the errors is correctly specified.\n",
      "                            OLS Regression Results                            \n",
      "==============================================================================\n",
      "Dep. Variable:                      y   R-squared:                       0.189\n",
      "Model:                            OLS   Adj. R-squared:                  0.163\n",
      "Method:                 Least Squares   F-statistic:                     7.477\n",
      "Date:                Sat, 23 Oct 2021   Prob (F-statistic):           3.25e-07\n",
      "Time:                        21:18:09   Log-Likelihood:                -793.94\n",
      "No. Observations:                 200   AIC:                             1602.\n",
      "Df Residuals:                     193   BIC:                             1625.\n",
      "Df Model:                           6                                         \n",
      "Covariance Type:            nonrobust                                         \n",
      "==============================================================================\n",
      "                 coef    std err          t      P>|t|      [0.025      0.975]\n",
      "------------------------------------------------------------------------------\n",
      "const         28.0088      4.588      6.104      0.000      18.959      37.058\n",
      "x1             0.1986      0.121      1.643      0.102      -0.040       0.437\n",
      "x2             7.4181      6.070      1.222      0.223      -4.554      19.390\n",
      "x3            25.4706      9.505      2.680      0.008       6.723      44.218\n",
      "x4            -0.0189      0.155     -0.121      0.903      -0.325       0.287\n",
      "x5            -0.4704      0.233     -2.015      0.045      -0.931      -0.010\n",
      "x6             2.0444      5.716      0.358      0.721      -9.229      13.318\n",
      "==============================================================================\n",
      "Omnibus:                       37.845   Durbin-Watson:                   2.029\n",
      "Prob(Omnibus):                  0.000   Jarque-Bera (JB):               86.691\n",
      "Skew:                           0.853   Prob(JB):                     1.50e-19\n",
      "Kurtosis:                       5.737   Cond. No.                         543.\n",
      "==============================================================================\n",
      "\n",
      "Notes:\n",
      "[1] Standard Errors assume that the covariance matrix of the errors is correctly specified.\n"
     ]
    }
   ],
   "source": [
    "base_model = sm.OLS(Y, X)\n",
    "base_result = base_model.fit()\n",
    "print(base_result.summary())\n",
    "\n",
    "inter_model = sm.OLS(Y_inter, X_inter)\n",
    "inter_result = inter_model.fit()\n",
    "print(inter_result.summary())"
   ]
  },
  {
   "cell_type": "markdown",
   "id": "524438e5",
   "metadata": {},
   "source": [
    "#### After comparing both models we got that acording the AIC and BIC the second model (with interactions) is better"
   ]
  },
  {
   "cell_type": "markdown",
   "id": "93eeda3e",
   "metadata": {},
   "source": [
    "# Logistic regression"
   ]
  },
  {
   "cell_type": "markdown",
   "id": "cb071ca6",
   "metadata": {},
   "source": [
    "### We want to check, does age, hours per week and workclass affect the income"
   ]
  },
  {
   "cell_type": "code",
   "execution_count": 186,
   "id": "e417ecf9",
   "metadata": {},
   "outputs": [
    {
     "data": {
      "text/html": [
       "<div>\n",
       "<style scoped>\n",
       "    .dataframe tbody tr th:only-of-type {\n",
       "        vertical-align: middle;\n",
       "    }\n",
       "\n",
       "    .dataframe tbody tr th {\n",
       "        vertical-align: top;\n",
       "    }\n",
       "\n",
       "    .dataframe thead th {\n",
       "        text-align: right;\n",
       "    }\n",
       "</style>\n",
       "<table border=\"1\" class=\"dataframe\">\n",
       "  <thead>\n",
       "    <tr style=\"text-align: right;\">\n",
       "      <th></th>\n",
       "      <th>age</th>\n",
       "      <th>hours-per-week</th>\n",
       "      <th>workclass</th>\n",
       "      <th>income</th>\n",
       "    </tr>\n",
       "  </thead>\n",
       "  <tbody>\n",
       "    <tr>\n",
       "      <th>0</th>\n",
       "      <td>25</td>\n",
       "      <td>40</td>\n",
       "      <td>Private</td>\n",
       "      <td>&lt;=50K</td>\n",
       "    </tr>\n",
       "    <tr>\n",
       "      <th>1</th>\n",
       "      <td>38</td>\n",
       "      <td>50</td>\n",
       "      <td>Private</td>\n",
       "      <td>&lt;=50K</td>\n",
       "    </tr>\n",
       "    <tr>\n",
       "      <th>2</th>\n",
       "      <td>28</td>\n",
       "      <td>40</td>\n",
       "      <td>Local-gov</td>\n",
       "      <td>&gt;50K</td>\n",
       "    </tr>\n",
       "    <tr>\n",
       "      <th>3</th>\n",
       "      <td>44</td>\n",
       "      <td>40</td>\n",
       "      <td>Private</td>\n",
       "      <td>&gt;50K</td>\n",
       "    </tr>\n",
       "    <tr>\n",
       "      <th>5</th>\n",
       "      <td>34</td>\n",
       "      <td>30</td>\n",
       "      <td>Private</td>\n",
       "      <td>&lt;=50K</td>\n",
       "    </tr>\n",
       "    <tr>\n",
       "      <th>...</th>\n",
       "      <td>...</td>\n",
       "      <td>...</td>\n",
       "      <td>...</td>\n",
       "      <td>...</td>\n",
       "    </tr>\n",
       "    <tr>\n",
       "      <th>48837</th>\n",
       "      <td>27</td>\n",
       "      <td>38</td>\n",
       "      <td>Private</td>\n",
       "      <td>&lt;=50K</td>\n",
       "    </tr>\n",
       "    <tr>\n",
       "      <th>48838</th>\n",
       "      <td>40</td>\n",
       "      <td>40</td>\n",
       "      <td>Private</td>\n",
       "      <td>&gt;50K</td>\n",
       "    </tr>\n",
       "    <tr>\n",
       "      <th>48839</th>\n",
       "      <td>58</td>\n",
       "      <td>40</td>\n",
       "      <td>Private</td>\n",
       "      <td>&lt;=50K</td>\n",
       "    </tr>\n",
       "    <tr>\n",
       "      <th>48840</th>\n",
       "      <td>22</td>\n",
       "      <td>20</td>\n",
       "      <td>Private</td>\n",
       "      <td>&lt;=50K</td>\n",
       "    </tr>\n",
       "    <tr>\n",
       "      <th>48841</th>\n",
       "      <td>52</td>\n",
       "      <td>40</td>\n",
       "      <td>Self-emp-inc</td>\n",
       "      <td>&gt;50K</td>\n",
       "    </tr>\n",
       "  </tbody>\n",
       "</table>\n",
       "<p>45222 rows × 4 columns</p>\n",
       "</div>"
      ],
      "text/plain": [
       "       age  hours-per-week     workclass income\n",
       "0       25              40       Private  <=50K\n",
       "1       38              50       Private  <=50K\n",
       "2       28              40     Local-gov   >50K\n",
       "3       44              40       Private   >50K\n",
       "5       34              30       Private  <=50K\n",
       "...    ...             ...           ...    ...\n",
       "48837   27              38       Private  <=50K\n",
       "48838   40              40       Private   >50K\n",
       "48839   58              40       Private  <=50K\n",
       "48840   22              20       Private  <=50K\n",
       "48841   52              40  Self-emp-inc   >50K\n",
       "\n",
       "[45222 rows x 4 columns]"
      ]
     },
     "execution_count": 186,
     "metadata": {},
     "output_type": "execute_result"
    }
   ],
   "source": [
    "#chooce the columns that we need for this exercise \n",
    "tmp_df3 = no_null_df[[\"age\",\"hours-per-week\", \"workclass\", \"income\"]]\n",
    "tmp_df3"
   ]
  },
  {
   "cell_type": "code",
   "execution_count": 187,
   "id": "4cbe038f",
   "metadata": {},
   "outputs": [
    {
     "data": {
      "text/html": [
       "<div>\n",
       "<style scoped>\n",
       "    .dataframe tbody tr th:only-of-type {\n",
       "        vertical-align: middle;\n",
       "    }\n",
       "\n",
       "    .dataframe tbody tr th {\n",
       "        vertical-align: top;\n",
       "    }\n",
       "\n",
       "    .dataframe thead th {\n",
       "        text-align: right;\n",
       "    }\n",
       "</style>\n",
       "<table border=\"1\" class=\"dataframe\">\n",
       "  <thead>\n",
       "    <tr style=\"text-align: right;\">\n",
       "      <th></th>\n",
       "      <th>age</th>\n",
       "      <th>hours-per-week</th>\n",
       "      <th>workclass</th>\n",
       "      <th>income</th>\n",
       "    </tr>\n",
       "  </thead>\n",
       "  <tbody>\n",
       "    <tr>\n",
       "      <th>42093</th>\n",
       "      <td>64</td>\n",
       "      <td>40</td>\n",
       "      <td>Private</td>\n",
       "      <td>&lt;=50K</td>\n",
       "    </tr>\n",
       "    <tr>\n",
       "      <th>31739</th>\n",
       "      <td>56</td>\n",
       "      <td>40</td>\n",
       "      <td>Private</td>\n",
       "      <td>&lt;=50K</td>\n",
       "    </tr>\n",
       "    <tr>\n",
       "      <th>10773</th>\n",
       "      <td>36</td>\n",
       "      <td>60</td>\n",
       "      <td>Private</td>\n",
       "      <td>&lt;=50K</td>\n",
       "    </tr>\n",
       "    <tr>\n",
       "      <th>15850</th>\n",
       "      <td>19</td>\n",
       "      <td>37</td>\n",
       "      <td>Private</td>\n",
       "      <td>&lt;=50K</td>\n",
       "    </tr>\n",
       "    <tr>\n",
       "      <th>40645</th>\n",
       "      <td>32</td>\n",
       "      <td>45</td>\n",
       "      <td>Private</td>\n",
       "      <td>&gt;50K</td>\n",
       "    </tr>\n",
       "    <tr>\n",
       "      <th>...</th>\n",
       "      <td>...</td>\n",
       "      <td>...</td>\n",
       "      <td>...</td>\n",
       "      <td>...</td>\n",
       "    </tr>\n",
       "    <tr>\n",
       "      <th>1162</th>\n",
       "      <td>36</td>\n",
       "      <td>35</td>\n",
       "      <td>Self-emp-not-inc</td>\n",
       "      <td>&lt;=50K</td>\n",
       "    </tr>\n",
       "    <tr>\n",
       "      <th>4978</th>\n",
       "      <td>38</td>\n",
       "      <td>42</td>\n",
       "      <td>Private</td>\n",
       "      <td>&lt;=50K</td>\n",
       "    </tr>\n",
       "    <tr>\n",
       "      <th>46821</th>\n",
       "      <td>30</td>\n",
       "      <td>40</td>\n",
       "      <td>Self-emp-not-inc</td>\n",
       "      <td>&lt;=50K</td>\n",
       "    </tr>\n",
       "    <tr>\n",
       "      <th>26123</th>\n",
       "      <td>46</td>\n",
       "      <td>70</td>\n",
       "      <td>Self-emp-inc</td>\n",
       "      <td>&gt;50K</td>\n",
       "    </tr>\n",
       "    <tr>\n",
       "      <th>42955</th>\n",
       "      <td>42</td>\n",
       "      <td>60</td>\n",
       "      <td>Private</td>\n",
       "      <td>&lt;=50K</td>\n",
       "    </tr>\n",
       "  </tbody>\n",
       "</table>\n",
       "<p>200 rows × 4 columns</p>\n",
       "</div>"
      ],
      "text/plain": [
       "       age  hours-per-week         workclass income\n",
       "42093   64              40           Private  <=50K\n",
       "31739   56              40           Private  <=50K\n",
       "10773   36              60           Private  <=50K\n",
       "15850   19              37           Private  <=50K\n",
       "40645   32              45           Private   >50K\n",
       "...    ...             ...               ...    ...\n",
       "1162    36              35  Self-emp-not-inc  <=50K\n",
       "4978    38              42           Private  <=50K\n",
       "46821   30              40  Self-emp-not-inc  <=50K\n",
       "26123   46              70      Self-emp-inc   >50K\n",
       "42955   42              60           Private  <=50K\n",
       "\n",
       "[200 rows x 4 columns]"
      ]
     },
     "execution_count": 187,
     "metadata": {},
     "output_type": "execute_result"
    }
   ],
   "source": [
    "sample_df1 = tmp_df3.sample(n=200, random_state = 1)\n",
    "sample_df1"
   ]
  },
  {
   "cell_type": "code",
   "execution_count": 188,
   "id": "a91d989b",
   "metadata": {},
   "outputs": [
    {
     "data": {
      "text/html": [
       "<div>\n",
       "<style scoped>\n",
       "    .dataframe tbody tr th:only-of-type {\n",
       "        vertical-align: middle;\n",
       "    }\n",
       "\n",
       "    .dataframe tbody tr th {\n",
       "        vertical-align: top;\n",
       "    }\n",
       "\n",
       "    .dataframe thead th {\n",
       "        text-align: right;\n",
       "    }\n",
       "</style>\n",
       "<table border=\"1\" class=\"dataframe\">\n",
       "  <thead>\n",
       "    <tr style=\"text-align: right;\">\n",
       "      <th></th>\n",
       "      <th>counts</th>\n",
       "    </tr>\n",
       "  </thead>\n",
       "  <tbody>\n",
       "    <tr>\n",
       "      <th>Private</th>\n",
       "      <td>148</td>\n",
       "    </tr>\n",
       "    <tr>\n",
       "      <th>Self-emp-not-inc</th>\n",
       "      <td>18</td>\n",
       "    </tr>\n",
       "    <tr>\n",
       "      <th>Local-gov</th>\n",
       "      <td>13</td>\n",
       "    </tr>\n",
       "    <tr>\n",
       "      <th>Federal-gov</th>\n",
       "      <td>9</td>\n",
       "    </tr>\n",
       "    <tr>\n",
       "      <th>Self-emp-inc</th>\n",
       "      <td>8</td>\n",
       "    </tr>\n",
       "    <tr>\n",
       "      <th>State-gov</th>\n",
       "      <td>4</td>\n",
       "    </tr>\n",
       "  </tbody>\n",
       "</table>\n",
       "</div>"
      ],
      "text/plain": [
       "                  counts\n",
       "Private              148\n",
       "Self-emp-not-inc      18\n",
       "Local-gov             13\n",
       "Federal-gov            9\n",
       "Self-emp-inc           8\n",
       "State-gov              4"
      ]
     },
     "execution_count": 188,
     "metadata": {},
     "output_type": "execute_result"
    }
   ],
   "source": [
    "workclass = sample_df1['workclass']\n",
    "counts = sample_df1['workclass'].value_counts()\n",
    "pd.DataFrame({'counts': counts})"
   ]
  },
  {
   "cell_type": "code",
   "execution_count": 189,
   "id": "7b05a7de",
   "metadata": {},
   "outputs": [
    {
     "data": {
      "image/png": "[encoded data removed]",
      "text/plain": [
       "<Figure size 1800x360 with 1 Axes>"
      ]
     },
     "metadata": {
      "needs_background": "light"
     },
     "output_type": "display_data"
    }
   ],
   "source": [
    "make_categorial_hist(sample_df1, 'workclass')"
   ]
  },
  {
   "cell_type": "code",
   "execution_count": 190,
   "id": "27c59d29",
   "metadata": {},
   "outputs": [
    {
     "data": {
      "image/png": "[encoded data removed]",
      "text/plain": [
       "<Figure size 720x720 with 1 Axes>"
      ]
     },
     "metadata": {
      "needs_background": "light"
     },
     "output_type": "display_data"
    }
   ],
   "source": [
    "create_boxplot_y_per_x(sample_df1, \"income\", \"age\")"
   ]
  },
  {
   "cell_type": "code",
   "execution_count": 191,
   "id": "2d50d06c",
   "metadata": {},
   "outputs": [
    {
     "data": {
      "image/png": "[encoded data removed]",
      "text/plain": [
       "<Figure size 720x720 with 1 Axes>"
      ]
     },
     "metadata": {
      "needs_background": "light"
     },
     "output_type": "display_data"
    }
   ],
   "source": [
    "create_boxplot_y_per_x(sample_df1, \"income\", \"hours-per-week\")"
   ]
  },
  {
   "cell_type": "code",
   "execution_count": 192,
   "id": "6f85cedd",
   "metadata": {},
   "outputs": [
    {
     "data": {
      "text/html": [
       "<div>\n",
       "<style scoped>\n",
       "    .dataframe tbody tr th:only-of-type {\n",
       "        vertical-align: middle;\n",
       "    }\n",
       "\n",
       "    .dataframe tbody tr th {\n",
       "        vertical-align: top;\n",
       "    }\n",
       "\n",
       "    .dataframe thead th {\n",
       "        text-align: right;\n",
       "    }\n",
       "</style>\n",
       "<table border=\"1\" class=\"dataframe\">\n",
       "  <thead>\n",
       "    <tr style=\"text-align: right;\">\n",
       "      <th></th>\n",
       "      <th>age</th>\n",
       "      <th>hours-per-week</th>\n",
       "      <th>workclass_Local-gov</th>\n",
       "      <th>workclass_Private</th>\n",
       "      <th>workclass_Self-emp-inc</th>\n",
       "      <th>workclass_Self-emp-not-inc</th>\n",
       "      <th>workclass_State-gov</th>\n",
       "      <th>income_&gt;50K</th>\n",
       "    </tr>\n",
       "  </thead>\n",
       "  <tbody>\n",
       "    <tr>\n",
       "      <th>42093</th>\n",
       "      <td>64</td>\n",
       "      <td>40</td>\n",
       "      <td>0</td>\n",
       "      <td>1</td>\n",
       "      <td>0</td>\n",
       "      <td>0</td>\n",
       "      <td>0</td>\n",
       "      <td>0</td>\n",
       "    </tr>\n",
       "    <tr>\n",
       "      <th>31739</th>\n",
       "      <td>56</td>\n",
       "      <td>40</td>\n",
       "      <td>0</td>\n",
       "      <td>1</td>\n",
       "      <td>0</td>\n",
       "      <td>0</td>\n",
       "      <td>0</td>\n",
       "      <td>0</td>\n",
       "    </tr>\n",
       "    <tr>\n",
       "      <th>10773</th>\n",
       "      <td>36</td>\n",
       "      <td>60</td>\n",
       "      <td>0</td>\n",
       "      <td>1</td>\n",
       "      <td>0</td>\n",
       "      <td>0</td>\n",
       "      <td>0</td>\n",
       "      <td>0</td>\n",
       "    </tr>\n",
       "    <tr>\n",
       "      <th>15850</th>\n",
       "      <td>19</td>\n",
       "      <td>37</td>\n",
       "      <td>0</td>\n",
       "      <td>1</td>\n",
       "      <td>0</td>\n",
       "      <td>0</td>\n",
       "      <td>0</td>\n",
       "      <td>0</td>\n",
       "    </tr>\n",
       "    <tr>\n",
       "      <th>40645</th>\n",
       "      <td>32</td>\n",
       "      <td>45</td>\n",
       "      <td>0</td>\n",
       "      <td>1</td>\n",
       "      <td>0</td>\n",
       "      <td>0</td>\n",
       "      <td>0</td>\n",
       "      <td>1</td>\n",
       "    </tr>\n",
       "    <tr>\n",
       "      <th>...</th>\n",
       "      <td>...</td>\n",
       "      <td>...</td>\n",
       "      <td>...</td>\n",
       "      <td>...</td>\n",
       "      <td>...</td>\n",
       "      <td>...</td>\n",
       "      <td>...</td>\n",
       "      <td>...</td>\n",
       "    </tr>\n",
       "    <tr>\n",
       "      <th>1162</th>\n",
       "      <td>36</td>\n",
       "      <td>35</td>\n",
       "      <td>0</td>\n",
       "      <td>0</td>\n",
       "      <td>0</td>\n",
       "      <td>1</td>\n",
       "      <td>0</td>\n",
       "      <td>0</td>\n",
       "    </tr>\n",
       "    <tr>\n",
       "      <th>4978</th>\n",
       "      <td>38</td>\n",
       "      <td>42</td>\n",
       "      <td>0</td>\n",
       "      <td>1</td>\n",
       "      <td>0</td>\n",
       "      <td>0</td>\n",
       "      <td>0</td>\n",
       "      <td>0</td>\n",
       "    </tr>\n",
       "    <tr>\n",
       "      <th>46821</th>\n",
       "      <td>30</td>\n",
       "      <td>40</td>\n",
       "      <td>0</td>\n",
       "      <td>0</td>\n",
       "      <td>0</td>\n",
       "      <td>1</td>\n",
       "      <td>0</td>\n",
       "      <td>0</td>\n",
       "    </tr>\n",
       "    <tr>\n",
       "      <th>26123</th>\n",
       "      <td>46</td>\n",
       "      <td>70</td>\n",
       "      <td>0</td>\n",
       "      <td>0</td>\n",
       "      <td>1</td>\n",
       "      <td>0</td>\n",
       "      <td>0</td>\n",
       "      <td>1</td>\n",
       "    </tr>\n",
       "    <tr>\n",
       "      <th>42955</th>\n",
       "      <td>42</td>\n",
       "      <td>60</td>\n",
       "      <td>0</td>\n",
       "      <td>1</td>\n",
       "      <td>0</td>\n",
       "      <td>0</td>\n",
       "      <td>0</td>\n",
       "      <td>0</td>\n",
       "    </tr>\n",
       "  </tbody>\n",
       "</table>\n",
       "<p>200 rows × 8 columns</p>\n",
       "</div>"
      ],
      "text/plain": [
       "       age  hours-per-week  workclass_Local-gov  workclass_Private  \\\n",
       "42093   64              40                    0                  1   \n",
       "31739   56              40                    0                  1   \n",
       "10773   36              60                    0                  1   \n",
       "15850   19              37                    0                  1   \n",
       "40645   32              45                    0                  1   \n",
       "...    ...             ...                  ...                ...   \n",
       "1162    36              35                    0                  0   \n",
       "4978    38              42                    0                  1   \n",
       "46821   30              40                    0                  0   \n",
       "26123   46              70                    0                  0   \n",
       "42955   42              60                    0                  1   \n",
       "\n",
       "       workclass_Self-emp-inc  workclass_Self-emp-not-inc  \\\n",
       "42093                       0                           0   \n",
       "31739                       0                           0   \n",
       "10773                       0                           0   \n",
       "15850                       0                           0   \n",
       "40645                       0                           0   \n",
       "...                       ...                         ...   \n",
       "1162                        0                           1   \n",
       "4978                        0                           0   \n",
       "46821                       0                           1   \n",
       "26123                       1                           0   \n",
       "42955                       0                           0   \n",
       "\n",
       "       workclass_State-gov  income_>50K  \n",
       "42093                    0            0  \n",
       "31739                    0            0  \n",
       "10773                    0            0  \n",
       "15850                    0            0  \n",
       "40645                    0            1  \n",
       "...                    ...          ...  \n",
       "1162                     0            0  \n",
       "4978                     0            0  \n",
       "46821                    0            0  \n",
       "26123                    0            1  \n",
       "42955                    0            0  \n",
       "\n",
       "[200 rows x 8 columns]"
      ]
     },
     "execution_count": 192,
     "metadata": {},
     "output_type": "execute_result"
    }
   ],
   "source": [
    "#for calculating we transform binery variables to indicator\n",
    "sample_df1 = pd.get_dummies(data=sample_df1, drop_first=True)\n",
    "sample_df1"
   ]
  },
  {
   "cell_type": "markdown",
   "id": "7216d1b6",
   "metadata": {},
   "source": [
    "#### For estimate beta we will use a function"
   ]
  },
  {
   "cell_type": "code",
   "execution_count": 193,
   "id": "e756493c",
   "metadata": {},
   "outputs": [
    {
     "name": "stdout",
     "output_type": "stream",
     "text": [
      "Optimization terminated successfully.\n",
      "         Current function value: 0.505749\n",
      "         Iterations: 55\n",
      "         Function evaluations: 59\n",
      "         Gradient evaluations: 59\n",
      "                           Logit Regression Results                           \n",
      "==============================================================================\n",
      "Dep. Variable:                      y   No. Observations:                  200\n",
      "Model:                          Logit   Df Residuals:                      192\n",
      "Method:                           MLE   Df Model:                            7\n",
      "Date:                Sat, 23 Oct 2021   Pseudo R-squ.:                  0.1253\n",
      "Time:                        21:18:16   Log-Likelihood:                -101.15\n",
      "converged:                       True   LL-Null:                       -115.64\n",
      "Covariance Type:            nonrobust   LLR p-value:                 0.0001454\n",
      "==============================================================================\n",
      "                 coef    std err          z      P>|z|      [0.025      0.975]\n",
      "------------------------------------------------------------------------------\n",
      "const         -3.6832      1.113     -3.309      0.001      -5.865      -1.501\n",
      "x1             0.0238      0.015      1.598      0.110      -0.005       0.053\n",
      "x2             0.0565      0.014      3.981      0.000       0.029       0.084\n",
      "x3            -1.1381      0.983     -1.157      0.247      -3.066       0.789\n",
      "x4            -0.8216      0.719     -1.143      0.253      -2.231       0.588\n",
      "x5            -0.4171      1.026     -0.407      0.684      -2.428       1.593\n",
      "x6            -1.1193      0.908     -1.232      0.218      -2.899       0.661\n",
      "x7             1.2397      1.355      0.915      0.360      -1.415       3.895\n",
      "==============================================================================\n"
     ]
    }
   ],
   "source": [
    "X_logistic = sample_df1.values[:,0:7]\n",
    "o_logistic = np.ones(sample_df1.shape[0])\n",
    "X_logistic = np.vstack((o,X_logistic.T)).T\n",
    "Y_logistic = sample_df1.values[:,7]\n",
    "\n",
    "model = sm.Logit(Y_logistic, X_logistic)\n",
    "result = model.fit(method = 'bfgs', maxiter =100)\n",
    "\n",
    "print(result.summary())"
   ]
  },
  {
   "cell_type": "code",
   "execution_count": 194,
   "id": "5f9903bd",
   "metadata": {},
   "outputs": [],
   "source": [
    "beta_hat_logistic = np.array([-3.682, 0.0238, 0.0565, -1.1381, -0.8216, -0.4171, -1.1193, 1.2397])"
   ]
  },
  {
   "cell_type": "markdown",
   "id": "12d5db88",
   "metadata": {},
   "source": [
    "#### Calculate CI "
   ]
  },
  {
   "cell_type": "code",
   "execution_count": 195,
   "id": "5a99172a",
   "metadata": {},
   "outputs": [
    {
     "data": {
      "text/plain": [
       "[[-5.908045489306167, -1.4559545106938336],\n",
       " [-0.005977743350200092, 0.053577743350200095],\n",
       " [0.02810328056792503, 0.08489671943207497],\n",
       " [-3.1049125112715377, 0.8287125112715377],\n",
       " [-2.259659851795883, 0.6164598517958827],\n",
       " [-2.4684727407043208, 1.6342727407043207],\n",
       " [-2.9356509159494264, 0.6970509159494263],\n",
       " [-1.4695114448480364, 3.9489114448480365]]"
      ]
     },
     "execution_count": 195,
     "metadata": {},
     "output_type": "execute_result"
    }
   ],
   "source": [
    "pi = []\n",
    "for x in X_logistic:\n",
    "    pi.append(m.exp(beta_hat_logistic.T@x)/(1+m.exp(beta_hat_logistic.T@x))*(1-m.exp(beta_hat_logistic.T@x)/(1+m.exp(beta_hat_logistic.T@x))))\n",
    "V_hat = np.diag(pi)\n",
    "var_list_logistic = []\n",
    "for i, beta in enumerate(beta_hat_logistic):                \n",
    "    var_list_logistic.append(inv(X_logistic.T@V_hat@X_logistic)[i][i])\n",
    "CI_list_logistic = []\n",
    "for i in range(8):\n",
    "    CI_list_logistic.append([beta_hat_logistic[i]-2*np.sqrt(var_list_logistic[i]), beta_hat_logistic[i]+2*np.sqrt(var_list_logistic[i])])\n",
    "CI_list_logistic    "
   ]
  },
  {
   "cell_type": "code",
   "execution_count": 196,
   "id": "193e0e93",
   "metadata": {},
   "outputs": [
    {
     "data": {
      "text/html": [
       "<div>\n",
       "<style scoped>\n",
       "    .dataframe tbody tr th:only-of-type {\n",
       "        vertical-align: middle;\n",
       "    }\n",
       "\n",
       "    .dataframe tbody tr th {\n",
       "        vertical-align: top;\n",
       "    }\n",
       "\n",
       "    .dataframe thead th {\n",
       "        text-align: right;\n",
       "    }\n",
       "</style>\n",
       "<table border=\"1\" class=\"dataframe\">\n",
       "  <thead>\n",
       "    <tr style=\"text-align: right;\">\n",
       "      <th></th>\n",
       "      <th>age</th>\n",
       "      <th>hours-per-week</th>\n",
       "      <th>workclass_Local-gov</th>\n",
       "      <th>workclass_Private</th>\n",
       "      <th>workclass_Self-emp-inc</th>\n",
       "      <th>workclass_Self-emp-not-inc</th>\n",
       "      <th>workclass_State-gov</th>\n",
       "      <th>workclass_Without-pay</th>\n",
       "      <th>income_&gt;50K</th>\n",
       "    </tr>\n",
       "  </thead>\n",
       "  <tbody>\n",
       "    <tr>\n",
       "      <th>0</th>\n",
       "      <td>25</td>\n",
       "      <td>40</td>\n",
       "      <td>0</td>\n",
       "      <td>1</td>\n",
       "      <td>0</td>\n",
       "      <td>0</td>\n",
       "      <td>0</td>\n",
       "      <td>0</td>\n",
       "      <td>0</td>\n",
       "    </tr>\n",
       "    <tr>\n",
       "      <th>1</th>\n",
       "      <td>38</td>\n",
       "      <td>50</td>\n",
       "      <td>0</td>\n",
       "      <td>1</td>\n",
       "      <td>0</td>\n",
       "      <td>0</td>\n",
       "      <td>0</td>\n",
       "      <td>0</td>\n",
       "      <td>0</td>\n",
       "    </tr>\n",
       "    <tr>\n",
       "      <th>2</th>\n",
       "      <td>28</td>\n",
       "      <td>40</td>\n",
       "      <td>1</td>\n",
       "      <td>0</td>\n",
       "      <td>0</td>\n",
       "      <td>0</td>\n",
       "      <td>0</td>\n",
       "      <td>0</td>\n",
       "      <td>1</td>\n",
       "    </tr>\n",
       "    <tr>\n",
       "      <th>3</th>\n",
       "      <td>44</td>\n",
       "      <td>40</td>\n",
       "      <td>0</td>\n",
       "      <td>1</td>\n",
       "      <td>0</td>\n",
       "      <td>0</td>\n",
       "      <td>0</td>\n",
       "      <td>0</td>\n",
       "      <td>1</td>\n",
       "    </tr>\n",
       "    <tr>\n",
       "      <th>5</th>\n",
       "      <td>34</td>\n",
       "      <td>30</td>\n",
       "      <td>0</td>\n",
       "      <td>1</td>\n",
       "      <td>0</td>\n",
       "      <td>0</td>\n",
       "      <td>0</td>\n",
       "      <td>0</td>\n",
       "      <td>0</td>\n",
       "    </tr>\n",
       "    <tr>\n",
       "      <th>...</th>\n",
       "      <td>...</td>\n",
       "      <td>...</td>\n",
       "      <td>...</td>\n",
       "      <td>...</td>\n",
       "      <td>...</td>\n",
       "      <td>...</td>\n",
       "      <td>...</td>\n",
       "      <td>...</td>\n",
       "      <td>...</td>\n",
       "    </tr>\n",
       "    <tr>\n",
       "      <th>48837</th>\n",
       "      <td>27</td>\n",
       "      <td>38</td>\n",
       "      <td>0</td>\n",
       "      <td>1</td>\n",
       "      <td>0</td>\n",
       "      <td>0</td>\n",
       "      <td>0</td>\n",
       "      <td>0</td>\n",
       "      <td>0</td>\n",
       "    </tr>\n",
       "    <tr>\n",
       "      <th>48838</th>\n",
       "      <td>40</td>\n",
       "      <td>40</td>\n",
       "      <td>0</td>\n",
       "      <td>1</td>\n",
       "      <td>0</td>\n",
       "      <td>0</td>\n",
       "      <td>0</td>\n",
       "      <td>0</td>\n",
       "      <td>1</td>\n",
       "    </tr>\n",
       "    <tr>\n",
       "      <th>48839</th>\n",
       "      <td>58</td>\n",
       "      <td>40</td>\n",
       "      <td>0</td>\n",
       "      <td>1</td>\n",
       "      <td>0</td>\n",
       "      <td>0</td>\n",
       "      <td>0</td>\n",
       "      <td>0</td>\n",
       "      <td>0</td>\n",
       "    </tr>\n",
       "    <tr>\n",
       "      <th>48840</th>\n",
       "      <td>22</td>\n",
       "      <td>20</td>\n",
       "      <td>0</td>\n",
       "      <td>1</td>\n",
       "      <td>0</td>\n",
       "      <td>0</td>\n",
       "      <td>0</td>\n",
       "      <td>0</td>\n",
       "      <td>0</td>\n",
       "    </tr>\n",
       "    <tr>\n",
       "      <th>48841</th>\n",
       "      <td>52</td>\n",
       "      <td>40</td>\n",
       "      <td>0</td>\n",
       "      <td>0</td>\n",
       "      <td>1</td>\n",
       "      <td>0</td>\n",
       "      <td>0</td>\n",
       "      <td>0</td>\n",
       "      <td>1</td>\n",
       "    </tr>\n",
       "  </tbody>\n",
       "</table>\n",
       "<p>45222 rows × 9 columns</p>\n",
       "</div>"
      ],
      "text/plain": [
       "       age  hours-per-week  workclass_Local-gov  workclass_Private  \\\n",
       "0       25              40                    0                  1   \n",
       "1       38              50                    0                  1   \n",
       "2       28              40                    1                  0   \n",
       "3       44              40                    0                  1   \n",
       "5       34              30                    0                  1   \n",
       "...    ...             ...                  ...                ...   \n",
       "48837   27              38                    0                  1   \n",
       "48838   40              40                    0                  1   \n",
       "48839   58              40                    0                  1   \n",
       "48840   22              20                    0                  1   \n",
       "48841   52              40                    0                  0   \n",
       "\n",
       "       workclass_Self-emp-inc  workclass_Self-emp-not-inc  \\\n",
       "0                           0                           0   \n",
       "1                           0                           0   \n",
       "2                           0                           0   \n",
       "3                           0                           0   \n",
       "5                           0                           0   \n",
       "...                       ...                         ...   \n",
       "48837                       0                           0   \n",
       "48838                       0                           0   \n",
       "48839                       0                           0   \n",
       "48840                       0                           0   \n",
       "48841                       1                           0   \n",
       "\n",
       "       workclass_State-gov  workclass_Without-pay  income_>50K  \n",
       "0                        0                      0            0  \n",
       "1                        0                      0            0  \n",
       "2                        0                      0            1  \n",
       "3                        0                      0            1  \n",
       "5                        0                      0            0  \n",
       "...                    ...                    ...          ...  \n",
       "48837                    0                      0            0  \n",
       "48838                    0                      0            1  \n",
       "48839                    0                      0            0  \n",
       "48840                    0                      0            0  \n",
       "48841                    0                      0            1  \n",
       "\n",
       "[45222 rows x 9 columns]"
      ]
     },
     "execution_count": 196,
     "metadata": {},
     "output_type": "execute_result"
    }
   ],
   "source": [
    "tmp_df3 = pd.get_dummies(data=tmp_df3, drop_first=True)\n",
    "tmp_df3"
   ]
  },
  {
   "cell_type": "code",
   "execution_count": 197,
   "id": "3b06d4ca",
   "metadata": {},
   "outputs": [
    {
     "name": "stdout",
     "output_type": "stream",
     "text": [
      "                           Logit Regression Results                           \n",
      "==============================================================================\n",
      "Dep. Variable:                      y   No. Observations:                45222\n",
      "Model:                          Logit   Df Residuals:                    45214\n",
      "Method:                           MLE   Df Model:                            7\n",
      "Date:                Sat, 23 Oct 2021   Pseudo R-squ.:                  0.4413\n",
      "Time:                        21:18:20   Log-Likelihood:                -101.78\n",
      "converged:                       True   LL-Null:                       -182.17\n",
      "Covariance Type:            nonrobust   LLR p-value:                 2.207e-31\n",
      "==============================================================================\n",
      "                 coef    std err          z      P>|z|      [0.025      0.975]\n",
      "------------------------------------------------------------------------------\n",
      "const         -2.5732      1.060     -2.427      0.015      -4.651      -0.495\n",
      "x1             0.0255      0.016      1.641      0.101      -0.005       0.056\n",
      "x2            -0.0724      0.019     -3.855      0.000      -0.109      -0.036\n",
      "x3           -33.8741   3.05e+06  -1.11e-05      1.000   -5.98e+06    5.98e+06\n",
      "x4           -12.0019     17.553     -0.684      0.494     -46.405      22.401\n",
      "x5           -22.0402   1.28e+04     -0.002      0.999   -2.52e+04    2.51e+04\n",
      "x6           -42.9776   2.28e+08  -1.89e-07      1.000   -4.46e+08    4.46e+08\n",
      "x7           -17.2390    931.378     -0.019      0.985   -1842.707    1808.229\n",
      "==============================================================================\n",
      "\n",
      "Possibly complete quasi-separation: A fraction 0.97 of observations can be\n",
      "perfectly predicted. This might indicate that there is complete\n",
      "quasi-separation. In this case some parameters will not be identified.\n"
     ]
    }
   ],
   "source": [
    "X_full_logistic = tmp_df3.values[:,0:7]\n",
    "o_full_logistic = np.ones(tmp_df3.shape[0])\n",
    "X_full_logistic = np.vstack((o_full_logistic,X_full_logistic.T)).T\n",
    "Y_full_logistic = tmp_df3.values[:,7]\n",
    "\n",
    "model = sm.Logit(Y_full_logistic, X_full_logistic)\n",
    "result = model.fit(method = 'lbfgs', maxiter=100)\n",
    "\n",
    "print(result.summary())"
   ]
  },
  {
   "cell_type": "markdown",
   "id": "1cc3b662",
   "metadata": {},
   "source": [
    "#### Now we check which of \"real\" beta's elements are in his CI"
   ]
  },
  {
   "cell_type": "code",
   "execution_count": 198,
   "id": "7b4fef90",
   "metadata": {},
   "outputs": [
    {
     "data": {
      "text/plain": [
       "['yes', 'yes', 'no', 'no', 'no', 'no', 'no', 'no']"
      ]
     },
     "execution_count": 198,
     "metadata": {},
     "output_type": "execute_result"
    }
   ],
   "source": [
    "beta_hat_logistic_full = [-2.5732, 0.0255, -0.0724, -33.8741, -12.0019, -22.0402, -42.9776, -17.2390]\n",
    "in_CI = []\n",
    "for i, beta in enumerate(beta_hat_logistic_full):\n",
    "    if beta >= CI_list_logistic[i][0] and beta <= CI_list_logistic[i][1]:\n",
    "        in_CI.append('yes')\n",
    "    else:\n",
    "        in_CI.append('no')\n",
    "in_CI"
   ]
  },
  {
   "cell_type": "markdown",
   "id": "a53db34c",
   "metadata": {},
   "source": [
    "#### Now as we did in linear regression we will add interactions"
   ]
  },
  {
   "cell_type": "code",
   "execution_count": 199,
   "id": "3bf5583f",
   "metadata": {},
   "outputs": [
    {
     "data": {
      "text/html": [
       "<div>\n",
       "<style scoped>\n",
       "    .dataframe tbody tr th:only-of-type {\n",
       "        vertical-align: middle;\n",
       "    }\n",
       "\n",
       "    .dataframe tbody tr th {\n",
       "        vertical-align: top;\n",
       "    }\n",
       "\n",
       "    .dataframe thead th {\n",
       "        text-align: right;\n",
       "    }\n",
       "</style>\n",
       "<table border=\"1\" class=\"dataframe\">\n",
       "  <thead>\n",
       "    <tr style=\"text-align: right;\">\n",
       "      <th></th>\n",
       "      <th>age</th>\n",
       "      <th>hours-per-week</th>\n",
       "      <th>workclass_Local-gov</th>\n",
       "      <th>workclass_Private</th>\n",
       "      <th>workclass_Self-emp-inc</th>\n",
       "      <th>workclass_Self-emp-not-inc</th>\n",
       "      <th>workclass_State-gov</th>\n",
       "      <th>age-hours-per-week</th>\n",
       "      <th>age-workclass_Local-gov</th>\n",
       "      <th>age-workclass_Private</th>\n",
       "      <th>age-workclass_Self-emp-inc</th>\n",
       "      <th>age-workclass_Self-emp-not-inc</th>\n",
       "      <th>age-workclass_State-gov</th>\n",
       "      <th>hours-per-week-workclass_Local-gov</th>\n",
       "      <th>hours-per-week-workclass_Private</th>\n",
       "      <th>hours-per-week-workclass_Self-emp-inc</th>\n",
       "      <th>hours-per-week-workclass_Self-emp-not-inc</th>\n",
       "      <th>hours-per-week-workclass_State-gov</th>\n",
       "      <th>income_&gt;50K</th>\n",
       "    </tr>\n",
       "  </thead>\n",
       "  <tbody>\n",
       "    <tr>\n",
       "      <th>42093</th>\n",
       "      <td>64</td>\n",
       "      <td>40</td>\n",
       "      <td>0</td>\n",
       "      <td>1</td>\n",
       "      <td>0</td>\n",
       "      <td>0</td>\n",
       "      <td>0</td>\n",
       "      <td>2560</td>\n",
       "      <td>0</td>\n",
       "      <td>64</td>\n",
       "      <td>0</td>\n",
       "      <td>0</td>\n",
       "      <td>0</td>\n",
       "      <td>0</td>\n",
       "      <td>40</td>\n",
       "      <td>0</td>\n",
       "      <td>0</td>\n",
       "      <td>0</td>\n",
       "      <td>0</td>\n",
       "    </tr>\n",
       "    <tr>\n",
       "      <th>31739</th>\n",
       "      <td>56</td>\n",
       "      <td>40</td>\n",
       "      <td>0</td>\n",
       "      <td>1</td>\n",
       "      <td>0</td>\n",
       "      <td>0</td>\n",
       "      <td>0</td>\n",
       "      <td>2240</td>\n",
       "      <td>0</td>\n",
       "      <td>56</td>\n",
       "      <td>0</td>\n",
       "      <td>0</td>\n",
       "      <td>0</td>\n",
       "      <td>0</td>\n",
       "      <td>40</td>\n",
       "      <td>0</td>\n",
       "      <td>0</td>\n",
       "      <td>0</td>\n",
       "      <td>0</td>\n",
       "    </tr>\n",
       "    <tr>\n",
       "      <th>10773</th>\n",
       "      <td>36</td>\n",
       "      <td>60</td>\n",
       "      <td>0</td>\n",
       "      <td>1</td>\n",
       "      <td>0</td>\n",
       "      <td>0</td>\n",
       "      <td>0</td>\n",
       "      <td>2160</td>\n",
       "      <td>0</td>\n",
       "      <td>36</td>\n",
       "      <td>0</td>\n",
       "      <td>0</td>\n",
       "      <td>0</td>\n",
       "      <td>0</td>\n",
       "      <td>60</td>\n",
       "      <td>0</td>\n",
       "      <td>0</td>\n",
       "      <td>0</td>\n",
       "      <td>0</td>\n",
       "    </tr>\n",
       "    <tr>\n",
       "      <th>15850</th>\n",
       "      <td>19</td>\n",
       "      <td>37</td>\n",
       "      <td>0</td>\n",
       "      <td>1</td>\n",
       "      <td>0</td>\n",
       "      <td>0</td>\n",
       "      <td>0</td>\n",
       "      <td>703</td>\n",
       "      <td>0</td>\n",
       "      <td>19</td>\n",
       "      <td>0</td>\n",
       "      <td>0</td>\n",
       "      <td>0</td>\n",
       "      <td>0</td>\n",
       "      <td>37</td>\n",
       "      <td>0</td>\n",
       "      <td>0</td>\n",
       "      <td>0</td>\n",
       "      <td>0</td>\n",
       "    </tr>\n",
       "    <tr>\n",
       "      <th>40645</th>\n",
       "      <td>32</td>\n",
       "      <td>45</td>\n",
       "      <td>0</td>\n",
       "      <td>1</td>\n",
       "      <td>0</td>\n",
       "      <td>0</td>\n",
       "      <td>0</td>\n",
       "      <td>1440</td>\n",
       "      <td>0</td>\n",
       "      <td>32</td>\n",
       "      <td>0</td>\n",
       "      <td>0</td>\n",
       "      <td>0</td>\n",
       "      <td>0</td>\n",
       "      <td>45</td>\n",
       "      <td>0</td>\n",
       "      <td>0</td>\n",
       "      <td>0</td>\n",
       "      <td>1</td>\n",
       "    </tr>\n",
       "    <tr>\n",
       "      <th>...</th>\n",
       "      <td>...</td>\n",
       "      <td>...</td>\n",
       "      <td>...</td>\n",
       "      <td>...</td>\n",
       "      <td>...</td>\n",
       "      <td>...</td>\n",
       "      <td>...</td>\n",
       "      <td>...</td>\n",
       "      <td>...</td>\n",
       "      <td>...</td>\n",
       "      <td>...</td>\n",
       "      <td>...</td>\n",
       "      <td>...</td>\n",
       "      <td>...</td>\n",
       "      <td>...</td>\n",
       "      <td>...</td>\n",
       "      <td>...</td>\n",
       "      <td>...</td>\n",
       "      <td>...</td>\n",
       "    </tr>\n",
       "    <tr>\n",
       "      <th>1162</th>\n",
       "      <td>36</td>\n",
       "      <td>35</td>\n",
       "      <td>0</td>\n",
       "      <td>0</td>\n",
       "      <td>0</td>\n",
       "      <td>1</td>\n",
       "      <td>0</td>\n",
       "      <td>1260</td>\n",
       "      <td>0</td>\n",
       "      <td>0</td>\n",
       "      <td>0</td>\n",
       "      <td>36</td>\n",
       "      <td>0</td>\n",
       "      <td>0</td>\n",
       "      <td>0</td>\n",
       "      <td>0</td>\n",
       "      <td>35</td>\n",
       "      <td>0</td>\n",
       "      <td>0</td>\n",
       "    </tr>\n",
       "    <tr>\n",
       "      <th>4978</th>\n",
       "      <td>38</td>\n",
       "      <td>42</td>\n",
       "      <td>0</td>\n",
       "      <td>1</td>\n",
       "      <td>0</td>\n",
       "      <td>0</td>\n",
       "      <td>0</td>\n",
       "      <td>1596</td>\n",
       "      <td>0</td>\n",
       "      <td>38</td>\n",
       "      <td>0</td>\n",
       "      <td>0</td>\n",
       "      <td>0</td>\n",
       "      <td>0</td>\n",
       "      <td>42</td>\n",
       "      <td>0</td>\n",
       "      <td>0</td>\n",
       "      <td>0</td>\n",
       "      <td>0</td>\n",
       "    </tr>\n",
       "    <tr>\n",
       "      <th>46821</th>\n",
       "      <td>30</td>\n",
       "      <td>40</td>\n",
       "      <td>0</td>\n",
       "      <td>0</td>\n",
       "      <td>0</td>\n",
       "      <td>1</td>\n",
       "      <td>0</td>\n",
       "      <td>1200</td>\n",
       "      <td>0</td>\n",
       "      <td>0</td>\n",
       "      <td>0</td>\n",
       "      <td>30</td>\n",
       "      <td>0</td>\n",
       "      <td>0</td>\n",
       "      <td>0</td>\n",
       "      <td>0</td>\n",
       "      <td>40</td>\n",
       "      <td>0</td>\n",
       "      <td>0</td>\n",
       "    </tr>\n",
       "    <tr>\n",
       "      <th>26123</th>\n",
       "      <td>46</td>\n",
       "      <td>70</td>\n",
       "      <td>0</td>\n",
       "      <td>0</td>\n",
       "      <td>1</td>\n",
       "      <td>0</td>\n",
       "      <td>0</td>\n",
       "      <td>3220</td>\n",
       "      <td>0</td>\n",
       "      <td>0</td>\n",
       "      <td>46</td>\n",
       "      <td>0</td>\n",
       "      <td>0</td>\n",
       "      <td>0</td>\n",
       "      <td>0</td>\n",
       "      <td>70</td>\n",
       "      <td>0</td>\n",
       "      <td>0</td>\n",
       "      <td>1</td>\n",
       "    </tr>\n",
       "    <tr>\n",
       "      <th>42955</th>\n",
       "      <td>42</td>\n",
       "      <td>60</td>\n",
       "      <td>0</td>\n",
       "      <td>1</td>\n",
       "      <td>0</td>\n",
       "      <td>0</td>\n",
       "      <td>0</td>\n",
       "      <td>2520</td>\n",
       "      <td>0</td>\n",
       "      <td>42</td>\n",
       "      <td>0</td>\n",
       "      <td>0</td>\n",
       "      <td>0</td>\n",
       "      <td>0</td>\n",
       "      <td>60</td>\n",
       "      <td>0</td>\n",
       "      <td>0</td>\n",
       "      <td>0</td>\n",
       "      <td>0</td>\n",
       "    </tr>\n",
       "  </tbody>\n",
       "</table>\n",
       "<p>200 rows × 19 columns</p>\n",
       "</div>"
      ],
      "text/plain": [
       "       age  hours-per-week  workclass_Local-gov  workclass_Private  \\\n",
       "42093   64              40                    0                  1   \n",
       "31739   56              40                    0                  1   \n",
       "10773   36              60                    0                  1   \n",
       "15850   19              37                    0                  1   \n",
       "40645   32              45                    0                  1   \n",
       "...    ...             ...                  ...                ...   \n",
       "1162    36              35                    0                  0   \n",
       "4978    38              42                    0                  1   \n",
       "46821   30              40                    0                  0   \n",
       "26123   46              70                    0                  0   \n",
       "42955   42              60                    0                  1   \n",
       "\n",
       "       workclass_Self-emp-inc  workclass_Self-emp-not-inc  \\\n",
       "42093                       0                           0   \n",
       "31739                       0                           0   \n",
       "10773                       0                           0   \n",
       "15850                       0                           0   \n",
       "40645                       0                           0   \n",
       "...                       ...                         ...   \n",
       "1162                        0                           1   \n",
       "4978                        0                           0   \n",
       "46821                       0                           1   \n",
       "26123                       1                           0   \n",
       "42955                       0                           0   \n",
       "\n",
       "       workclass_State-gov  age-hours-per-week  age-workclass_Local-gov  \\\n",
       "42093                    0                2560                        0   \n",
       "31739                    0                2240                        0   \n",
       "10773                    0                2160                        0   \n",
       "15850                    0                 703                        0   \n",
       "40645                    0                1440                        0   \n",
       "...                    ...                 ...                      ...   \n",
       "1162                     0                1260                        0   \n",
       "4978                     0                1596                        0   \n",
       "46821                    0                1200                        0   \n",
       "26123                    0                3220                        0   \n",
       "42955                    0                2520                        0   \n",
       "\n",
       "       age-workclass_Private  age-workclass_Self-emp-inc  \\\n",
       "42093                     64                           0   \n",
       "31739                     56                           0   \n",
       "10773                     36                           0   \n",
       "15850                     19                           0   \n",
       "40645                     32                           0   \n",
       "...                      ...                         ...   \n",
       "1162                       0                           0   \n",
       "4978                      38                           0   \n",
       "46821                      0                           0   \n",
       "26123                      0                          46   \n",
       "42955                     42                           0   \n",
       "\n",
       "       age-workclass_Self-emp-not-inc  age-workclass_State-gov  \\\n",
       "42093                               0                        0   \n",
       "31739                               0                        0   \n",
       "10773                               0                        0   \n",
       "15850                               0                        0   \n",
       "40645                               0                        0   \n",
       "...                               ...                      ...   \n",
       "1162                               36                        0   \n",
       "4978                                0                        0   \n",
       "46821                              30                        0   \n",
       "26123                               0                        0   \n",
       "42955                               0                        0   \n",
       "\n",
       "       hours-per-week-workclass_Local-gov  hours-per-week-workclass_Private  \\\n",
       "42093                                   0                                40   \n",
       "31739                                   0                                40   \n",
       "10773                                   0                                60   \n",
       "15850                                   0                                37   \n",
       "40645                                   0                                45   \n",
       "...                                   ...                               ...   \n",
       "1162                                    0                                 0   \n",
       "4978                                    0                                42   \n",
       "46821                                   0                                 0   \n",
       "26123                                   0                                 0   \n",
       "42955                                   0                                60   \n",
       "\n",
       "       hours-per-week-workclass_Self-emp-inc  \\\n",
       "42093                                      0   \n",
       "31739                                      0   \n",
       "10773                                      0   \n",
       "15850                                      0   \n",
       "40645                                      0   \n",
       "...                                      ...   \n",
       "1162                                       0   \n",
       "4978                                       0   \n",
       "46821                                      0   \n",
       "26123                                     70   \n",
       "42955                                      0   \n",
       "\n",
       "       hours-per-week-workclass_Self-emp-not-inc  \\\n",
       "42093                                          0   \n",
       "31739                                          0   \n",
       "10773                                          0   \n",
       "15850                                          0   \n",
       "40645                                          0   \n",
       "...                                          ...   \n",
       "1162                                          35   \n",
       "4978                                           0   \n",
       "46821                                         40   \n",
       "26123                                          0   \n",
       "42955                                          0   \n",
       "\n",
       "       hours-per-week-workclass_State-gov  income_>50K  \n",
       "42093                                   0            0  \n",
       "31739                                   0            0  \n",
       "10773                                   0            0  \n",
       "15850                                   0            0  \n",
       "40645                                   0            1  \n",
       "...                                   ...          ...  \n",
       "1162                                    0            0  \n",
       "4978                                    0            0  \n",
       "46821                                   0            0  \n",
       "26123                                   0            1  \n",
       "42955                                   0            0  \n",
       "\n",
       "[200 rows x 19 columns]"
      ]
     },
     "execution_count": 199,
     "metadata": {},
     "output_type": "execute_result"
    }
   ],
   "source": [
    "interaction_df_logistic = sample_df1\n",
    "interaction_df_logistic[\"age-hours-per-week\"] = interaction_df_logistic[\"age\"]*interaction_df_logistic[\"hours-per-week\"]\n",
    "interaction_df_logistic[\"age-workclass_Local-gov\"] = interaction_df_logistic[\"age\"]*interaction_df_logistic[\"workclass_Local-gov\"]\n",
    "interaction_df_logistic[\"age-workclass_Private\"] = interaction_df_logistic[\"age\"]*interaction_df_logistic[\"workclass_Private\"]\n",
    "interaction_df_logistic[\"age-workclass_Self-emp-inc\"] = interaction_df_logistic[\"age\"]*interaction_df_logistic[\"workclass_Self-emp-inc\"]\n",
    "interaction_df_logistic[\"age-workclass_Self-emp-not-inc\"] = interaction_df_logistic[\"age\"]*interaction_df_logistic[\"workclass_Self-emp-not-inc\"]\n",
    "interaction_df_logistic[\"age-workclass_State-gov\"] = interaction_df_logistic[\"age\"]*interaction_df_logistic[\"workclass_State-gov\"]\n",
    "\n",
    "interaction_df_logistic[\"hours-per-week-workclass_Local-gov\"] = interaction_df_logistic[\"hours-per-week\"]*interaction_df_logistic[\"workclass_Local-gov\"]\n",
    "interaction_df_logistic[\"hours-per-week-workclass_Private\"] = interaction_df_logistic[\"hours-per-week\"]*interaction_df_logistic[\"workclass_Private\"]\n",
    "interaction_df_logistic[\"hours-per-week-workclass_Self-emp-inc\"] = interaction_df_logistic[\"hours-per-week\"]*interaction_df_logistic[\"workclass_Self-emp-inc\"]\n",
    "interaction_df_logistic[\"hours-per-week-workclass_Self-emp-not-inc\"] = interaction_df_logistic[\"hours-per-week\"]*interaction_df_logistic[\"workclass_Self-emp-not-inc\"]\n",
    "interaction_df_logistic[\"hours-per-week-workclass_State-gov\"] = interaction_df_logistic[\"hours-per-week\"]*interaction_df_logistic[\"workclass_State-gov\"]\n",
    "\n",
    "\n",
    "interaction_df_logistic = interaction_df_logistic[[\"age\", \"hours-per-week\", \"workclass_Local-gov\", \"workclass_Private\",\"workclass_Self-emp-inc\", \"workclass_Self-emp-not-inc\",  \"workclass_State-gov\", \"age-hours-per-week\", \"age-workclass_Local-gov\", \"age-workclass_Private\", \"age-workclass_Self-emp-inc\", \"age-workclass_Self-emp-not-inc\", \"age-workclass_State-gov\", \"hours-per-week-workclass_Local-gov\", \"hours-per-week-workclass_Private\", \"hours-per-week-workclass_Self-emp-inc\", \"hours-per-week-workclass_Self-emp-not-inc\", \"hours-per-week-workclass_State-gov\", \"income_>50K\"]]\n",
    "interaction_df_logistic"
   ]
  },
  {
   "cell_type": "code",
   "execution_count": 200,
   "id": "c965a4e5",
   "metadata": {},
   "outputs": [
    {
     "name": "stdout",
     "output_type": "stream",
     "text": [
      "Optimization terminated successfully.\n",
      "         Current function value: 0.645658\n",
      "         Iterations: 2\n",
      "         Function evaluations: 3\n",
      "         Gradient evaluations: 4\n",
      "         Hessian evaluations: 2\n",
      "                           Logit Regression Results                           \n",
      "==============================================================================\n",
      "Dep. Variable:                      y   No. Observations:                  200\n",
      "Model:                          Logit   Df Residuals:                      181\n",
      "Method:                           MLE   Df Model:                           18\n",
      "Date:                Sat, 23 Oct 2021   Pseudo R-squ.:                 -0.1166\n",
      "Time:                        21:18:22   Log-Likelihood:                -129.13\n",
      "converged:                       True   LL-Null:                       -115.64\n",
      "Covariance Type:            nonrobust   LLR p-value:                     1.000\n",
      "==============================================================================\n",
      "                 coef    std err          z      P>|z|      [0.025      0.975]\n",
      "------------------------------------------------------------------------------\n",
      "const      -4.459e-07      5.864   -7.6e-08      1.000     -11.493      11.493\n",
      "x1         -1.366e-05      0.097     -0.000      1.000      -0.190       0.190\n",
      "x2         -1.211e-05      0.104     -0.000      1.000      -0.203       0.203\n",
      "x3         -3.304e-08      6.379  -5.18e-09      1.000     -12.503      12.503\n",
      "x4         -3.817e-07      5.717  -6.68e-08      1.000     -11.205      11.205\n",
      "x5          1.209e-08      9.163   1.32e-09      1.000     -17.959      17.959\n",
      "x6         -4.944e-08      6.327  -7.81e-09      1.000     -12.400      12.400\n",
      "x7          3.008e-09      6.609   4.55e-10      1.000     -12.954      12.954\n",
      "x8            -0.0004      0.001     -0.388      0.698      -0.002       0.001\n",
      "x9         -1.343e-06      0.097  -1.38e-05      1.000      -0.191       0.191\n",
      "x10        -1.136e-05      0.090     -0.000      1.000      -0.177       0.177\n",
      "x11         4.308e-07      0.125   3.45e-06      1.000      -0.245       0.245\n",
      "x12        -2.126e-06      0.099  -2.14e-05      1.000      -0.194       0.194\n",
      "x13         5.639e-07      0.974   5.79e-07      1.000      -1.908       1.908\n",
      "x14        -7.578e-07      0.112  -6.78e-06      1.000      -0.219       0.219\n",
      "x15        -1.136e-05      0.098     -0.000      1.000      -0.193       0.192\n",
      "x16         1.001e-06      0.122   8.22e-06      1.000      -0.238       0.238\n",
      "x17        -1.581e-06      0.104  -1.51e-05      1.000      -0.205       0.205\n",
      "x18         4.476e-07      1.212   3.69e-07      1.000      -2.375       2.375\n",
      "==============================================================================\n"
     ]
    }
   ],
   "source": [
    "X_logistic_inter = interaction_df_logistic.values[:,0:18]\n",
    "o_logistic_inter = np.ones(interaction_df_logistic.shape[0])\n",
    "X_logistic_inter = np.vstack((o_logistic_inter,X_logistic_inter.T)).T\n",
    "Y_logistic_inter = interaction_df_logistic.values[:,18]\n",
    "\n",
    "model = sm.Logit(Y_logistic_inter, X_logistic_inter)\n",
    "result = model.fit(method = 'ncg', maxiter=100)\n",
    "\n",
    "print(result.summary())"
   ]
  },
  {
   "cell_type": "code",
   "execution_count": 201,
   "id": "1f7d2ca8",
   "metadata": {},
   "outputs": [
    {
     "name": "stdout",
     "output_type": "stream",
     "text": [
      "It's better without interaction\n"
     ]
    }
   ],
   "source": [
    "#compare BIC\n",
    "\n",
    "BIC_base = -101.15 - (7/2)*m.log(200)\n",
    "BIC_inter = -115.64 - (18/2)*m.log(200)\n",
    "\n",
    "if BIC_base > BIC_inter:\n",
    "    print(\"It's better without interaction\")\n",
    "else:\n",
    "    print(\"It's better with interaction\")"
   ]
  },
  {
   "cell_type": "markdown",
   "id": "69e3195b",
   "metadata": {},
   "source": [
    "# Bootstrap\n",
    "\n",
    "### In the next part we will use the same sample that we use in the linear regression part and we will see few ways for calculating CI with bootstrap"
   ]
  },
  {
   "cell_type": "code",
   "execution_count": 202,
   "id": "3f7f23c1",
   "metadata": {},
   "outputs": [],
   "source": [
    "#create a statistics sample based on bootstrap \n",
    "T_n_list = []\n",
    "for i in range (400):\n",
    "    tmp_sample = sample_df.sample(n=200, replace=True, random_state = i+1)\n",
    "    X = tmp_sample.values[:,0:3]\n",
    "    o = np.ones(tmp_sample.shape[0])\n",
    "    X = np.vstack((o,X.T)).T\n",
    "    Y = tmp_sample.values[:,3]\n",
    "    beta_hat = (inv(X.T@X)@X.T)@Y\n",
    "    T_n_list.append(beta_hat)\n",
    "T_n_list = np.array(T_n_list)"
   ]
  },
  {
   "cell_type": "code",
   "execution_count": 203,
   "id": "9dc6b87d",
   "metadata": {},
   "outputs": [
    {
     "data": {
      "text/plain": [
       "[[24.303125397224896, 37.206452274828216],\n",
       " [-0.019346767787002256, 0.315027086649606],\n",
       " [5.1622960594281135, 12.520412358273676],\n",
       " [1.2567943392998, 10.169731406025889]]"
      ]
     },
     "execution_count": 203,
     "metadata": {},
     "output_type": "execute_result"
    }
   ],
   "source": [
    "# CI using bootstrap estimation for S.E.\n",
    "CI_list_norm_boot = []\n",
    "for i in range(len(beta_hat)):\n",
    "    beta_i = T_n_list[:,i]\n",
    "    var_T_i = np.mean(beta_i**2) - np.mean(beta_i)**2\n",
    "    CI_list_norm_boot.append([beta_hat[i]-2*np.sqrt(var_T_i), beta_hat[i]+2*np.sqrt(var_T_i)])\n",
    "CI_list_norm_boot"
   ]
  },
  {
   "cell_type": "code",
   "execution_count": 204,
   "id": "90065371",
   "metadata": {},
   "outputs": [
    {
     "data": {
      "text/plain": [
       "[[24.40883714102977, 37.318849950698734],\n",
       " [-0.009520683991765144, 0.32470419849832766],\n",
       " [7.310812837304571, 14.314138238977336],\n",
       " [-1.352702880251055, 7.204898807420847]]"
      ]
     },
     "execution_count": 204,
     "metadata": {},
     "output_type": "execute_result"
    }
   ],
   "source": [
    "#CI using pivot\n",
    "CI_pivot = []\n",
    "for i in range(len(beta_hat)):\n",
    "    x_new = sorted(T_n_list[:,i], reverse = False)\n",
    "    CI_pivot.append([2*beta_hat[i] - x_new[390], 2*beta_hat[i] - x_new[10]])\n",
    "CI_pivot"
   ]
  },
  {
   "cell_type": "code",
   "execution_count": 209,
   "id": "59fbf074",
   "metadata": {},
   "outputs": [
    {
     "data": {
      "text/plain": [
       "[[24.190727721354378, 37.10074053102334],\n",
       " [-0.029023879635723886, 0.3052010028543689],\n",
       " [3.3685701787244544, 10.371895580397219],\n",
       " [4.221626937904842, 12.779228625576744]]"
      ]
     },
     "execution_count": 209,
     "metadata": {},
     "output_type": "execute_result"
    }
   ],
   "source": [
    "# CI using quantiles\n",
    "CI_quantiles = []\n",
    "for i in range(len(beta_hat)):\n",
    "    x_new = sorted(T_n_list[:,i], reverse = False)\n",
    "    CI_quantiles.append([x_new[10], x_new[390]])\n",
    "CI_quantiles"
   ]
  },
  {
   "cell_type": "markdown",
   "id": "28c7029f",
   "metadata": {},
   "source": [
    "#### We want to compare the our first method to CI (that we use in linear regression part) and the 3 with bootstrap"
   ]
  },
  {
   "cell_type": "code",
   "execution_count": 210,
   "id": "fbfe91b9",
   "metadata": {},
   "outputs": [],
   "source": [
    "CIs_dict ={\"COV_matrix\": CI_list, \"bootstrap s.e.\": CI_list_norm_boot, \"bootstrap pivot\": CI_pivot, \"bootstrap quantiles\": CI_quantiles}\n",
    "\n",
    "#dict to calculate the len of the CI\n",
    "len_dict = defaultdict(list)\n",
    "for i in range(len(beta_hat)):\n",
    "    for key in CIs_dict.keys():\n",
    "        len_dict[key].append(CIs_dict[key][i][1] - CIs_dict[key][i][0])"
   ]
  },
  {
   "cell_type": "code",
   "execution_count": 211,
   "id": "32e97f04",
   "metadata": {},
   "outputs": [
    {
     "data": {
      "text/plain": [
       "defaultdict(list,\n",
       "            {'COV_matrix': ['in', 'in', 'in', 'in'],\n",
       "             'bootstrap s.e.': ['in', 'in', 'out', 'in'],\n",
       "             'bootstrap pivot': ['in', 'in', 'out', 'in'],\n",
       "             'bootstrap quantiles': ['in', 'in', 'in', 'in']})"
      ]
     },
     "execution_count": 211,
     "metadata": {},
     "output_type": "execute_result"
    }
   ],
   "source": [
    "#dict to check if the real value of beta_hat is the CI\n",
    "in_out_dict = defaultdict(list)\n",
    "for i in range(len(beta_hat_full)):\n",
    "    for key in CIs_dict.keys():\n",
    "        if beta_hat_full[i] >= CIs_dict[key][i][0] and beta_hat_full[i] <= CIs_dict[key][i][1]:\n",
    "            in_out_dict[key].append('in')\n",
    "        else:\n",
    "            in_out_dict[key].append('out')\n",
    "in_out_dict"
   ]
  },
  {
   "cell_type": "code",
   "execution_count": 212,
   "id": "cd7ca411",
   "metadata": {},
   "outputs": [
    {
     "data": {
      "image/png": "[encoded data removed]",
      "text/plain": [
       "<Figure size 432x288 with 1 Axes>"
      ]
     },
     "metadata": {
      "needs_background": "light"
     },
     "output_type": "display_data"
    },
    {
     "data": {
      "image/png": "[encoded data removed]",
      "text/plain": [
       "<Figure size 432x288 with 1 Axes>"
      ]
     },
     "metadata": {
      "needs_background": "light"
     },
     "output_type": "display_data"
    },
    {
     "data": {
      "image/png": "[encoded data removed]",
      "text/plain": [
       "<Figure size 432x288 with 1 Axes>"
      ]
     },
     "metadata": {
      "needs_background": "light"
     },
     "output_type": "display_data"
    },
    {
     "data": {
      "image/png": "[encoded data removed]",
      "text/plain": [
       "<Figure size 432x288 with 1 Axes>"
      ]
     },
     "metadata": {
      "needs_background": "light"
     },
     "output_type": "display_data"
    }
   ],
   "source": [
    "ticks=['','normal with variance matrix', 'normal with bootstrap', 'pivot bootstrap', 'quantiles bootstrap']\n",
    "CI = [CI_list, CI_list_norm_boot, CI_pivot, CI_quantiles]\n",
    "for i in range(4):\n",
    "    for j in range(4):\n",
    "        plt.plot((CI[j][i][0],CI[j][i][1]),(j+1,j+1),'o-')\n",
    "    plt.yticks(range(len(ticks)),ticks)\n",
    "    plt.axvline(beta_hat_full[i], color='#eea29a', linestyle='dotted')\n",
    "    plt.show()"
   ]
  },
  {
   "cell_type": "code",
   "execution_count": 214,
   "id": "51451d57",
   "metadata": {},
   "outputs": [
    {
     "data": {
      "text/html": [
       "<div>\n",
       "<style scoped>\n",
       "    .dataframe tbody tr th:only-of-type {\n",
       "        vertical-align: middle;\n",
       "    }\n",
       "\n",
       "    .dataframe tbody tr th {\n",
       "        vertical-align: top;\n",
       "    }\n",
       "\n",
       "    .dataframe thead th {\n",
       "        text-align: right;\n",
       "    }\n",
       "</style>\n",
       "<table border=\"1\" class=\"dataframe\">\n",
       "  <thead>\n",
       "    <tr style=\"text-align: right;\">\n",
       "      <th></th>\n",
       "      <th>age</th>\n",
       "      <th>gender_Male</th>\n",
       "      <th>income_&gt;50K</th>\n",
       "      <th>hours-per-week</th>\n",
       "    </tr>\n",
       "  </thead>\n",
       "  <tbody>\n",
       "    <tr>\n",
       "      <th>17035</th>\n",
       "      <td>28</td>\n",
       "      <td>0</td>\n",
       "      <td>0</td>\n",
       "      <td>40</td>\n",
       "    </tr>\n",
       "    <tr>\n",
       "      <th>46979</th>\n",
       "      <td>37</td>\n",
       "      <td>1</td>\n",
       "      <td>1</td>\n",
       "      <td>44</td>\n",
       "    </tr>\n",
       "    <tr>\n",
       "      <th>33661</th>\n",
       "      <td>18</td>\n",
       "      <td>0</td>\n",
       "      <td>0</td>\n",
       "      <td>40</td>\n",
       "    </tr>\n",
       "    <tr>\n",
       "      <th>8066</th>\n",
       "      <td>34</td>\n",
       "      <td>1</td>\n",
       "      <td>0</td>\n",
       "      <td>40</td>\n",
       "    </tr>\n",
       "    <tr>\n",
       "      <th>42541</th>\n",
       "      <td>47</td>\n",
       "      <td>0</td>\n",
       "      <td>0</td>\n",
       "      <td>42</td>\n",
       "    </tr>\n",
       "    <tr>\n",
       "      <th>...</th>\n",
       "      <td>...</td>\n",
       "      <td>...</td>\n",
       "      <td>...</td>\n",
       "      <td>...</td>\n",
       "    </tr>\n",
       "    <tr>\n",
       "      <th>43117</th>\n",
       "      <td>37</td>\n",
       "      <td>1</td>\n",
       "      <td>1</td>\n",
       "      <td>45</td>\n",
       "    </tr>\n",
       "    <tr>\n",
       "      <th>29918</th>\n",
       "      <td>30</td>\n",
       "      <td>1</td>\n",
       "      <td>1</td>\n",
       "      <td>40</td>\n",
       "    </tr>\n",
       "    <tr>\n",
       "      <th>23924</th>\n",
       "      <td>39</td>\n",
       "      <td>1</td>\n",
       "      <td>0</td>\n",
       "      <td>55</td>\n",
       "    </tr>\n",
       "    <tr>\n",
       "      <th>48316</th>\n",
       "      <td>46</td>\n",
       "      <td>0</td>\n",
       "      <td>0</td>\n",
       "      <td>43</td>\n",
       "    </tr>\n",
       "    <tr>\n",
       "      <th>7417</th>\n",
       "      <td>24</td>\n",
       "      <td>1</td>\n",
       "      <td>0</td>\n",
       "      <td>40</td>\n",
       "    </tr>\n",
       "  </tbody>\n",
       "</table>\n",
       "<p>100 rows × 4 columns</p>\n",
       "</div>"
      ],
      "text/plain": [
       "       age  gender_Male  income_>50K  hours-per-week\n",
       "17035   28            0            0              40\n",
       "46979   37            1            1              44\n",
       "33661   18            0            0              40\n",
       "8066    34            1            0              40\n",
       "42541   47            0            0              42\n",
       "...    ...          ...          ...             ...\n",
       "43117   37            1            1              45\n",
       "29918   30            1            1              40\n",
       "23924   39            1            0              55\n",
       "48316   46            0            0              43\n",
       "7417    24            1            0              40\n",
       "\n",
       "[100 rows x 4 columns]"
      ]
     },
     "execution_count": 214,
     "metadata": {},
     "output_type": "execute_result"
    }
   ],
   "source": [
    "# Now we create a sample that dont contains the 200 rows from first sample\n",
    "new_sample = new_df.sample(n=100, random_state = 1)\n",
    "new_sample"
   ]
  },
  {
   "cell_type": "code",
   "execution_count": 216,
   "id": "94b55e3e",
   "metadata": {},
   "outputs": [],
   "source": [
    "# Predict Y_hat for new points\n",
    "X_new1 = new_sample.values[:,0:3]\n",
    "o_new1 = np.ones(new_sample.shape[0])\n",
    "X_new1 = np.vstack((o_new1, X_new1.T)).T\n",
    "Y_new1 = new_sample.values[:,3]\n",
    "Y_new_hat1 = []\n",
    "for x in X_new1:\n",
    "    y_new_hat1 = beta_hat.T@x\n",
    "    Y_new_hat1.append(y_new_hat1)"
   ]
  },
  {
   "cell_type": "markdown",
   "id": "f9530b09",
   "metadata": {},
   "source": [
    "#### We will create a CI for the expectetion of the Y_new and check if Y_new in the CI. The method that we will use is the quantiles bootstrap"
   ]
  },
  {
   "cell_type": "code",
   "execution_count": 217,
   "id": "8913082c",
   "metadata": {},
   "outputs": [
    {
     "data": {
      "text/plain": [
       "0.24"
      ]
     },
     "execution_count": 217,
     "metadata": {},
     "output_type": "execute_result"
    }
   ],
   "source": [
    "predictions = []\n",
    "for i in range (400):\n",
    "    tmp_sample = sample_df.sample(n=200, replace=True, random_state = i+1)\n",
    "    X_boot = tmp_sample.values[:,0:3]\n",
    "    o_boot = np.ones(tmp_sample.shape[0])\n",
    "    X_boot = np.vstack((o_boot,X_boot.T)).T\n",
    "    Y_boot = tmp_sample.values[:,3]\n",
    "    beta_hat_boot = (inv(X_boot.T@X_boot)@X_boot.T)@Y_boot\n",
    "    Y_hat_boot = []\n",
    "    CI = []\n",
    "    for x in X_new:\n",
    "        y_hat = beta_hat_boot.T@x\n",
    "        Y_hat_boot.append(y_hat)\n",
    "    predictions.append(Y_hat_boot)   \n",
    "predictions = np.array(predictions)\n",
    "\n",
    "expected_CI_quantiles = []\n",
    "check_list1 = []\n",
    "for i in range(100):\n",
    "    pred = np.sort(predictions[:,i])\n",
    "    ci = [pred[10], pred[390]]\n",
    "    expected_CI_quantiles.append(ci)\n",
    "    if Y_new[i] >= ci[0] and Y_new[i] <= ci[1]:\n",
    "        check_list1.append(1)\n",
    "correct_percent = sum(check_list1)/100\n",
    "correct_percent    "
   ]
  },
  {
   "cell_type": "markdown",
   "id": "048c475f",
   "metadata": {},
   "source": [
    "#### We got a very small percent and we expect 0.95. The reason maight be, because we calculate the CI for the expectetion and after that chaeck for the prediction of the point and not for the expectetion."
   ]
  },
  {
   "cell_type": "markdown",
   "id": "406c0c21",
   "metadata": {},
   "source": [
    "# Tests"
   ]
  },
  {
   "cell_type": "markdown",
   "id": "4ae8da98",
   "metadata": {},
   "source": [
    "### We want to check if the hours per week for females is stochastic smaller than for males"
   ]
  },
  {
   "cell_type": "code",
   "execution_count": 219,
   "id": "ffce9bb6",
   "metadata": {},
   "outputs": [
    {
     "data": {
      "text/html": [
       "<div>\n",
       "<style scoped>\n",
       "    .dataframe tbody tr th:only-of-type {\n",
       "        vertical-align: middle;\n",
       "    }\n",
       "\n",
       "    .dataframe tbody tr th {\n",
       "        vertical-align: top;\n",
       "    }\n",
       "\n",
       "    .dataframe thead th {\n",
       "        text-align: right;\n",
       "    }\n",
       "</style>\n",
       "<table border=\"1\" class=\"dataframe\">\n",
       "  <thead>\n",
       "    <tr style=\"text-align: right;\">\n",
       "      <th></th>\n",
       "      <th>gender_Male</th>\n",
       "      <th>hours-per-week</th>\n",
       "    </tr>\n",
       "  </thead>\n",
       "  <tbody>\n",
       "    <tr>\n",
       "      <th>43044</th>\n",
       "      <td>1</td>\n",
       "      <td>40</td>\n",
       "    </tr>\n",
       "    <tr>\n",
       "      <th>39222</th>\n",
       "      <td>1</td>\n",
       "      <td>45</td>\n",
       "    </tr>\n",
       "    <tr>\n",
       "      <th>4896</th>\n",
       "      <td>0</td>\n",
       "      <td>40</td>\n",
       "    </tr>\n",
       "    <tr>\n",
       "      <th>4438</th>\n",
       "      <td>1</td>\n",
       "      <td>40</td>\n",
       "    </tr>\n",
       "    <tr>\n",
       "      <th>45008</th>\n",
       "      <td>1</td>\n",
       "      <td>40</td>\n",
       "    </tr>\n",
       "    <tr>\n",
       "      <th>...</th>\n",
       "      <td>...</td>\n",
       "      <td>...</td>\n",
       "    </tr>\n",
       "    <tr>\n",
       "      <th>24327</th>\n",
       "      <td>1</td>\n",
       "      <td>50</td>\n",
       "    </tr>\n",
       "    <tr>\n",
       "      <th>27231</th>\n",
       "      <td>0</td>\n",
       "      <td>40</td>\n",
       "    </tr>\n",
       "    <tr>\n",
       "      <th>13553</th>\n",
       "      <td>1</td>\n",
       "      <td>40</td>\n",
       "    </tr>\n",
       "    <tr>\n",
       "      <th>13902</th>\n",
       "      <td>0</td>\n",
       "      <td>35</td>\n",
       "    </tr>\n",
       "    <tr>\n",
       "      <th>39062</th>\n",
       "      <td>0</td>\n",
       "      <td>35</td>\n",
       "    </tr>\n",
       "  </tbody>\n",
       "</table>\n",
       "<p>200 rows × 2 columns</p>\n",
       "</div>"
      ],
      "text/plain": [
       "       gender_Male  hours-per-week\n",
       "43044            1              40\n",
       "39222            1              45\n",
       "4896             0              40\n",
       "4438             1              40\n",
       "45008            1              40\n",
       "...            ...             ...\n",
       "24327            1              50\n",
       "27231            0              40\n",
       "13553            1              40\n",
       "13902            0              35\n",
       "39062            0              35\n",
       "\n",
       "[200 rows x 2 columns]"
      ]
     },
     "execution_count": 219,
     "metadata": {},
     "output_type": "execute_result"
    }
   ],
   "source": [
    "#chooce the columns that we need for this exercise \n",
    "tmp_df4 = tmp_df2[[\"gender_Male\", \"hours-per-week\"]]\n",
    "sample_df2 = tmp_df4.sample(n=200, random_state = 10)\n",
    "sample_df2"
   ]
  },
  {
   "cell_type": "code",
   "execution_count": 220,
   "id": "41dfb989",
   "metadata": {},
   "outputs": [],
   "source": [
    "male_hours1 = sample_df2[sample_df2['gender_Male']==1]['hours-per-week']\n",
    "female_hours1 = sample_df2[sample_df2['gender_Male']==0]['hours-per-week']"
   ]
  },
  {
   "cell_type": "markdown",
   "id": "17d0f7c5",
   "metadata": {},
   "source": [
    "#### First we will check the difference betwwen the means"
   ]
  },
  {
   "cell_type": "code",
   "execution_count": 221,
   "id": "221ad1d4",
   "metadata": {},
   "outputs": [
    {
     "data": {
      "text/html": [
       "<div>\n",
       "<style scoped>\n",
       "    .dataframe tbody tr th:only-of-type {\n",
       "        vertical-align: middle;\n",
       "    }\n",
       "\n",
       "    .dataframe tbody tr th {\n",
       "        vertical-align: top;\n",
       "    }\n",
       "\n",
       "    .dataframe thead tr th {\n",
       "        text-align: left;\n",
       "    }\n",
       "\n",
       "    .dataframe thead tr:last-of-type th {\n",
       "        text-align: right;\n",
       "    }\n",
       "</style>\n",
       "<table border=\"1\" class=\"dataframe\">\n",
       "  <thead>\n",
       "    <tr>\n",
       "      <th></th>\n",
       "      <th colspan=\"3\" halign=\"left\">hours-per-week</th>\n",
       "    </tr>\n",
       "    <tr>\n",
       "      <th></th>\n",
       "      <th>mean</th>\n",
       "      <th>std</th>\n",
       "      <th>size</th>\n",
       "    </tr>\n",
       "    <tr>\n",
       "      <th>gender_Male</th>\n",
       "      <th></th>\n",
       "      <th></th>\n",
       "      <th></th>\n",
       "    </tr>\n",
       "  </thead>\n",
       "  <tbody>\n",
       "    <tr>\n",
       "      <th>0</th>\n",
       "      <td>37.588235</td>\n",
       "      <td>12.583139</td>\n",
       "      <td>68</td>\n",
       "    </tr>\n",
       "    <tr>\n",
       "      <th>1</th>\n",
       "      <td>40.871212</td>\n",
       "      <td>11.391309</td>\n",
       "      <td>132</td>\n",
       "    </tr>\n",
       "  </tbody>\n",
       "</table>\n",
       "</div>"
      ],
      "text/plain": [
       "            hours-per-week                \n",
       "                      mean        std size\n",
       "gender_Male                               \n",
       "0                37.588235  12.583139   68\n",
       "1                40.871212  11.391309  132"
      ]
     },
     "execution_count": 221,
     "metadata": {},
     "output_type": "execute_result"
    }
   ],
   "source": [
    "sample_df2.groupby(\"gender_Male\").agg({\"hours-per-week\": [np.mean, np.std, np.size]})"
   ]
  },
  {
   "cell_type": "code",
   "execution_count": 225,
   "id": "6a07d445",
   "metadata": {},
   "outputs": [
    {
     "name": "stderr",
     "output_type": "stream",
     "text": [
      "c:\\users\\chany\\appdata\\local\\programs\\python\\python38-32\\lib\\site-packages\\seaborn\\distributions.py:2557: FutureWarning: `distplot` is a deprecated function and will be removed in a future version. Please adapt your code to use either `displot` (a figure-level function with similar flexibility) or `histplot` (an axes-level function for histograms).\n",
      "  warnings.warn(msg, FutureWarning)\n",
      "c:\\users\\chany\\appdata\\local\\programs\\python\\python38-32\\lib\\site-packages\\seaborn\\distributions.py:2557: FutureWarning: `distplot` is a deprecated function and will be removed in a future version. Please adapt your code to use either `displot` (a figure-level function with similar flexibility) or `histplot` (an axes-level function for histograms).\n",
      "  warnings.warn(msg, FutureWarning)\n"
     ]
    },
    {
     "data": {
      "text/plain": [
       "<matplotlib.legend.Legend at 0x14371fa0>"
      ]
     },
     "execution_count": 225,
     "metadata": {},
     "output_type": "execute_result"
    },
    {
     "data": {
      "image/png": "[encoded data removed]",
      "text/plain": [
       "<Figure size 432x288 with 1 Axes>"
      ]
     },
     "metadata": {
      "needs_background": "light"
     },
     "output_type": "display_data"
    }
   ],
   "source": [
    "mu1_hat = np.mean(male_hours1)\n",
    "mu2_hat = np.mean(female_hours1)\n",
    "se_male_hat = np.std(male_hours1)\n",
    "se_female_hat = np.std(female_hours1)\n",
    "sample_male_size = np.size(male_hours1)\n",
    "sample_female_size = np.size(female_hours1)\n",
    "delta_est = mu1_hat-mu2_hat\n",
    "\n",
    "sns.distplot(male_hours1, fit = stats.norm, label='male_hours')\n",
    "sns.distplot(female_hours1, fit = stats.norm, label ='female_hours')\n",
    "plt.legend()"
   ]
  },
  {
   "cell_type": "code",
   "execution_count": 226,
   "id": "85642f28",
   "metadata": {},
   "outputs": [
    {
     "data": {
      "text/plain": [
       "(-1.1584893477901996, 7.724443001979159)"
      ]
     },
     "execution_count": 226,
     "metadata": {},
     "output_type": "execute_result"
    }
   ],
   "source": [
    "# CI for delta\n",
    "sem_d = (np.sqrt((se_male_hat**2)/(sample_male_size))*((se_female_hat**2)/(sample_female_size)))\n",
    "lcb = delta_est - 1.96*sem_d  #lower limit of the CI\n",
    "ucb = delta_est + 1.96*sem_d  #upper limit of the CI\n",
    "(lcb, ucb)"
   ]
  },
  {
   "cell_type": "code",
   "execution_count": 227,
   "id": "efd5fe1e",
   "metadata": {},
   "outputs": [
    {
     "data": {
      "text/html": [
       "<div>\n",
       "<style scoped>\n",
       "    .dataframe tbody tr th:only-of-type {\n",
       "        vertical-align: middle;\n",
       "    }\n",
       "\n",
       "    .dataframe tbody tr th {\n",
       "        vertical-align: top;\n",
       "    }\n",
       "\n",
       "    .dataframe thead tr th {\n",
       "        text-align: left;\n",
       "    }\n",
       "\n",
       "    .dataframe thead tr:last-of-type th {\n",
       "        text-align: right;\n",
       "    }\n",
       "</style>\n",
       "<table border=\"1\" class=\"dataframe\">\n",
       "  <thead>\n",
       "    <tr>\n",
       "      <th></th>\n",
       "      <th colspan=\"3\" halign=\"left\">hours-per-week</th>\n",
       "    </tr>\n",
       "    <tr>\n",
       "      <th></th>\n",
       "      <th>mean</th>\n",
       "      <th>std</th>\n",
       "      <th>size</th>\n",
       "    </tr>\n",
       "    <tr>\n",
       "      <th>gender_Male</th>\n",
       "      <th></th>\n",
       "      <th></th>\n",
       "      <th></th>\n",
       "    </tr>\n",
       "  </thead>\n",
       "  <tbody>\n",
       "    <tr>\n",
       "      <th>0</th>\n",
       "      <td>36.932902</td>\n",
       "      <td>11.554959</td>\n",
       "      <td>14695</td>\n",
       "    </tr>\n",
       "    <tr>\n",
       "      <th>1</th>\n",
       "      <td>42.865987</td>\n",
       "      <td>11.742173</td>\n",
       "      <td>30527</td>\n",
       "    </tr>\n",
       "  </tbody>\n",
       "</table>\n",
       "</div>"
      ],
      "text/plain": [
       "            hours-per-week                  \n",
       "                      mean        std   size\n",
       "gender_Male                                 \n",
       "0                36.932902  11.554959  14695\n",
       "1                42.865987  11.742173  30527"
      ]
     },
     "execution_count": 227,
     "metadata": {},
     "output_type": "execute_result"
    }
   ],
   "source": [
    "population_stats = tmp_df4.groupby(\"gender_Male\").agg({\"hours-per-week\": [np.mean, np.std, np.size]})\n",
    "population_stats"
   ]
  },
  {
   "cell_type": "code",
   "execution_count": 228,
   "id": "41a169cf",
   "metadata": {},
   "outputs": [
    {
     "data": {
      "text/plain": [
       "5.9330851387500445"
      ]
     },
     "execution_count": 228,
     "metadata": {},
     "output_type": "execute_result"
    }
   ],
   "source": [
    "male_hours_pop = tmp_df4[tmp_df4['gender_Male']==1]['hours-per-week']\n",
    "female_hours_pop = tmp_df4[tmp_df4['gender_Male']==0]['hours-per-week']\n",
    "\n",
    "male_mean_pop = np.mean(male_hours_pop)\n",
    "female_mean_pop = np.mean(female_hours_pop)\n",
    "se_male_pop = np.std(male_hours_pop)\n",
    "se_female_pop = np.std(female_hours_pop)\n",
    "male_size = np.size(male_hours_pop)\n",
    "female_size = np.size(female_hours_pop)\n",
    "delta_pop_est = male_mean_pop-female_mean_pop\n",
    "delta_pop_est"
   ]
  },
  {
   "cell_type": "markdown",
   "id": "ed0f2f89",
   "metadata": {},
   "source": [
    "#### We got that the \"real\" delta is in the CI"
   ]
  },
  {
   "cell_type": "markdown",
   "id": "4195f341",
   "metadata": {},
   "source": [
    "### Now we will do a permutetion test and after this a wald test "
   ]
  },
  {
   "cell_type": "code",
   "execution_count": 232,
   "id": "761df7f0",
   "metadata": {},
   "outputs": [
    {
     "name": "stdout",
     "output_type": "stream",
     "text": [
      "according to the permutations test we not reject the null hypothesis\n"
     ]
    }
   ],
   "source": [
    "total_hours = np.array(list(male_hours1) + list(female_hours1))\n",
    "\n",
    "def simulate_difference(values, groupA_len):\n",
    "    randomly_shuffled = np.random.permutation(values)\n",
    "    groupA_mean = randomly_shuffled[:groupA_len].mean()\n",
    "    groupB_mean = randomly_shuffled[groupA_len:].mean()\n",
    "    return abs(groupA_mean - groupB_mean)\n",
    "\n",
    "num_simulations = 1000\n",
    "\n",
    "simulated_results =  []\n",
    "\n",
    "for _ in range(num_simulations):\n",
    "    simulated_results.append(simulate_difference(total_hours, len(male_hours1)))    \n",
    "simulated_results = np.array(simulated_results)\n",
    "\n",
    "observed_difference = delta_est\n",
    "\n",
    "alpha = 0.05\n",
    "\n",
    "simulations_at_least_as_extreme = sum(\n",
    "    simulated_results >= observed_difference\n",
    ")\n",
    "\n",
    "num_simulations = simulated_results.shape[0]\n",
    "p_value = simulations_at_least_as_extreme / num_simulations\n",
    "\n",
    "if (p_value < alpha):\n",
    "  print(\"\\033[1m\" + 'according to the permutations test we reject the null hypothesis' +  \"\\033[0m\")\n",
    "else:\n",
    "    print('according to the permutations test we not reject the null hypothesis')"
   ]
  },
  {
   "cell_type": "code",
   "execution_count": 230,
   "id": "18ace6b5",
   "metadata": {},
   "outputs": [
    {
     "data": {
      "image/png": "[encoded data removed]",
      "text/plain": [
       "<Figure size 432x288 with 1 Axes>"
      ]
     },
     "metadata": {
      "needs_background": "light"
     },
     "output_type": "display_data"
    }
   ],
   "source": [
    "# Plot permutation simulations\n",
    "density_plot = sns.kdeplot(simulated_results, shade=True)\n",
    "density_plot.set(\n",
    "    xlabel='Absolute Difference Between Groups',\n",
    "    ylabel='Proportion of Simulations',\n",
    "    title='How Surprising Is Our Observed Result?'\n",
    ")\n",
    "\n",
    "# Add a line to show the actual difference observed in the data\n",
    "density_plot.axvline(\n",
    "    x=observed_difference, \n",
    "    color='red', \n",
    "    linestyle='--'\n",
    ")\n",
    "\n",
    "plt.legend(\n",
    "    labels=['Observed Difference', 'Simulated'], \n",
    "\n",
    "    loc='upper right'\n",
    ")\n",
    "plt.show()"
   ]
  },
  {
   "cell_type": "code",
   "execution_count": 231,
   "id": "ee8b1607",
   "metadata": {},
   "outputs": [
    {
     "name": "stdout",
     "output_type": "stream",
     "text": [
      "The statistic is 1.8155411628614995\n",
      "The alpha qauntile of standard norm distrebution is 1.6448536269514722\n",
      "\u001b[1mThe null hypothesis can be rejected\u001b[0m\n",
      "The p_value is 0.034720393082473544\n"
     ]
    }
   ],
   "source": [
    "#wald_test\n",
    "W = (mu1_hat-mu2_hat)/np.sqrt(se_male_hat**2/sample_male_size+se_female_hat**2/sample_female_size)\n",
    "alpha = 0.05\n",
    "Z_alpha = norm.ppf(1-alpha)\n",
    "p_val_norm = (1.0 - norm.cdf(W)) \n",
    "print(f\"The statistic is {W}\")\n",
    "print(f\"The alpha qauntile of standard norm distrebution is {Z_alpha}\")\n",
    "if W > Z_alpha:\n",
    "    print(\"\\033[1m\" + \"The null hypothesis can be rejected\" \"\\033[0m\")\n",
    "print(f\"The p_value is {p_val_norm}\")"
   ]
  },
  {
   "cell_type": "markdown",
   "id": "946f1038",
   "metadata": {},
   "source": [
    "#### We got that acording to permutation test we not reject the null hypothesis (and the hours are the same) and acording to wald test we reject the null hypothesis (and the hours for females are smaller)"
   ]
  },
  {
   "cell_type": "markdown",
   "id": "372b183e",
   "metadata": {},
   "source": [
    "#### Now we will do a permutation test to median difference"
   ]
  },
  {
   "cell_type": "code",
   "execution_count": 235,
   "id": "14ac9e91",
   "metadata": {},
   "outputs": [
    {
     "name": "stdout",
     "output_type": "stream",
     "text": [
      "male_hours_median is 40.0 and female_hours_median equals to 40.0 , delta equals to:0.0.\n",
      "The CI for median difference is: (-2.112689991456389, 2.112689991456389).\n"
     ]
    }
   ],
   "source": [
    "male_hours_median = np.median(male_hours1)\n",
    "female_hours_median = np.median(female_hours1)\n",
    "delta_median = male_hours_median - female_hours_median\n",
    "print(f'male_hours_median is {male_hours_median} and female_hours_median equals to {female_hours_median} , delta equals to:{delta_median}.')\n",
    "\n",
    "median1_list, median2_list = [], []\n",
    "\n",
    "#we caculate a CI using bootstrap estimation to the S.E.\n",
    "B = 400\n",
    "sum_squre, sum1 = 0,0\n",
    "for i in range(B):\n",
    "    sample_median1 = np.median(male_hours1.sample(sample_male_size, replace = True))\n",
    "    sample_median2 = np.median(female_hours1.sample(sample_female_size, replace = True))\n",
    "    sample_delta = sample_median1 - sample_median2\n",
    "    sum_squre += (pow(sample_delta,2))/B\n",
    "    sum1 += sample_delta/B\n",
    "sum1 = pow(sum1,2)\n",
    "var = sum_squre - sum1\n",
    "upper = delta_median + 1.96*np.sqrt(var)\n",
    "lower = delta_median - 1.96*np.sqrt(var)\n",
    "delta_median_CI = (lower, upper)\n",
    "print(\"The CI for median difference is: \"+str(delta_median_CI)+'.')"
   ]
  },
  {
   "cell_type": "code",
   "execution_count": 236,
   "id": "bcfd23ae",
   "metadata": {},
   "outputs": [
    {
     "data": {
      "text/plain": [
       "0.0"
      ]
     },
     "execution_count": 236,
     "metadata": {},
     "output_type": "execute_result"
    }
   ],
   "source": [
    "alldata_median_males = male_hours_pop.median()\n",
    "alldata_median_females = female_hours_pop.median()\n",
    "alldata_median_delta = alldata_median_males - alldata_median_females\n",
    "alldata_median_delta"
   ]
  },
  {
   "cell_type": "markdown",
   "id": "8a9018cb",
   "metadata": {},
   "source": [
    "#### The \"real\" delta is in the CI"
   ]
  },
  {
   "cell_type": "code",
   "execution_count": 239,
   "id": "ac451c21",
   "metadata": {},
   "outputs": [
    {
     "name": "stdout",
     "output_type": "stream",
     "text": [
      "1.0\n",
      "according to the permutations test we not reject the null hypothesis\n"
     ]
    }
   ],
   "source": [
    "simulated_median_results =  []\n",
    "\n",
    "def simulate_median_difference(values, groupA_len):\n",
    "    randomly_shuffled = np.random.permutation(values)\n",
    "    groupA_median = np.median(randomly_shuffled[:groupA_len])\n",
    "    groupB_median = np.median(randomly_shuffled[groupA_len:])\n",
    "    return abs(groupA_median - groupB_median)\n",
    "\n",
    "for _ in range(num_simulations):\n",
    "    simulated_median_results.append(simulate_median_difference(total_hours, len(male_hours1)))    \n",
    "simulated_medians_results = np.array(simulated_median_results)\n",
    "\n",
    "observed_median_difference = delta_median\n",
    "\n",
    "simulations_median = sum(np.array(simulated_medians_results) >= observed_median_difference)\n",
    "\n",
    "num_simulations = simulated_results.shape[0]\n",
    "p_value = simulations_median / num_simulations\n",
    "\n",
    "print(p_value)\n",
    "\n",
    "if (p_value < alpha):\n",
    "    print(\"\\033[1m\" + 'according to the permutations test we reject the null hypothesis' +  \"\\033[0m\")\n",
    "else:\n",
    "    print('according to the permutations test we not reject the null hypothesis')"
   ]
  },
  {
   "cell_type": "markdown",
   "id": "8245eb72",
   "metadata": {},
   "source": [
    "### Now we will do 2 Wilcoxon tests, the first one is precised and the second one is approximated"
   ]
  },
  {
   "cell_type": "code",
   "execution_count": 240,
   "id": "ae726a9c",
   "metadata": {},
   "outputs": [
    {
     "data": {
      "text/plain": [
       "14318.0"
      ]
     },
     "execution_count": 240,
     "metadata": {},
     "output_type": "execute_result"
    }
   ],
   "source": [
    "sample_df2['rank']= sample_df2['hours-per-week'].rank()\n",
    "S1 = sample_df2[sample_df2['gender_Male']==1]['rank'].sum()\n",
    "S1"
   ]
  },
  {
   "cell_type": "code",
   "execution_count": 241,
   "id": "fb842c0b",
   "metadata": {},
   "outputs": [
    {
     "name": "stdout",
     "output_type": "stream",
     "text": [
      "\u001b[1maccording to the Wilcoxon test we reject the null hypothesis\u001b[0m\n"
     ]
    }
   ],
   "source": [
    "list_index = [i for i in range(200)]\n",
    "first_category = sample_df2[sample_df2['gender_Male']==1]\n",
    "count = 0\n",
    "for i in range(1000):\n",
    "    first_group_index_list = np.random.choice(list_index, size = sample_male_size, replace = True)\n",
    "    index_set = set(list_index)\n",
    "    second_group_set = index_set-set(first_group_index_list)\n",
    "    s1 = sum(first_group_index_list)\n",
    "    real_s = sum(first_category.index)\n",
    "    if (s1>= real_s):\n",
    "        count += 1 \n",
    "p_value = count/1000\n",
    "alpha = 0.05\n",
    "if (p_value < alpha):\n",
    "    print(\"\\033[1m\" + 'according to the Wilcoxon test we reject the null hypothesis' +  \"\\033[0m\")\n",
    "else:\n",
    "    print('according to the Wilcoxon test we not reject the null hypothesis')"
   ]
  },
  {
   "cell_type": "code",
   "execution_count": 242,
   "id": "2f64c154",
   "metadata": {},
   "outputs": [
    {
     "name": "stdout",
     "output_type": "stream",
     "text": [
      "\u001b[1maccording to the normal approximation we reject the null hypothesis\u001b[0m\n"
     ]
    }
   ],
   "source": [
    "E_S1 = (sample_male_size * (sample_male_size + sample_female_size + 1))/2\n",
    "var_S1 = (sample_female_size * sample_male_size * (sample_male_size + sample_female_size + 1))/12\n",
    "T = (S1 - E_S1)/np.sqrt(var_S1)\n",
    "Z_alpha = norm.ppf(1-alpha)\n",
    "if (T >= Z_alpha):\n",
    "    print(\"\\033[1m\" + 'according to the normal approximation we reject the null hypothesis' +  \"\\033[0m\")\n",
    "else:\n",
    "    print('according to the normal approximation we not reject the null hypothesis')"
   ]
  },
  {
   "cell_type": "markdown",
   "id": "98d94022",
   "metadata": {},
   "source": [
    "### Summary: for permutation test to mean/median differences we not reject the null hypothesis and for all other tests we reject"
   ]
  },
  {
   "cell_type": "markdown",
   "id": "f54443f8",
   "metadata": {},
   "source": [
    "# Basian method"
   ]
  },
  {
   "cell_type": "markdown",
   "id": "963fa6a1",
   "metadata": {},
   "source": [
    "### We will continue with the question from the last part\n",
    "\n",
    "#### We will take a sample of 200 that will be our sample and another sample of 1000 for prior (no common rows between them)"
   ]
  },
  {
   "cell_type": "code",
   "execution_count": 244,
   "id": "9530150b",
   "metadata": {},
   "outputs": [
    {
     "data": {
      "text/html": [
       "<div>\n",
       "<style scoped>\n",
       "    .dataframe tbody tr th:only-of-type {\n",
       "        vertical-align: middle;\n",
       "    }\n",
       "\n",
       "    .dataframe tbody tr th {\n",
       "        vertical-align: top;\n",
       "    }\n",
       "\n",
       "    .dataframe thead th {\n",
       "        text-align: right;\n",
       "    }\n",
       "</style>\n",
       "<table border=\"1\" class=\"dataframe\">\n",
       "  <thead>\n",
       "    <tr style=\"text-align: right;\">\n",
       "      <th></th>\n",
       "      <th>gender_Male</th>\n",
       "      <th>hours-per-week</th>\n",
       "    </tr>\n",
       "  </thead>\n",
       "  <tbody>\n",
       "    <tr>\n",
       "      <th>42093</th>\n",
       "      <td>0</td>\n",
       "      <td>40</td>\n",
       "    </tr>\n",
       "    <tr>\n",
       "      <th>31739</th>\n",
       "      <td>1</td>\n",
       "      <td>40</td>\n",
       "    </tr>\n",
       "    <tr>\n",
       "      <th>10773</th>\n",
       "      <td>1</td>\n",
       "      <td>60</td>\n",
       "    </tr>\n",
       "    <tr>\n",
       "      <th>15850</th>\n",
       "      <td>1</td>\n",
       "      <td>37</td>\n",
       "    </tr>\n",
       "    <tr>\n",
       "      <th>40645</th>\n",
       "      <td>1</td>\n",
       "      <td>45</td>\n",
       "    </tr>\n",
       "    <tr>\n",
       "      <th>...</th>\n",
       "      <td>...</td>\n",
       "      <td>...</td>\n",
       "    </tr>\n",
       "    <tr>\n",
       "      <th>1162</th>\n",
       "      <td>1</td>\n",
       "      <td>35</td>\n",
       "    </tr>\n",
       "    <tr>\n",
       "      <th>4978</th>\n",
       "      <td>1</td>\n",
       "      <td>42</td>\n",
       "    </tr>\n",
       "    <tr>\n",
       "      <th>46821</th>\n",
       "      <td>1</td>\n",
       "      <td>40</td>\n",
       "    </tr>\n",
       "    <tr>\n",
       "      <th>26123</th>\n",
       "      <td>1</td>\n",
       "      <td>70</td>\n",
       "    </tr>\n",
       "    <tr>\n",
       "      <th>42955</th>\n",
       "      <td>1</td>\n",
       "      <td>60</td>\n",
       "    </tr>\n",
       "  </tbody>\n",
       "</table>\n",
       "<p>200 rows × 2 columns</p>\n",
       "</div>"
      ],
      "text/plain": [
       "       gender_Male  hours-per-week\n",
       "42093            0              40\n",
       "31739            1              40\n",
       "10773            1              60\n",
       "15850            1              37\n",
       "40645            1              45\n",
       "...            ...             ...\n",
       "1162             1              35\n",
       "4978             1              42\n",
       "46821            1              40\n",
       "26123            1              70\n",
       "42955            1              60\n",
       "\n",
       "[200 rows x 2 columns]"
      ]
     },
     "execution_count": 244,
     "metadata": {},
     "output_type": "execute_result"
    }
   ],
   "source": [
    "sample_df3 = tmp_df4.sample(n=200, random_state = 1)\n",
    "sample_df3"
   ]
  },
  {
   "cell_type": "code",
   "execution_count": 245,
   "id": "a4fec874",
   "metadata": {},
   "outputs": [
    {
     "data": {
      "text/html": [
       "<div>\n",
       "<style scoped>\n",
       "    .dataframe tbody tr th:only-of-type {\n",
       "        vertical-align: middle;\n",
       "    }\n",
       "\n",
       "    .dataframe tbody tr th {\n",
       "        vertical-align: top;\n",
       "    }\n",
       "\n",
       "    .dataframe thead th {\n",
       "        text-align: right;\n",
       "    }\n",
       "</style>\n",
       "<table border=\"1\" class=\"dataframe\">\n",
       "  <thead>\n",
       "    <tr style=\"text-align: right;\">\n",
       "      <th></th>\n",
       "      <th>gender_Male</th>\n",
       "      <th>hours-per-week</th>\n",
       "    </tr>\n",
       "  </thead>\n",
       "  <tbody>\n",
       "    <tr>\n",
       "      <th>1193976</th>\n",
       "      <td>0</td>\n",
       "      <td>80</td>\n",
       "    </tr>\n",
       "    <tr>\n",
       "      <th>1192554</th>\n",
       "      <td>1</td>\n",
       "      <td>46</td>\n",
       "    </tr>\n",
       "    <tr>\n",
       "      <th>1120845</th>\n",
       "      <td>1</td>\n",
       "      <td>25</td>\n",
       "    </tr>\n",
       "    <tr>\n",
       "      <th>1166730</th>\n",
       "      <td>1</td>\n",
       "      <td>38</td>\n",
       "    </tr>\n",
       "    <tr>\n",
       "      <th>1180738</th>\n",
       "      <td>0</td>\n",
       "      <td>36</td>\n",
       "    </tr>\n",
       "    <tr>\n",
       "      <th>...</th>\n",
       "      <td>...</td>\n",
       "      <td>...</td>\n",
       "    </tr>\n",
       "    <tr>\n",
       "      <th>1181121</th>\n",
       "      <td>0</td>\n",
       "      <td>44</td>\n",
       "    </tr>\n",
       "    <tr>\n",
       "      <th>1180729</th>\n",
       "      <td>0</td>\n",
       "      <td>36</td>\n",
       "    </tr>\n",
       "    <tr>\n",
       "      <th>1192332</th>\n",
       "      <td>0</td>\n",
       "      <td>21</td>\n",
       "    </tr>\n",
       "    <tr>\n",
       "      <th>1180800</th>\n",
       "      <td>0</td>\n",
       "      <td>36</td>\n",
       "    </tr>\n",
       "    <tr>\n",
       "      <th>1188214</th>\n",
       "      <td>0</td>\n",
       "      <td>12</td>\n",
       "    </tr>\n",
       "  </tbody>\n",
       "</table>\n",
       "<p>1000 rows × 2 columns</p>\n",
       "</div>"
      ],
      "text/plain": [
       "         gender_Male  hours-per-week\n",
       "1193976            0              80\n",
       "1192554            1              46\n",
       "1120845            1              25\n",
       "1166730            1              38\n",
       "1180738            0              36\n",
       "...              ...             ...\n",
       "1181121            0              44\n",
       "1180729            0              36\n",
       "1192332            0              21\n",
       "1180800            0              36\n",
       "1188214            0              12\n",
       "\n",
       "[1000 rows x 2 columns]"
      ]
     },
     "execution_count": 245,
     "metadata": {},
     "output_type": "execute_result"
    }
   ],
   "source": [
    "new_df1 = tmp_df4.merge(sample_df3, how = 'outer' ,indicator=True).loc[lambda x : x['_merge']=='left_only']\n",
    "new_df1 = new_df1[[\"gender_Male\", \"hours-per-week\"]]\n",
    "prior_sample = new_df1.sample(n=1000, random_state = 2)\n",
    "prior_sample"
   ]
  },
  {
   "cell_type": "code",
   "execution_count": 246,
   "id": "af049993",
   "metadata": {},
   "outputs": [],
   "source": [
    "tau = prior_sample[\"hours-per-week\"].median()\n",
    "sample_df3['Z'] = sample_df3['hours-per-week'].apply(lambda x: 1 if x > tau else 0)\n",
    "prior_sample['Z'] = prior_sample['hours-per-week'].apply(lambda x: 1 if x > tau else 0)"
   ]
  },
  {
   "cell_type": "markdown",
   "id": "1c59a9cb",
   "metadata": {},
   "source": [
    "#### We will deffine p1 the propability that Z get 1 in males and p2 the propability that Z get 1 in females"
   ]
  },
  {
   "cell_type": "code",
   "execution_count": 247,
   "id": "d92b23ba",
   "metadata": {},
   "outputs": [
    {
     "data": {
      "text/plain": [
       "1.2131917558767653"
      ]
     },
     "execution_count": 247,
     "metadata": {},
     "output_type": "execute_result"
    }
   ],
   "source": [
    "num_of_males = sum(sample_df3['gender_Male'])\n",
    "num_of_females = 200 - num_of_males\n",
    "p1 = sum(sample_df3[sample_df3['gender_Male']==1]['Z'])/num_of_males\n",
    "p2 = sum(sample_df3[sample_df3['gender_Male']==0]['Z'])/num_of_females\n",
    "psy = m.log(p1/(1-p1)) - m.log(p2/(1-p2))\n",
    "psy"
   ]
  },
  {
   "cell_type": "code",
   "execution_count": null,
   "id": "cde4304a",
   "metadata": {},
   "outputs": [],
   "source": [
    "B = 400\n",
    "psy_list = []\n",
    "for i in range(B):\n",
    "    boot = sample_df3.sample(n=200, replace=True, random_state = i+1)\n",
    "    num_of_males = sum(boot['gender_Male'])\n",
    "    num_of_females = 200 - num_of_males\n",
    "    p1 = sum(boot[boot['gender_Male']==1]['Z'])/num_of_males\n",
    "    p2 = sum(boot[boot['gender_Male']==0]['Z'])/num_of_females\n",
    "    psy_list.append(m.log(p1/(1-p1)) - m.log(p2/(1-p2)))\n",
    "\n",
    "psy_list = sorted(psy_list, reverse = False)\n",
    "CI_quontily = [psy_list[10], psy_list[390]]\n",
    "CI_quontily"
   ]
  },
  {
   "cell_type": "markdown",
   "id": "d93cc972",
   "metadata": {},
   "source": [
    "#### Our estimator for psy is in the CI"
   ]
  },
  {
   "cell_type": "markdown",
   "id": "bb844caa",
   "metadata": {},
   "source": [
    "#### because we assume uniform prior we will sample from beta distrebution"
   ]
  },
  {
   "cell_type": "code",
   "execution_count": 249,
   "id": "e2a7c847",
   "metadata": {},
   "outputs": [
    {
     "data": {
      "text/plain": [
       "4.147190267597349"
      ]
     },
     "execution_count": 249,
     "metadata": {},
     "output_type": "execute_result"
    }
   ],
   "source": [
    "# estimetor for psy based on beta distrebution\n",
    "s1 = sum(sample_df3[sample_df3['gender_Male']==1]['Z'])\n",
    "s2 = sum(sample_df3[sample_df3['gender_Male']==0]['Z'])\n",
    "beta_psy_list = []\n",
    "for i in range(B):\n",
    "    p1 = np.random.beta(s1+1, num_of_males-s1+1)\n",
    "    p2 = np.random.beta(s2+1, num_of_females-s2+1)\n",
    "    beta_psy_list.append(m.log(p1/(1-p1)) - m.log(p2/(1-p2)))\n",
    "beta_psy = np.mean(beta_psy_list)\n",
    "beta_psy"
   ]
  },
  {
   "cell_type": "code",
   "execution_count": 250,
   "id": "1eaa5ba6",
   "metadata": {},
   "outputs": [
    {
     "data": {
      "text/plain": [
       "[2.7673610633467773, 6.036604790851301]"
      ]
     },
     "execution_count": 250,
     "metadata": {},
     "output_type": "execute_result"
    }
   ],
   "source": [
    "beta_psy_list = sorted(beta_psy_list, reverse = False)\n",
    "CI_beta = [beta_psy_list[10], beta_psy_list[390]]\n",
    "CI_beta"
   ]
  },
  {
   "cell_type": "markdown",
   "id": "e107ae7e",
   "metadata": {},
   "source": [
    "#### This estimator is also in the credible interval (using bootstrap quantile method)"
   ]
  },
  {
   "cell_type": "markdown",
   "id": "68168520",
   "metadata": {},
   "source": [
    "### Jefry's prior"
   ]
  },
  {
   "cell_type": "code",
   "execution_count": 251,
   "id": "e64f55a9",
   "metadata": {},
   "outputs": [
    {
     "data": {
      "text/plain": [
       "4.147190267597349"
      ]
     },
     "execution_count": 251,
     "metadata": {},
     "output_type": "execute_result"
    }
   ],
   "source": [
    "jefry_psy_list = []\n",
    "for i in range(B):\n",
    "    p1 = np.random.beta(s1+0.5, num_of_males-s1+0.5)\n",
    "    p2 = np.random.beta(s2+0.5, num_of_females-s2+0.5)\n",
    "    jefry_psy_list.append(m.log(p1/(1-p1)) - m.log(p2/(1-p2)))\n",
    "jefry_psy = np.mean(beta_psy_list)\n",
    "jefry_psy"
   ]
  },
  {
   "cell_type": "code",
   "execution_count": 252,
   "id": "32d26dd1",
   "metadata": {},
   "outputs": [
    {
     "data": {
      "text/plain": [
       "[3.0073885290929003, 6.973501544729393]"
      ]
     },
     "execution_count": 252,
     "metadata": {},
     "output_type": "execute_result"
    }
   ],
   "source": [
    "jefry_psy_list = sorted(jefry_psy_list, reverse = False)\n",
    "CI_jefry = [jefry_psy_list[10], jefry_psy_list[390]]\n",
    "CI_jefry"
   ]
  },
  {
   "cell_type": "markdown",
   "id": "d57118f0",
   "metadata": {},
   "source": [
    "#### For Jefry's prior we also got the the estimator for psy is in the credible interval"
   ]
  },
  {
   "cell_type": "markdown",
   "id": "7cb31a9c",
   "metadata": {},
   "source": [
    "#### Now we wiil caclulate the same way we did before the Jefry's prior, but the different that we will calculate s1, s2 based on the prior sample"
   ]
  },
  {
   "cell_type": "code",
   "execution_count": 253,
   "id": "2aa757e4",
   "metadata": {},
   "outputs": [
    {
     "data": {
      "text/plain": [
       "1.2687155057460782"
      ]
     },
     "execution_count": 253,
     "metadata": {},
     "output_type": "execute_result"
    }
   ],
   "source": [
    "num_of_males_prior = sum(prior_sample['gender_Male'])\n",
    "num_of_females_prior = 1000 - num_of_males\n",
    "p1_prior = sum(prior_sample[prior_sample['gender_Male']==1]['Z'])/num_of_males_prior\n",
    "p2_prior = sum(prior_sample[prior_sample['gender_Male']==0]['Z'])/num_of_females_prior\n",
    "s1_prior = sum(prior_sample[prior_sample['gender_Male']==1]['Z'])\n",
    "s2_prior = sum(prior_sample[prior_sample['gender_Male']==0]['Z'])\n",
    "beta_prior_psy_list = []\n",
    "for i in range(B):\n",
    "    p1 = np.random.beta(s1_prior+1, num_of_males_prior-s1_prior+1)\n",
    "    p2 = np.random.beta(s2_prior+1, num_of_females_prior-s2_prior+1)\n",
    "    beta_prior_psy_list.append(m.log(p1/(1-p1)) - m.log(p2/(1-p2)))\n",
    "postirior_psy = np.mean(beta_prior_psy_list)\n",
    "postirior_psy"
   ]
  },
  {
   "cell_type": "code",
   "execution_count": 254,
   "id": "78524da1",
   "metadata": {},
   "outputs": [
    {
     "data": {
      "text/plain": [
       "[1.0273126206264687, 1.4899126983170468]"
      ]
     },
     "execution_count": 254,
     "metadata": {},
     "output_type": "execute_result"
    }
   ],
   "source": [
    "beta_prior_psy_list = sorted(beta_prior_psy_list, reverse = False)\n",
    "CI_beta_prior = [beta_prior_psy_list[10], beta_prior_psy_list[390]]\n",
    "CI_beta_prior"
   ]
  },
  {
   "cell_type": "markdown",
   "id": "508c836d",
   "metadata": {},
   "source": [
    "#### For this we also got that the estimator is in the credible interval\n",
    "\n",
    "### Summary: for all methods we got that the estimator is in the CI. The narrowest one is when we use prior, the widest when we use uniform prior (Jefry's prior a little bit narrower) and in the middle we have the regular CI (not besian)."
   ]
  },
  {
   "cell_type": "markdown",
   "id": "37fd52a5",
   "metadata": {},
   "source": [
    "# Missing data"
   ]
  },
  {
   "cell_type": "markdown",
   "id": "243b909a",
   "metadata": {},
   "source": [
    "## In this part independent variables are: hours per week, income and gender. The dependent variable is the age"
   ]
  },
  {
   "cell_type": "code",
   "execution_count": 256,
   "id": "1c0e19c9",
   "metadata": {},
   "outputs": [
    {
     "data": {
      "text/html": [
       "<div>\n",
       "<style scoped>\n",
       "    .dataframe tbody tr th:only-of-type {\n",
       "        vertical-align: middle;\n",
       "    }\n",
       "\n",
       "    .dataframe tbody tr th {\n",
       "        vertical-align: top;\n",
       "    }\n",
       "\n",
       "    .dataframe thead th {\n",
       "        text-align: right;\n",
       "    }\n",
       "</style>\n",
       "<table border=\"1\" class=\"dataframe\">\n",
       "  <thead>\n",
       "    <tr style=\"text-align: right;\">\n",
       "      <th></th>\n",
       "      <th>age</th>\n",
       "      <th>gender_Male</th>\n",
       "      <th>income_&gt;50K</th>\n",
       "      <th>hours-per-week</th>\n",
       "    </tr>\n",
       "  </thead>\n",
       "  <tbody>\n",
       "    <tr>\n",
       "      <th>42093</th>\n",
       "      <td>64</td>\n",
       "      <td>0</td>\n",
       "      <td>0</td>\n",
       "      <td>40</td>\n",
       "    </tr>\n",
       "    <tr>\n",
       "      <th>31739</th>\n",
       "      <td>56</td>\n",
       "      <td>1</td>\n",
       "      <td>0</td>\n",
       "      <td>40</td>\n",
       "    </tr>\n",
       "    <tr>\n",
       "      <th>10773</th>\n",
       "      <td>36</td>\n",
       "      <td>1</td>\n",
       "      <td>0</td>\n",
       "      <td>60</td>\n",
       "    </tr>\n",
       "    <tr>\n",
       "      <th>15850</th>\n",
       "      <td>19</td>\n",
       "      <td>1</td>\n",
       "      <td>0</td>\n",
       "      <td>37</td>\n",
       "    </tr>\n",
       "    <tr>\n",
       "      <th>40645</th>\n",
       "      <td>32</td>\n",
       "      <td>1</td>\n",
       "      <td>1</td>\n",
       "      <td>45</td>\n",
       "    </tr>\n",
       "    <tr>\n",
       "      <th>...</th>\n",
       "      <td>...</td>\n",
       "      <td>...</td>\n",
       "      <td>...</td>\n",
       "      <td>...</td>\n",
       "    </tr>\n",
       "    <tr>\n",
       "      <th>24205</th>\n",
       "      <td>36</td>\n",
       "      <td>1</td>\n",
       "      <td>0</td>\n",
       "      <td>45</td>\n",
       "    </tr>\n",
       "    <tr>\n",
       "      <th>34706</th>\n",
       "      <td>65</td>\n",
       "      <td>0</td>\n",
       "      <td>0</td>\n",
       "      <td>24</td>\n",
       "    </tr>\n",
       "    <tr>\n",
       "      <th>25138</th>\n",
       "      <td>46</td>\n",
       "      <td>1</td>\n",
       "      <td>1</td>\n",
       "      <td>55</td>\n",
       "    </tr>\n",
       "    <tr>\n",
       "      <th>43698</th>\n",
       "      <td>60</td>\n",
       "      <td>0</td>\n",
       "      <td>0</td>\n",
       "      <td>40</td>\n",
       "    </tr>\n",
       "    <tr>\n",
       "      <th>23859</th>\n",
       "      <td>40</td>\n",
       "      <td>0</td>\n",
       "      <td>0</td>\n",
       "      <td>50</td>\n",
       "    </tr>\n",
       "  </tbody>\n",
       "</table>\n",
       "<p>1000 rows × 4 columns</p>\n",
       "</div>"
      ],
      "text/plain": [
       "       age  gender_Male  income_>50K  hours-per-week\n",
       "42093   64            0            0              40\n",
       "31739   56            1            0              40\n",
       "10773   36            1            0              60\n",
       "15850   19            1            0              37\n",
       "40645   32            1            1              45\n",
       "...    ...          ...          ...             ...\n",
       "24205   36            1            0              45\n",
       "34706   65            0            0              24\n",
       "25138   46            1            1              55\n",
       "43698   60            0            0              40\n",
       "23859   40            0            0              50\n",
       "\n",
       "[1000 rows x 4 columns]"
      ]
     },
     "execution_count": 256,
     "metadata": {},
     "output_type": "execute_result"
    }
   ],
   "source": [
    "sample_data4 = tmp_df2.sample(1000, random_state=1)\n",
    "sample_data4.reset_index()\n",
    "sample_data4 = sample_data4[[\"age\", \"gender_Male\", \"income_>50K\", \"hours-per-week\"]]\n",
    "sample_data4"
   ]
  },
  {
   "cell_type": "code",
   "execution_count": 258,
   "id": "e0be4a6f",
   "metadata": {},
   "outputs": [
    {
     "name": "stdout",
     "output_type": "stream",
     "text": [
      "The coefficient vector is:\n"
     ]
    },
    {
     "data": {
      "text/plain": [
       "array([3.38339215e+01, 2.60541746e+00, 5.44964136e+00, 3.08888654e-02])"
      ]
     },
     "execution_count": 258,
     "metadata": {},
     "output_type": "execute_result"
    }
   ],
   "source": [
    "# repeat what we did in linear regression\n",
    "X_1000 = sample_data4.values[:,1:4]\n",
    "o_1000 = np.ones(sample_data4.shape[0])\n",
    "X_1000 = np.vstack((o_1000,X_1000.T)).T\n",
    "Y_1000 = sample_data4.values[:,0]\n",
    "beta_hat_1000 = (inv(X_1000.T@X_1000)@X_1000.T)@Y_1000\n",
    "print('The coefficient vector is:')\n",
    "beta_hat_1000"
   ]
  },
  {
   "cell_type": "code",
   "execution_count": 260,
   "id": "6c7f3129",
   "metadata": {},
   "outputs": [
    {
     "data": {
      "text/plain": [
       "[[30.96368059625545, 36.704162484425275],\n",
       " [0.845551874601729, 4.365283044199472],\n",
       " [3.505280294320192, 7.394002434643086],\n",
       " [-0.034855688758747255, 0.09663341956682414]]"
      ]
     },
     "execution_count": 260,
     "metadata": {},
     "output_type": "execute_result"
    }
   ],
   "source": [
    "SST_1000 = sum(np.square(Y_1000-np.mean(Y_1000)))\n",
    "SSRES_1000 = sum(np.square(Y_1000-(X_1000@beta_hat_1000)))\n",
    "MSRES_1000 = (1/(sample_data4.count()[0]-4)) * SSRES_1000\n",
    "MST_1000 = SST_1000 / (sample_data4.count()[0]-1)\n",
    "SSR_1000 = sum(np.square(X_1000@beta_hat_1000 - np.mean(Y_1000)))\n",
    "MSR_1000 = SSR_1000 / 3\n",
    "F_ratio_1000 = MSR_1000 / MSRES_1000\n",
    "p_val_1000 = 1 - stats.f.cdf(F_ratio_1000,3,996)\n",
    "var_list_1000 = []\n",
    "for i, beta in enumerate(beta_hat_1000):\n",
    "     var_list_1000.append(MSRES_1000 * inv(X_1000.T@X_1000)[i][i])\n",
    "CI_list_1000 = []\n",
    "for i in range(4):\n",
    "    CI_list_1000.append([beta_hat_1000[i]-2*np.sqrt(var_list_1000[i]), beta_hat_1000[i]+2*np.sqrt(var_list_1000[i])])\n",
    "CI_list_1000"
   ]
  },
  {
   "cell_type": "markdown",
   "id": "06efaa99",
   "metadata": {},
   "source": [
    "#### We got that all of elementa in beta are in their CI"
   ]
  },
  {
   "cell_type": "markdown",
   "id": "377a7ecb",
   "metadata": {},
   "source": [
    "### Now we will delete some records to get missing data"
   ]
  },
  {
   "cell_type": "code",
   "execution_count": 279,
   "id": "cce8fe19",
   "metadata": {},
   "outputs": [
    {
     "data": {
      "text/html": [
       "<div>\n",
       "<style scoped>\n",
       "    .dataframe tbody tr th:only-of-type {\n",
       "        vertical-align: middle;\n",
       "    }\n",
       "\n",
       "    .dataframe tbody tr th {\n",
       "        vertical-align: top;\n",
       "    }\n",
       "\n",
       "    .dataframe thead th {\n",
       "        text-align: right;\n",
       "    }\n",
       "</style>\n",
       "<table border=\"1\" class=\"dataframe\">\n",
       "  <thead>\n",
       "    <tr style=\"text-align: right;\">\n",
       "      <th></th>\n",
       "      <th>age</th>\n",
       "      <th>gender_Male</th>\n",
       "      <th>income_&gt;50K</th>\n",
       "      <th>hours-per-week</th>\n",
       "    </tr>\n",
       "  </thead>\n",
       "  <tbody>\n",
       "    <tr>\n",
       "      <th>0</th>\n",
       "      <td>17</td>\n",
       "      <td>1</td>\n",
       "      <td>0</td>\n",
       "      <td>40</td>\n",
       "    </tr>\n",
       "    <tr>\n",
       "      <th>1</th>\n",
       "      <td>17</td>\n",
       "      <td>1</td>\n",
       "      <td>0</td>\n",
       "      <td>20</td>\n",
       "    </tr>\n",
       "    <tr>\n",
       "      <th>2</th>\n",
       "      <td>17</td>\n",
       "      <td>1</td>\n",
       "      <td>0</td>\n",
       "      <td>40</td>\n",
       "    </tr>\n",
       "    <tr>\n",
       "      <th>3</th>\n",
       "      <td>17</td>\n",
       "      <td>0</td>\n",
       "      <td>0</td>\n",
       "      <td>12</td>\n",
       "    </tr>\n",
       "    <tr>\n",
       "      <th>4</th>\n",
       "      <td>17</td>\n",
       "      <td>1</td>\n",
       "      <td>0</td>\n",
       "      <td>20</td>\n",
       "    </tr>\n",
       "    <tr>\n",
       "      <th>...</th>\n",
       "      <td>...</td>\n",
       "      <td>...</td>\n",
       "      <td>...</td>\n",
       "      <td>...</td>\n",
       "    </tr>\n",
       "    <tr>\n",
       "      <th>995</th>\n",
       "      <td>-1</td>\n",
       "      <td>1</td>\n",
       "      <td>0</td>\n",
       "      <td>40</td>\n",
       "    </tr>\n",
       "    <tr>\n",
       "      <th>996</th>\n",
       "      <td>78</td>\n",
       "      <td>1</td>\n",
       "      <td>0</td>\n",
       "      <td>15</td>\n",
       "    </tr>\n",
       "    <tr>\n",
       "      <th>997</th>\n",
       "      <td>-1</td>\n",
       "      <td>1</td>\n",
       "      <td>1</td>\n",
       "      <td>20</td>\n",
       "    </tr>\n",
       "    <tr>\n",
       "      <th>998</th>\n",
       "      <td>-1</td>\n",
       "      <td>1</td>\n",
       "      <td>0</td>\n",
       "      <td>12</td>\n",
       "    </tr>\n",
       "    <tr>\n",
       "      <th>999</th>\n",
       "      <td>90</td>\n",
       "      <td>1</td>\n",
       "      <td>1</td>\n",
       "      <td>40</td>\n",
       "    </tr>\n",
       "  </tbody>\n",
       "</table>\n",
       "<p>1000 rows × 4 columns</p>\n",
       "</div>"
      ],
      "text/plain": [
       "     age  gender_Male  income_>50K  hours-per-week\n",
       "0     17            1            0              40\n",
       "1     17            1            0              20\n",
       "2     17            1            0              40\n",
       "3     17            0            0              12\n",
       "4     17            1            0              20\n",
       "..   ...          ...          ...             ...\n",
       "995   -1            1            0              40\n",
       "996   78            1            0              15\n",
       "997   -1            1            1              20\n",
       "998   -1            1            0              12\n",
       "999   90            1            1              40\n",
       "\n",
       "[1000 rows x 4 columns]"
      ]
     },
     "execution_count": 279,
     "metadata": {},
     "output_type": "execute_result"
    }
   ],
   "source": [
    "data_sorted = sample_data4.sort_values(by=['age']).reset_index()\n",
    "np.random.seed(5)\n",
    "for i in range(0, 1000):\n",
    "    p_i = 1/5 + ((i/1000)*3/5)    \n",
    "    rand_var = np.random.uniform()\n",
    "    if rand_var < p_i:\n",
    "        data_sorted.at[i-1,'age'] = -1\n",
    "data_sorted = data_sorted[[\"age\", \"gender_Male\", \"income_>50K\", \"hours-per-week\"]]\n",
    "data_sorted"
   ]
  },
  {
   "cell_type": "code",
   "execution_count": 280,
   "id": "75ea5ce5",
   "metadata": {},
   "outputs": [
    {
     "name": "stdout",
     "output_type": "stream",
     "text": [
      "483\n"
     ]
    }
   ],
   "source": [
    "full_data_records = data_sorted[data_sorted['age']!= -1]\n",
    "print(len(full_data_records))"
   ]
  },
  {
   "cell_type": "markdown",
   "id": "714d1571",
   "metadata": {},
   "source": [
    "#### Now we will do the same as we did before bur based just on full records"
   ]
  },
  {
   "cell_type": "code",
   "execution_count": 281,
   "id": "31b08f72",
   "metadata": {},
   "outputs": [
    {
     "name": "stdout",
     "output_type": "stream",
     "text": [
      "The coefficient vector is:\n"
     ]
    },
    {
     "data": {
      "text/plain": [
       "array([25.6258181 ,  2.6622726 ,  6.76891257,  0.11190691])"
      ]
     },
     "execution_count": 281,
     "metadata": {},
     "output_type": "execute_result"
    }
   ],
   "source": [
    "# Calculate coefficient vector based on full records only\n",
    "X_mis = full_data_records.values[:,1:4]\n",
    "o_mis = np.ones(full_data_records.shape[0])\n",
    "X_mis = np.vstack((o_mis,X_mis.T)).T\n",
    "Y_mis = full_data_records.values[:,0]\n",
    "beta_hat_mis = (inv(X_mis.T@X_mis)@X_mis.T)@Y_mis\n",
    "print('The coefficient vector is:')\n",
    "beta_hat_mis"
   ]
  },
  {
   "cell_type": "code",
   "execution_count": 282,
   "id": "c23985c4",
   "metadata": {},
   "outputs": [
    {
     "data": {
      "text/plain": [
       "[[22.158697663162084, 29.09293853655409],\n",
       " [0.5638967288787868, 4.76064846824735],\n",
       " [4.2671802344159415, 9.270644904242356],\n",
       " [0.03210060635629103, 0.19171320877351378]]"
      ]
     },
     "execution_count": 282,
     "metadata": {},
     "output_type": "execute_result"
    }
   ],
   "source": [
    "SST_mis = sum(np.square(Y_mis-np.mean(Y_mis)))\n",
    "SSRES_mis = sum(np.square(Y_mis-(X_mis@beta_hat_mis)))\n",
    "MSRES_mis = (1/(full_data_records.count()[0]-4)) * SSRES_mis\n",
    "MST_mis = SST_mis / (full_data_records.count()[0]-1)\n",
    "SSR_mis = sum(np.square(X_mis@beta_hat_mis-np.mean(Y_mis)))\n",
    "MSR_mis = SSR_mis / 3\n",
    "F_ratio_mis = MSR_mis / MSRES_mis\n",
    "p_val_mis = 1 - stats.f.cdf(F_ratio_mis,3,full_data_records.count()[0]-4)\n",
    "var_list_mis = []\n",
    "for i, beta in enumerate(beta_hat_mis):\n",
    "     var_list_mis.append(MSRES_mis*inv(X_mis.T@X_mis)[i][i])\n",
    "CI_list_mis = []\n",
    "for i in range(4):\n",
    "    CI_list_mis.append([beta_hat_mis[i]-2*np.sqrt(var_list_mis[i]), beta_hat_mis[i]+2*np.sqrt(var_list_mis[i])])\n",
    "CI_list_mis"
   ]
  },
  {
   "cell_type": "markdown",
   "id": "dd1885de",
   "metadata": {},
   "source": [
    "#### We got different results but still all the beta elements are in the CI"
   ]
  },
  {
   "cell_type": "markdown",
   "id": "c8f2c731",
   "metadata": {},
   "source": [
    "### Regression imputation"
   ]
  },
  {
   "cell_type": "code",
   "execution_count": 283,
   "id": "86c01a1a",
   "metadata": {},
   "outputs": [],
   "source": [
    "# Completing the missing data using regression imputation\n",
    "all_data = data_sorted.copy()\n",
    "for row in range(len(all_data)):\n",
    "    if all_data.at[row, 'age'] == -1:\n",
    "        x = all_data.iloc[row].values\n",
    "        x = np.delete(x, 0)\n",
    "        x = np.insert(x,0,1)\n",
    "        y_hat = beta_hat.T@x\n",
    "        all_data.at[row, 'age'] = y_hat\n",
    "reg_imput_data = all_data.copy()"
   ]
  },
  {
   "cell_type": "code",
   "execution_count": 286,
   "id": "c21fee6d",
   "metadata": {},
   "outputs": [
    {
     "name": "stdout",
     "output_type": "stream",
     "text": [
      "The coefficient vector is:\n"
     ]
    },
    {
     "data": {
      "text/plain": [
       "array([22.77191456, 17.93782334, 24.39671336,  2.77858545])"
      ]
     },
     "execution_count": 286,
     "metadata": {},
     "output_type": "execute_result"
    }
   ],
   "source": [
    "# Calculate coefficient vector based on regression imputation\n",
    "X_reg = reg_imput_data.values[:,1:4]\n",
    "o_reg = np.ones(reg_imput_data.shape[0])\n",
    "X_reg = np.vstack((o_reg,X_reg.T)).T\n",
    "Y_reg = reg_imput_data.values[:,0]\n",
    "beta_hat_reg = (inv(X_reg.T@X_reg)@X_reg.T)@Y_reg\n",
    "print('The coefficient vector is:')\n",
    "beta_hat_reg"
   ]
  },
  {
   "cell_type": "code",
   "execution_count": 287,
   "id": "d764ac1b",
   "metadata": {},
   "outputs": [
    {
     "data": {
      "text/plain": [
       "[[-5.424960407424777, 50.968789536165986],\n",
       " [0.6491319626407801, 35.226514717913254],\n",
       " [5.295562248752443, 43.49786446895702],\n",
       " [2.1327194764481288, 3.4244514320003976]]"
      ]
     },
     "execution_count": 287,
     "metadata": {},
     "output_type": "execute_result"
    }
   ],
   "source": [
    "SST_reg = sum(np.square(Y_reg-np.mean(Y_reg)))\n",
    "SSRES_reg = sum(np.square(Y_reg-(X_reg@beta_hat_reg)))\n",
    "MSRES_reg = (1/(reg_imput_data.count()[0]-4))*SSRES_reg\n",
    "MST_reg = SST_reg / (reg_imput_data.count()[0]-1)\n",
    "SSR_reg = sum(np.square(X_reg@beta_hat_reg-np.mean(Y_reg)))\n",
    "MSR_reg = SSR_reg / 3\n",
    "F_ratio_reg = MSR_reg / MSRES_reg\n",
    "p_val_reg = 1 - stats.f.cdf(F_ratio_reg,3,reg_imput_data.count()[0]-4)\n",
    "var_list_reg = []\n",
    "for i, beta in enumerate(beta_hat_reg):\n",
    "     var_list_reg.append(MSRES_reg*inv(X_reg.T@X_reg)[i][i])\n",
    "CI_list_reg = []\n",
    "for i in range(4):\n",
    "    CI_list_reg.append([beta_hat_reg[i]-2*np.sqrt(var_list_reg[i]), beta_hat_reg[i]+2*np.sqrt(var_list_reg[i])])\n",
    "CI_list_reg"
   ]
  },
  {
   "cell_type": "markdown",
   "id": "f1ddc212",
   "metadata": {},
   "source": [
    "## Multiple imputation "
   ]
  },
  {
   "cell_type": "code",
   "execution_count": 289,
   "id": "34c29458",
   "metadata": {},
   "outputs": [
    {
     "name": "stdout",
     "output_type": "stream",
     "text": [
      "The coefficient vector is:\n"
     ]
    },
    {
     "data": {
      "text/plain": [
       "{'x0': 22.66133822392887,\n",
       " 'gender_Male': 17.967343453289555,\n",
       " 'income_>50K': 24.3772782312251,\n",
       " 'hours-per-week': 2.7805685753208267}"
      ]
     },
     "execution_count": 289,
     "metadata": {},
     "output_type": "execute_result"
    }
   ],
   "source": [
    "sample_var = pow(stats.sem(full_data_records['age'].to_numpy()),2)\n",
    "M = 100\n",
    "sum_mu = 0\n",
    "names = {0: 'x0', 1: 'gender_Male', 2: 'income_>50K', 3:'hours-per-week'}\n",
    "se_dict = {'x0': 0, 'gender_Male': 0, 'income_>50K':0, 'hours-per-week': 0}\n",
    "beta_list = []\n",
    "temp_data = data_sorted.copy()\n",
    "for i in range(M):\n",
    "    for row in range(data_sorted.shape[0]):\n",
    "        if data_sorted.at[row, 'age'] == -1:\n",
    "            x = all_data.iloc[row].values\n",
    "            x = np.delete(x, 0)\n",
    "            x = np.insert(x,0,1)\n",
    "            mu_x_hat = beta_hat.T@x\n",
    "            Y_i_hat = np.random.normal(mu_x_hat, sample_var)\n",
    "            temp_data.at[row, 'age'] = Y_i_hat\n",
    "    temp2 = temp_data\n",
    "    temp3 = temp2[[\"gender_Male\", \"income_>50K\", \"hours-per-week\"]]\n",
    "    ones = pd.Series([1]*len(temp3))\n",
    "    temp = pd.DataFrame(ones, columns = ['x0'])\n",
    "    Y = temp2['age'].to_numpy()\n",
    "    res = pd.concat([temp, temp3], axis=1, ignore_index=True)\n",
    "    X = res.to_numpy()\n",
    "    # computing least squares estimator :\n",
    "    inv_sample = inv(X.T@X)\n",
    "    for k in range(len(names)):\n",
    "        se_dict[names[k]]+= (inv_sample[k][k]/M)\n",
    "    beta_sample = inv_sample@X.T@Y\n",
    "    beta_list.append(beta_sample)\n",
    "sum_dict = {'x0': 0, 'gender_Male': 0, 'income_>50K':0, 'hours-per-week': 0}\n",
    "for i in range(M):\n",
    "    for j in range(len(beta_list[i])):\n",
    "        sum_dict[names[j]] += beta_list[i][j]\n",
    "for i in range(len(names)):\n",
    "    sum_dict[names[i]] =  sum_dict[names[i]] /M\n",
    "print('The coefficient vector is:')\n",
    "sum_dict"
   ]
  },
  {
   "cell_type": "markdown",
   "id": "ac77fdf0",
   "metadata": {},
   "source": [
    "### Now we will Robin's estimator to S.E. for calculating CI"
   ]
  },
  {
   "cell_type": "code",
   "execution_count": 290,
   "id": "5e450506",
   "metadata": {},
   "outputs": [
    {
     "data": {
      "text/plain": [
       "[[22.42187977037081, 22.900796677486927],\n",
       " [17.822653317468497, 18.112033589110613],\n",
       " [24.21782970125956, 24.536726761190643],\n",
       " [2.7751065806005246, 2.7860305700411288]]"
      ]
     },
     "execution_count": 290,
     "metadata": {},
     "output_type": "execute_result"
    }
   ],
   "source": [
    "temp_dict = {'x0': 0, 'gender_Male': 0, 'income_>50K':0, 'hours-per-week': 0}\n",
    "x = (M+1)/(M*(M-1))\n",
    "for i in range(M):\n",
    "    for j in range(len(names)):\n",
    "        temp = beta_list[i][j]- sum_dict[names[j]]\n",
    "        temp_dict[names[j]] += (pow(temp, 2)*x)\n",
    "Var_dict = {'x0': 0, 'gender_Male': 0, 'income_>50K':0, 'hours-per-week': 0}\n",
    "for k in range(len(names)):\n",
    "    Var_dict[names[k]] = se_dict[names[k]]+temp_dict[names[k]]\n",
    "CI_mult_imput = []\n",
    "for i in range(len(sum_dict)):\n",
    "    CI_mult_imput.append([sum_dict[names[i]] - 2*np.sqrt(Var_dict[names[i]]),sum_dict[names[i]] + 2*np.sqrt(Var_dict[names[i]])])\n",
    "CI_mult_imput"
   ]
  },
  {
   "cell_type": "markdown",
   "id": "19cd1c38",
   "metadata": {},
   "source": [
    "### We got very narrow CIs, and for all of them the parameter is in the CI"
   ]
  },
  {
   "cell_type": "code",
   "execution_count": 291,
   "id": "e973bd4e",
   "metadata": {},
   "outputs": [],
   "source": [
    "#we add a function that set R to 1 if Y observed and 0 otherwise\n",
    "def set_R(row):\n",
    "    if row['age'] != -1:\n",
    "        return 1\n",
    "    else:\n",
    "        return 0  "
   ]
  },
  {
   "cell_type": "markdown",
   "id": "b2a64ae6",
   "metadata": {},
   "source": [
    "#### We calculate the propability of R (indicator if Y observed) being 1 given X"
   ]
  },
  {
   "cell_type": "code",
   "execution_count": 292,
   "id": "e8b1489f",
   "metadata": {},
   "outputs": [],
   "source": [
    "data_sorted['R'] = data_sorted.apply(lambda row: set_R(row), axis=1)\n",
    "temp2 = data_sorted[[\"gender_Male\", \"income_>50K\", \"hours-per-week\", 'R']]\n",
    "temp3 = temp2[[\"gender_Male\", \"income_>50K\", \"hours-per-week\"]]\n",
    "ones = pd.Series([1]*len(temp3))\n",
    "temp = pd.DataFrame(ones, columns = ['x0'])\n",
    "Y_R = temp2['R'].to_numpy()\n",
    "res_R = pd.concat([temp, temp3], axis=1, ignore_index=True)\n",
    "X_R = res.to_numpy()\n",
    "clf = LogisticRegression(random_state=1).fit(X_R, Y_R)\n",
    "beta_R = clf.coef_[0]\n",
    "prediction_R = clf.predict_proba(res_R)"
   ]
  },
  {
   "cell_type": "code",
   "execution_count": 296,
   "id": "31c12670",
   "metadata": {},
   "outputs": [
    {
     "data": {
      "text/plain": [
       "array([ 0.55952199,  0.        ,  0.        , -0.00740416])"
      ]
     },
     "execution_count": 296,
     "metadata": {},
     "output_type": "execute_result"
    }
   ],
   "source": [
    "#estimate beta using the privious cell\n",
    "X_R[:,1:] = (X_R[:,1:].T*(1/np.exp(beta_R@X_R.T)/(np.exp(beta_R@X_R.T)+1))).T\n",
    "beta_hat_ipw = np.linalg.lstsq(X_R, Y_R, rcond=None)[0]\n",
    "beta_hat_ipw"
   ]
  },
  {
   "cell_type": "markdown",
   "id": "0399e11a",
   "metadata": {},
   "source": [
    "#### Calculate CI using bootstrap, estimate S.E. and using normal quantilies"
   ]
  },
  {
   "cell_type": "code",
   "execution_count": 297,
   "id": "bb0a3bea",
   "metadata": {},
   "outputs": [
    {
     "data": {
      "text/plain": [
       "[[0.4401722544815968, 0.6788717345262304],\n",
       " [-0.0695481425176028, 0.0695481425176028],\n",
       " [-0.07018088452937586, 0.07018088452937586],\n",
       " [-0.010169481814218836, -0.0046388383607032894]]"
      ]
     },
     "execution_count": 297,
     "metadata": {},
     "output_type": "execute_result"
    }
   ],
   "source": [
    "beta_bootstrap_ipw = []\n",
    "for i in range(B):\n",
    "    boot_df = data_sorted.sample(n=1000, replace=True, random_state = i+1)\n",
    "    X_boot_df = boot_df.values[:,1:4]\n",
    "    o_boot_df = np.ones(boot_df.shape[0])\n",
    "    X_boot_df = np.vstack((o_boot_df,X_boot_df.T)).T\n",
    "    Y_boot_df = boot_df.values[:,4]\n",
    "    beta_hat_boot_df=(inv(X_boot_df.T@X_boot_df)@X_boot_df.T)@Y_boot_df\n",
    "    beta_bootstrap_ipw.append(beta_hat_boot_df)\n",
    "T_n_ipw = np.array(beta_bootstrap_ipw)\n",
    "CI_list_ipw = []\n",
    "for i in range(len(beta_hat_ipw)):\n",
    "    beta_i = T_n_ipw[:,i]\n",
    "    var_T_i = np.mean(beta_i**2) - np.mean(beta_i)**2\n",
    "    CI_list_ipw.append([beta_hat_ipw[i]-2*np.sqrt(var_T_i), beta_hat_ipw[i]+2*np.sqrt(var_T_i)])\n",
    "CI_list_ipw"
   ]
  },
  {
   "cell_type": "markdown",
   "id": "899f1b07",
   "metadata": {},
   "source": [
    "#### All of the CIs contain there parameter"
   ]
  },
  {
   "cell_type": "code",
   "execution_count": 298,
   "id": "afe6d07c",
   "metadata": {},
   "outputs": [
    {
     "name": "stdout",
     "output_type": "stream",
     "text": [
      "The coefficient vector for all data is:\n",
      "[3.38339215e+01 2.60541746e+00 5.44964136e+00 3.08888654e-02]\n",
      "The coefficient vector with missing data is:\n",
      "[25.6258181   2.6622726   6.76891257  0.11190691]\n",
      "The coefficient vector with regression imputation is:\n",
      "[22.77191456 17.93782334 24.39671336  2.77858545]\n",
      "The coefficient vector with multiple imputation is:\n",
      "{'x0': 22.66133822392887, 'gender_Male': 17.967343453289555, 'income_>50K': 24.3772782312251, 'hours-per-week': 2.7805685753208267}\n",
      "The coefficient vector with IPW estimetir is:\n",
      "[ 0.55952199  0.          0.         -0.00740416]\n"
     ]
    }
   ],
   "source": [
    "print('The coefficient vector for all data is:')\n",
    "print(beta_hat_1000)\n",
    "print('The coefficient vector with missing data is:')\n",
    "print(beta_hat_mis)\n",
    "print('The coefficient vector with regression imputation is:')\n",
    "print(beta_hat_reg)\n",
    "print('The coefficient vector with multiple imputation is:')\n",
    "print(sum_dict)\n",
    "print('The coefficient vector with IPW estimetir is:')\n",
    "print(beta_hat_ipw)"
   ]
  },
  {
   "cell_type": "code",
   "execution_count": 299,
   "id": "8c4274f5",
   "metadata": {},
   "outputs": [
    {
     "data": {
      "image/png": "[encoded data removed]",
      "text/plain": [
       "<Figure size 432x288 with 1 Axes>"
      ]
     },
     "metadata": {
      "needs_background": "light"
     },
     "output_type": "display_data"
    },
    {
     "data": {
      "image/png": "[encoded data removed]",
      "text/plain": [
       "<Figure size 432x288 with 1 Axes>"
      ]
     },
     "metadata": {
      "needs_background": "light"
     },
     "output_type": "display_data"
    },
    {
     "data": {
      "image/png": "[encoded data removed]",
      "text/plain": [
       "<Figure size 432x288 with 1 Axes>"
      ]
     },
     "metadata": {
      "needs_background": "light"
     },
     "output_type": "display_data"
    },
    {
     "data": {
      "image/png": "[encoded data removed]",
      "text/plain": [
       "<Figure size 432x288 with 1 Axes>"
      ]
     },
     "metadata": {
      "needs_background": "light"
     },
     "output_type": "display_data"
    }
   ],
   "source": [
    "ticks=['','all data', 'missing data', 'regression imputation', 'multiple imputation', 'IPW']\n",
    "CI = [CI_list, CI_list_mis, CI_list_reg, CI_mult_imput, CI_list_norm_boot]\n",
    "for i in range(4):\n",
    "    for j in range(5):\n",
    "        plt.plot((CI[j][i][0],CI[j][i][1]),(j+1,j+1),'o-')\n",
    "    plt.yticks(range(len(ticks)),ticks)\n",
    "    plt.axvline(beta_hat[i], color='#eea29a', linestyle='dotted')\n",
    "    plt.show()"
   ]
  }
 ],
 "metadata": {
  "kernelspec": {
   "display_name": "Python 3",
   "language": "python",
   "name": "python3"
  },
  "language_info": {
   "codemirror_mode": {
    "name": "ipython",
    "version": 3
   },
   "file_extension": ".py",
   "mimetype": "text/x-python",
   "name": "python",
   "nbconvert_exporter": "python",
   "pygments_lexer": "ipython3",
   "version": "3.8.0"
  }
 },
 "nbformat": 4,
 "nbformat_minor": 5
}
